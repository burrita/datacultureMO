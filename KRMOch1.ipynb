{
 "cells": [
  {
   "cell_type": "markdown",
   "metadata": {},
   "source": [
    "## 1. Меньше текста, больше кода\n",
    "\n",
    "**Напутствие**:\n",
    "- *главное, не бояться пробовать писать код*\n",
    "- *каким бы неправильным он ни казался*\n",
    "- *скорее всего, ничего такого, что не починится, в рамках Jupyter Notebook вы сделать не сможете* \n",
    "\n",
    "**Краткая инструкция на все случаи жизни**:\n",
    "- Как создать новую ячейку?\n",
    "\n",
    "> Просто нажать кнопку `+` (*insert cell below*).\n",
    "\n",
    "- Как запустить код в ячейке?\n",
    "\n",
    "> Выделить ячейку и нажать кнопку `Run` или `Ctrl + Enter` *(см. Help - Keyboard Shortcuts)*.\n",
    "\n",
    "- Как понять, что код успешно выполнен?\n",
    "\n",
    "> Под ячейкой не появились сообщения об ошибках + поле `In []` слева от ячейки содержит число, а не символ `*`.\n",
    "\n",
    "- Что делать, если код не хочет успешно выполняться, поле слева выглядит вот так `In [*]` и вообще всё зависло аааа помогите\n",
    "<img src=\"https://pp.userapi.com/c543103/v543103112/326eb/UnK2PZuGroQ.jpg\" alt=\"Drawing\" style=\"width: 200px;\"/>\n",
    "\n",
    "> Для прерывания выполнения кода можно попробовать нажать кнопку `■` (*interrupt the kernel*) в панели наверху, либо перезапустить весь проект, нажав соседнюю кнопку (*restart the kernel*).\n",
    "\n",
    "*В некоторых ячейках вам нужно будет дописать свой код и добиться его **успешного** выполнения.*\n",
    "\n",
    "### Итак, начнем!\n",
    "\n",
    "![](https://toidicodedao.files.wordpress.com/2015/06/keep-calm-and-code-on-821.png?w=536&h=335)"
   ]
  },
  {
   "cell_type": "markdown",
   "metadata": {},
   "source": [
    "Ниже приведены несколько арифметических операций, которые могут понадобиться в дальнейшем:"
   ]
  },
  {
   "cell_type": "code",
   "execution_count": 2,
   "metadata": {},
   "outputs": [
    {
     "name": "stdout",
     "output_type": "stream",
     "text": [
      "5\n",
      "1\n"
     ]
    }
   ],
   "source": [
    "# сложение\n",
    "print(3 + 2)\n",
    "# вычитание\n",
    "print(3 - 2)"
   ]
  },
  {
   "cell_type": "code",
   "execution_count": 3,
   "metadata": {},
   "outputs": [
    {
     "name": "stdout",
     "output_type": "stream",
     "text": [
      "6\n",
      "1.5\n",
      "1\n"
     ]
    }
   ],
   "source": [
    "# умножение\n",
    "print(3 * 2)\n",
    "# деление\n",
    "print(3 / 2)\n",
    "# взятие остатка от деления\n",
    "print(3 % 2)"
   ]
  },
  {
   "cell_type": "code",
   "execution_count": 4,
   "metadata": {},
   "outputs": [
    {
     "name": "stdout",
     "output_type": "stream",
     "text": [
      "9\n",
      "1.7320508075688772\n"
     ]
    }
   ],
   "source": [
    "# возведение в степень\n",
    "print(3 ** 2)\n",
    "# взятие корня aka возведение в дробную степень\n",
    "print(3 ** (1 / 2))"
   ]
  },
  {
   "cell_type": "markdown",
   "metadata": {},
   "source": [
    "- не путайте целочисленное и вещественное деление\n",
    "\n",
    "А именно:"
   ]
  },
  {
   "cell_type": "code",
   "execution_count": 5,
   "metadata": {},
   "outputs": [
    {
     "name": "stdout",
     "output_type": "stream",
     "text": [
      "4.5\n",
      "4\n",
      "1\n"
     ]
    }
   ],
   "source": [
    "print(9 / 2)  # печатает ожидаемый дробный результат\n",
    "print(9 // 2)  # целочисленное деление\n",
    "print(9 % 2)  # остаток от (целочисленного) отделения"
   ]
  },
  {
   "cell_type": "markdown",
   "metadata": {},
   "source": [
    "С помощью `print` можно печатать не только числа. Например, текст:\n",
    "- текстовая строка в питоне -- это любое выражение, заключённое в двойные `\"` или одинарные `'` кавычки\n",
    "- с точки зрения пользователя ничем не отличается от привычного текста\n",
    "\n",
    "Например:"
   ]
  },
  {
   "cell_type": "code",
   "execution_count": 6,
   "metadata": {},
   "outputs": [
    {
     "name": "stdout",
     "output_type": "stream",
     "text": [
      "Моё имя:\n"
     ]
    }
   ],
   "source": [
    "print('Моё имя:')"
   ]
  },
  {
   "cell_type": "markdown",
   "metadata": {},
   "source": [
    "Ещё строки можно\n",
    "- складывать\n",
    "- умножать на число\n",
    "- см. встроенные методы класса `str`\n",
    "\n",
    "**lifehack**: *если написать `str.` и нажать клавишу `Tab`, появится список доступных для строк методов*."
   ]
  },
  {
   "cell_type": "code",
   "execution_count": 7,
   "metadata": {},
   "outputs": [
    {
     "name": "stdout",
     "output_type": "stream",
     "text": [
      "how\n",
      "how are\n",
      "howhowhow\n",
      " are areyou?\n",
      "~~~~~~~~~~~~~~~~~~~~~~~~~~~~~~~~~~~~~~~~~~~~~~~~END~~~~~~~~~~~~~~~~~~~~~~~~~~~~~~~~~~~~~~~~~~~~~~~~~\n"
     ]
    }
   ],
   "source": [
    "print('how')\n",
    "print('how' + ' ' + 'are')\n",
    "print('how' * 3)\n",
    "print(' are' * 2 + 'you?')\n",
    "print('END'.center(100, '~'))"
   ]
  },
  {
   "cell_type": "markdown",
   "metadata": {},
   "source": [
    "## 2. Модули в Python\n",
    "\n",
    "Некоторые функции (например, `print`) встроены в сам Python и вам не нужны никакие дополнительные действия, чтобы этими функциями воспользоваться.\n",
    "\n",
    "Но часто нужны более сложные операции.\n",
    "\n",
    "Например, вам нужно посчитать зависимость размера котика от объёма потребляемой им пищи. И формула, выражающая эту взаимосвязь, примерно такая:\n",
    "$$\n",
    "  \\text{size} = \\sqrt{0.03 + \\log(6) \\div 3 - cos\\left(\\text{food}\\right)}\n",
    "$$\n",
    "\n",
    "Непосредственно в стандартных питонячьих функциях нет такой операции, как взятие корня, например. <br></br>\n",
    "Правда, эту проблему можно обойти, зная, что взять квадратный корень числа это то же самое, что возвести число в степень $0.5$:"
   ]
  },
  {
   "cell_type": "code",
   "execution_count": 8,
   "metadata": {},
   "outputs": [
    {
     "name": "stdout",
     "output_type": "stream",
     "text": [
      "5.0\n"
     ]
    }
   ],
   "source": [
    "print(25 ** 0.5)"
   ]
  },
  {
   "cell_type": "markdown",
   "metadata": {},
   "source": [
    "Но, например, с логарифмом всё гораздо хуже.\n",
    "\n",
    "Для подобных ситуаций в Python предусмотрены _модули_ -- наборы функций, предназначенных для каких-нибудь ускоспециализированных задач.\n",
    "\n",
    "Например, рассмотрим модуль `math`. Как нетрудно догадаться, он содержит функции для более продвинутых математических вычислений.\n",
    "\n",
    "Чтобы загрузить модуль, необходимо написать в коде строку `import <имя_модуля>`, после чего вам станут доступны все функции, которые в модуле хранятся:"
   ]
  },
  {
   "cell_type": "code",
   "execution_count": 9,
   "metadata": {},
   "outputs": [],
   "source": [
    "import math"
   ]
  },
  {
   "cell_type": "markdown",
   "metadata": {},
   "source": [
    "Чтобы обратиться к функции внутри модуля `math`, достаточно написать следующее:"
   ]
  },
  {
   "cell_type": "code",
   "execution_count": 10,
   "metadata": {},
   "outputs": [
    {
     "name": "stdout",
     "output_type": "stream",
     "text": [
      "5.0\n"
     ]
    }
   ],
   "source": [
    "import math  # загружаем модуль\n",
    "\n",
    "print(math.sqrt(25))"
   ]
  },
  {
   "cell_type": "markdown",
   "metadata": {},
   "source": [
    "# 1. Списки"
   ]
  },
  {
   "cell_type": "markdown",
   "metadata": {},
   "source": [
    "*Список* можно создать, заключив его элементы в квадратные скобки `[]`.\n",
    "\n",
    "Пустой список можно создать либо с помощью скобок `[]`, либо с помощью функции `list()`.\n",
    "\n",
    "Можно:\n",
    "- складывать\n",
    "- умножать\n",
    "- обращаться к элементу по индексу **(нумерация с элементов списка начинается с $0$)**\n",
    "- обращаться сразу к нескольким элементам (slice)\n",
    "- присваивать значение по индексу\n",
    "- добавлять значения в конец списка (см. встроенные методы класса `list`)"
   ]
  },
  {
   "cell_type": "code",
   "execution_count": 11,
   "metadata": {},
   "outputs": [
    {
     "name": "stdout",
     "output_type": "stream",
     "text": [
      "list1: ['la']\n",
      "list1 * 3: ['la', 'la', 'la']\n",
      "\n",
      "list2: [2, 3, 'la', 'la', 'la']\n",
      "list2[2]: la\n",
      "длина list2: 5\n"
     ]
    }
   ],
   "source": [
    "list1 = ['la']  # создание нового листа с одним объектом\n",
    "print('list1:' , list1)\n",
    "list12 = list1 * 3\n",
    "print('list1 * 3:', list12)\n",
    "\n",
    "list2 = [2, 3] + list12  # сложение листов\n",
    "print('\\nlist2:', list2)\n",
    "print('list2[2]:', list2[2])\n",
    "print('длина list2:', len(list2))  # функция len выводит длину листа"
   ]
  },
  {
   "cell_type": "code",
   "execution_count": 12,
   "metadata": {},
   "outputs": [
    {
     "name": "stdout",
     "output_type": "stream",
     "text": [
      "\n",
      "list1.append(list2): ['la', [2, 3, 'la', 'la', 'la']]\n"
     ]
    }
   ],
   "source": [
    "list1.append(list2) #добавляем элемент в конец списка\n",
    "print('\\nlist1.append(list2):', list1)"
   ]
  },
  {
   "cell_type": "markdown",
   "metadata": {},
   "source": [
    "Конструкция `list[i1:i2]` позволяет получить доступ ко всем элементам с `i1`-го по `i2 - 1`-ый включительно:"
   ]
  },
  {
   "cell_type": "code",
   "execution_count": 13,
   "metadata": {},
   "outputs": [
    {
     "name": "stdout",
     "output_type": "stream",
     "text": [
      "list2[0:4]: [2, 3, 'la', 'la']\n"
     ]
    }
   ],
   "source": [
    "print('list2[0:4]:', list2[0:4])"
   ]
  },
  {
   "cell_type": "markdown",
   "metadata": {},
   "source": [
    "**Важно**: никогда, <span style=\"color:red\">**никогда**</span> не давайте переменной имя, которое \"зарезервировано\" питоном. Например, нельзя называть переменные такими именами:\n",
    "- len\n",
    "- print\n",
    "- list\n",
    "- def\n",
    "- dict\n",
    "\n",
    "Такие имена обычно подсвечиваются в Jupyter Notebook <span style=\"color:green\">зелёным</span> цветом:"
   ]
  },
  {
   "cell_type": "markdown",
   "metadata": {},
   "source": [
    "# 2. Словари"
   ]
  },
  {
   "cell_type": "markdown",
   "metadata": {},
   "source": [
    "*Словарь* можно создать, заключив его элементы (пары `ключ:значение`) в фигурные скобки `{}`.\n",
    "\n",
    "Можно:\n",
    "- добавлять новые элементы\n",
    "- арифметические операции не поддерживаются"
   ]
  },
  {
   "cell_type": "markdown",
   "metadata": {},
   "source": [
    "Создадим пустой словарь"
   ]
  },
  {
   "cell_type": "code",
   "execution_count": 14,
   "metadata": {},
   "outputs": [
    {
     "data": {
      "text/plain": [
       "{}"
      ]
     },
     "execution_count": 14,
     "metadata": {},
     "output_type": "execute_result"
    }
   ],
   "source": [
    "empty_dict = {}\n",
    "empty_dict"
   ]
  },
  {
   "cell_type": "code",
   "execution_count": 15,
   "metadata": {},
   "outputs": [
    {
     "data": {
      "text/plain": [
       "{}"
      ]
     },
     "execution_count": 15,
     "metadata": {},
     "output_type": "execute_result"
    }
   ],
   "source": [
    "empty_dict = dict()\n",
    "empty_dict"
   ]
  },
  {
   "cell_type": "code",
   "execution_count": 16,
   "metadata": {},
   "outputs": [],
   "source": [
    "dict1 = {'human': 'человек', 'кошка': 'cat', 'дерево': 'tree'}"
   ]
  },
  {
   "cell_type": "code",
   "execution_count": 17,
   "metadata": {},
   "outputs": [],
   "source": [
    "dict2 = dict(zip(['one', 'two', 'three'], [1, 2, 3])) "
   ]
  },
  {
   "cell_type": "markdown",
   "metadata": {},
   "source": [
    "Выведение ключей:"
   ]
  },
  {
   "cell_type": "code",
   "execution_count": 18,
   "metadata": {},
   "outputs": [
    {
     "name": "stdout",
     "output_type": "stream",
     "text": [
      "dict1 keys: dict_keys(['human', 'кошка', 'дерево'])\n"
     ]
    }
   ],
   "source": [
    "print('dict1 keys:', dict1.keys())"
   ]
  },
  {
   "cell_type": "markdown",
   "metadata": {},
   "source": [
    "Добавление новых элементов в словарь:"
   ]
  },
  {
   "cell_type": "code",
   "execution_count": 19,
   "metadata": {},
   "outputs": [
    {
     "name": "stdout",
     "output_type": "stream",
     "text": [
      "added element to dict2: {'one': 1, 'two': 2, 'three': 3, 'eighty': 80}\n"
     ]
    }
   ],
   "source": [
    "# добавление элемента 80 в словарь по ключу 'eighty'\n",
    "dict2['eighty'] = 80\n",
    "print('added element to dict2:', dict2)"
   ]
  },
  {
   "cell_type": "markdown",
   "metadata": {},
   "source": [
    "# 3. Условия"
   ]
  },
  {
   "cell_type": "markdown",
   "metadata": {},
   "source": [
    "![](http://krivaksin.ru/wp-content/uploads/2015/11/2015-11-11-11-51-19-Microsoft-PowerPoint-Prezentatsiya1.png)"
   ]
  },
  {
   "cell_type": "markdown",
   "metadata": {},
   "source": [
    "Синтаксис в питоне: <br />\n",
    "**if** условие1:<br />\n",
    "&emsp; команды<br />\n",
    "**elif** условие2:<br />\n",
    "&emsp; команды<br />\n",
    "**elif** условие3:<br />\n",
    "&emsp; команды<br />\n",
    "**else**: <br />\n",
    "&emsp; команды<br />\n",
    "\n",
    "Все команды пишутся с отступом. "
   ]
  },
  {
   "cell_type": "code",
   "execution_count": 20,
   "metadata": {},
   "outputs": [
    {
     "name": "stdout",
     "output_type": "stream",
     "text": [
      "Y больше X\n",
      "1\n"
     ]
    }
   ],
   "source": [
    "# Значения переменных x и y можно менять.\n",
    "x = 1\n",
    "y = 2\n",
    "if x > y:\n",
    "    print('X больше Y')\n",
    "    print(x - y)\n",
    "elif y > x:\n",
    "    print('Y больше X')\n",
    "    print(y - x)\n",
    "else:\n",
    "    print('X равно Y')"
   ]
  },
  {
   "cell_type": "markdown",
   "metadata": {},
   "source": [
    "Как правило, в качестве проверяемого условия используется результат вычисления одного из следующих операторов сравнения:\n",
    "\n",
    "<center> \n",
    "    <table>\n",
    "        <tr>\n",
    "            <th>Логическое выражение </th>\n",
    "            <th> Значение </th>\n",
    "        </tr> \n",
    "        <tr><td>&lt;</td><td> Первый операнд меньше второго </td></tr>\n",
    "        <tr><td>&gt;</td><td> Первый операнд больше второго</td></tr>\n",
    "        <tr><td>&lt;=</td><td> Меньше или равно</td></tr>\n",
    "        <tr><td>&gt;=</td><td> Больше или равно</td></tr>\n",
    "        <tr><td>==</td><td> Два операнда равны </td></tr>\n",
    "        <tr><td>!=</td><td> Два операнда не равны</td></tr>\n",
    "    </table>\n",
    "</center>"
   ]
  },
  {
   "cell_type": "code",
   "execution_count": 21,
   "metadata": {},
   "outputs": [
    {
     "name": "stdout",
     "output_type": "stream",
     "text": [
      "\n",
      "is it an odd number?\n",
      "YES\n",
      "that's it\n"
     ]
    }
   ],
   "source": [
    "# Значение переменной a можно менять.\n",
    "a = 153\n",
    "\n",
    "print('\\nis it an odd number?')\n",
    "if not a % 2 == 0:\n",
    "    # не забывайте про отступ!\n",
    "    # выполнится только при выполнении условия\n",
    "    print(\"YES\")\n",
    "else:\n",
    "    # выполнится только при невыполнении условия\n",
    "    print(\"NO\")\n",
    "# выполнится в любом случае\n",
    "print(\"that's it\")"
   ]
  },
  {
   "cell_type": "markdown",
   "metadata": {},
   "source": [
    "Чтобы записать сложное логическое выражение, часто бывают нужны связки \"и\", \"или\" и \"не\".\n",
    "\n",
    "В Питоне они обозначаются как **and**, **or** и **not** соответственно.\n",
    "\n",
    "Операции **and** и **or** являеются бинарными, т.е. должны быть записаны между операндами, например x < 3 or y > 2\n",
    "\n",
    "Операция **not** - унарная и должна быть записана перед единственным своим операндом. Например not 3"
   ]
  },
  {
   "cell_type": "markdown",
   "metadata": {},
   "source": [
    "# 4. Ввод данных с клавиатуры\n",
    "Иногда для взаимодействия с пользователем требуется попросить его ввести входные числа / ответ на вопрос.\n",
    "\n",
    "Для этого в Python предусмотрена команда `input()`, которая возвращает *строку* с введёнными данными:"
   ]
  },
  {
   "cell_type": "code",
   "execution_count": 22,
   "metadata": {},
   "outputs": [
    {
     "name": "stdout",
     "output_type": "stream",
     "text": [
      "5\n",
      "some_input: 5 <class 'str'>\n"
     ]
    }
   ],
   "source": [
    "some_input = input()\n",
    "print('some_input:', some_input, type(some_input))"
   ]
  },
  {
   "cell_type": "markdown",
   "metadata": {},
   "source": [
    "Таким образом, чтобы считать число, необходимо вручную преобразовать его из строки в числовой формат:"
   ]
  },
  {
   "cell_type": "code",
   "execution_count": 23,
   "metadata": {},
   "outputs": [
    {
     "name": "stdout",
     "output_type": "stream",
     "text": [
      "4\n",
      "some_input: 4.0 <class 'float'>\n"
     ]
    }
   ],
   "source": [
    "some_input = float(input())\n",
    "print('some_input:', some_input, type(some_input))"
   ]
  },
  {
   "cell_type": "markdown",
   "metadata": {},
   "source": [
    "В `input()` в качестве аргумента можно передать текстовое сообщение, которое будет отображаться для пользователя перед вводом данных:"
   ]
  },
  {
   "cell_type": "code",
   "execution_count": 24,
   "metadata": {},
   "outputs": [
    {
     "name": "stdout",
     "output_type": "stream",
     "text": [
      "Insert a number: 4\n",
      "some_input: 4 <class 'int'>\n"
     ]
    }
   ],
   "source": [
    "some_input = int(input(\"Insert a number: \"))\n",
    "print('some_input:', some_input, type(some_input))"
   ]
  },
  {
   "cell_type": "markdown",
   "metadata": {},
   "source": [
    "### Циклы: for "
   ]
  },
  {
   "cell_type": "markdown",
   "metadata": {},
   "source": [
    "Циклы используются в тех случаях, когда нам нужно сделать что-нибудь много раз.\n",
    "\n",
    " \n",
    "Цикл `for` - нужно повторить что-нибудь n-ное количество раз.\n"
   ]
  },
  {
   "cell_type": "code",
   "execution_count": 25,
   "metadata": {},
   "outputs": [],
   "source": [
    "# У нас есть список покупок:\n",
    "shoplist = ['apple', 'cola', 'milk', 'bread', 'towel']"
   ]
  },
  {
   "cell_type": "code",
   "execution_count": 26,
   "metadata": {},
   "outputs": [
    {
     "name": "stdout",
     "output_type": "stream",
     "text": [
      "apple\n",
      "cola\n",
      "milk\n",
      "bread\n",
      "towel\n"
     ]
    }
   ],
   "source": [
    "# Хотим напечатать элементы\n",
    "for item in shoplist:\n",
    "    print(item)"
   ]
  },
  {
   "cell_type": "markdown",
   "metadata": {},
   "source": [
    "Можно изменять элементы списка в цикле."
   ]
  },
  {
   "cell_type": "code",
   "execution_count": 27,
   "metadata": {},
   "outputs": [
    {
     "name": "stdout",
     "output_type": "stream",
     "text": [
      "[3, 4, 5, 6, 7]\n"
     ]
    }
   ],
   "source": [
    "list1 = [1, 2, 3, 4, 5]\n",
    "\n",
    "i = 0\n",
    "for item in list1:\n",
    "    list1[i] = item + 2\n",
    "    i += 1\n",
    "\n",
    "print(list1)"
   ]
  },
  {
   "cell_type": "markdown",
   "metadata": {},
   "source": [
    "Можно делать проще: использовать встроенную функцию <b>range(x,y,step)</b>, которая задает последовательность чисел из диапазона от <b>x</b> до <b>y-1</b> с шагом <b>step</b>."
   ]
  },
  {
   "cell_type": "code",
   "execution_count": 28,
   "metadata": {},
   "outputs": [
    {
     "name": "stdout",
     "output_type": "stream",
     "text": [
      "apple\n",
      "cola\n",
      "milk\n",
      "bread\n"
     ]
    }
   ],
   "source": [
    "for i in range(4):\n",
    "    print(shoplist[i])"
   ]
  },
  {
   "cell_type": "markdown",
   "metadata": {},
   "source": [
    "Что сделали: написали, что для каждого индекса до 4 не включая обращаемся по этому индексу в список shoplist и просим напечатать получившееся значение. Итого: обратились 4 раза и напечатали 4 раза."
   ]
  },
  {
   "cell_type": "markdown",
   "metadata": {},
   "source": [
    "Можно не задавать значение в range явно, а использовать <b>len()</b>, чтобы получать индексы для всех элементов списка."
   ]
  },
  {
   "cell_type": "code",
   "execution_count": 29,
   "metadata": {},
   "outputs": [],
   "source": [
    "list1 = [2, 3, 4, 5, 6]"
   ]
  },
  {
   "cell_type": "code",
   "execution_count": 30,
   "metadata": {},
   "outputs": [
    {
     "data": {
      "text/plain": [
       "range(0, 5)"
      ]
     },
     "execution_count": 30,
     "metadata": {},
     "output_type": "execute_result"
    }
   ],
   "source": [
    "range(len(list1))"
   ]
  },
  {
   "cell_type": "code",
   "execution_count": 31,
   "metadata": {},
   "outputs": [
    {
     "data": {
      "text/plain": [
       "[0, 1, 2, 3, 4]"
      ]
     },
     "execution_count": 31,
     "metadata": {},
     "output_type": "execute_result"
    }
   ],
   "source": [
    "list(range(len(list1)))"
   ]
  },
  {
   "cell_type": "code",
   "execution_count": 32,
   "metadata": {},
   "outputs": [
    {
     "name": "stdout",
     "output_type": "stream",
     "text": [
      "[4, 5, 6, 7, 8]\n"
     ]
    }
   ],
   "source": [
    "for i in range(len(list1)):\n",
    "    # += замена конструкции list1[i] = list1[i] + 2\n",
    "    list1[i] += 2\n",
    "\n",
    "print(list1)"
   ]
  },
  {
   "cell_type": "code",
   "execution_count": 33,
   "metadata": {},
   "outputs": [
    {
     "name": "stdout",
     "output_type": "stream",
     "text": [
      "2\n",
      "4\n",
      "8\n",
      "16\n",
      "32\n",
      "64\n",
      "128\n",
      "256\n",
      "512\n"
     ]
    }
   ],
   "source": [
    "# Цикл от 1 до 10 не включая\n",
    "for x in range(1,10): \n",
    "    print(2**x)"
   ]
  },
  {
   "cell_type": "code",
   "execution_count": 34,
   "metadata": {},
   "outputs": [
    {
     "name": "stdout",
     "output_type": "stream",
     "text": [
      "2\n",
      "8\n",
      "32\n",
      "128\n",
      "512\n"
     ]
    }
   ],
   "source": [
    "# Цикл от 1 до 10 не включая с шагом 2\n",
    "for x in range(1,10,2): \n",
    "    print(2**x)"
   ]
  },
  {
   "cell_type": "markdown",
   "metadata": {},
   "source": [
    "## Работа с модулем Pandas\n",
    "Напомним, что такое модуль: в модуле хранятся функции, которые \"не вместились\" в основной синтаксис языка. Например, рассматривался модуль `math`, который содержал функции из продвинутого калькулятора.\n",
    "\n",
    "![](https://filearmy.s3.amazonaws.com/2017/03/03/25b10be.jpg)\n",
    "\n",
    "Модуль Pandas предназначен для работы с данными, чем-то напоминающей работу в Excel. Данные хранятся в таблице с именованными колонками и пронумерованными строками.\n",
    "\n",
    "Для начала подключим модуль:"
   ]
  },
  {
   "cell_type": "code",
   "execution_count": 35,
   "metadata": {},
   "outputs": [],
   "source": [
    "# Данная конструкция подключает модуль pandas\n",
    "# и позволяет обращаться к его функциям через имя pd.\n",
    "import pandas as pd"
   ]
  },
  {
   "cell_type": "markdown",
   "metadata": {},
   "source": [
    "### Чтение таблицы из файла\n",
    "В `pandas` можно легко и удобно считывать таблицы форматов .csv, .tsv, .xls, .xlsx, ... с помощью функции `read_csv` или `read_excel` в зависимости от формата. В течение курса мы в основном будем считывать из .csv (comma separated values).\n",
    "\n",
    "Рассмотрим таблицу, содержащую различные показатели по странам с $1980$ по $2009$ год, взятые из базы [United Nations System](http://data.un.org/Default.aspx).\n",
    "\n",
    "Считаем данные и выведем первые $5$ строк:"
   ]
  },
  {
   "cell_type": "code",
   "execution_count": 36,
   "metadata": {},
   "outputs": [
    {
     "data": {
      "text/html": [
       "<div>\n",
       "<style scoped>\n",
       "    .dataframe tbody tr th:only-of-type {\n",
       "        vertical-align: middle;\n",
       "    }\n",
       "\n",
       "    .dataframe tbody tr th {\n",
       "        vertical-align: top;\n",
       "    }\n",
       "\n",
       "    .dataframe thead th {\n",
       "        text-align: right;\n",
       "    }\n",
       "</style>\n",
       "<table border=\"1\" class=\"dataframe\">\n",
       "  <thead>\n",
       "    <tr style=\"text-align: right;\">\n",
       "      <th></th>\n",
       "      <th>Country or Area</th>\n",
       "      <th>Life expectancy</th>\n",
       "      <th>Year</th>\n",
       "      <th>Child overweight percent</th>\n",
       "      <th>Child underweight percent</th>\n",
       "      <th>GDP</th>\n",
       "      <th>Literacy</th>\n",
       "      <th>Wage</th>\n",
       "    </tr>\n",
       "  </thead>\n",
       "  <tbody>\n",
       "    <tr>\n",
       "      <th>0</th>\n",
       "      <td>Afghanistan</td>\n",
       "      <td>41.0</td>\n",
       "      <td>1985</td>\n",
       "      <td>NaN</td>\n",
       "      <td>NaN</td>\n",
       "      <td>3322.0</td>\n",
       "      <td>4.99%</td>\n",
       "      <td>NaN</td>\n",
       "    </tr>\n",
       "    <tr>\n",
       "      <th>1</th>\n",
       "      <td>Afghanistan</td>\n",
       "      <td>41.0</td>\n",
       "      <td>1990</td>\n",
       "      <td>NaN</td>\n",
       "      <td>NaN</td>\n",
       "      <td>3622.0</td>\n",
       "      <td>4.99%</td>\n",
       "      <td>NaN</td>\n",
       "    </tr>\n",
       "    <tr>\n",
       "      <th>2</th>\n",
       "      <td>Albania</td>\n",
       "      <td>72.0</td>\n",
       "      <td>1985</td>\n",
       "      <td>NaN</td>\n",
       "      <td>NaN</td>\n",
       "      <td>2339.0</td>\n",
       "      <td>NaN</td>\n",
       "      <td>NaN</td>\n",
       "    </tr>\n",
       "    <tr>\n",
       "      <th>3</th>\n",
       "      <td>Albania</td>\n",
       "      <td>72.0</td>\n",
       "      <td>1990</td>\n",
       "      <td>NaN</td>\n",
       "      <td>NaN</td>\n",
       "      <td>2221.0</td>\n",
       "      <td>NaN</td>\n",
       "      <td>NaN</td>\n",
       "    </tr>\n",
       "    <tr>\n",
       "      <th>4</th>\n",
       "      <td>Algeria</td>\n",
       "      <td>66.0</td>\n",
       "      <td>1985</td>\n",
       "      <td>NaN</td>\n",
       "      <td>NaN</td>\n",
       "      <td>61132.0</td>\n",
       "      <td>NaN</td>\n",
       "      <td>NaN</td>\n",
       "    </tr>\n",
       "  </tbody>\n",
       "</table>\n",
       "</div>"
      ],
      "text/plain": [
       "  Country or Area  Life expectancy  Year  Child overweight percent  \\\n",
       "0     Afghanistan             41.0  1985                       NaN   \n",
       "1     Afghanistan             41.0  1990                       NaN   \n",
       "2         Albania             72.0  1985                       NaN   \n",
       "3         Albania             72.0  1990                       NaN   \n",
       "4         Algeria             66.0  1985                       NaN   \n",
       "\n",
       "   Child underweight percent      GDP Literacy  Wage  \n",
       "0                        NaN   3322.0    4.99%   NaN  \n",
       "1                        NaN   3622.0    4.99%   NaN  \n",
       "2                        NaN   2339.0      NaN   NaN  \n",
       "3                        NaN   2221.0      NaN   NaN  \n",
       "4                        NaN  61132.0      NaN   NaN  "
      ]
     },
     "execution_count": 36,
     "metadata": {},
     "output_type": "execute_result"
    }
   ],
   "source": [
    "countries = pd.read_csv('country_statistics.csv')\n",
    "countries.head(5)"
   ]
  },
  {
   "cell_type": "markdown",
   "metadata": {},
   "source": [
    "Можно узнать размер таблицы (количество строк и столбцов):"
   ]
  },
  {
   "cell_type": "code",
   "execution_count": 37,
   "metadata": {},
   "outputs": [
    {
     "data": {
      "text/plain": [
       "(1697, 8)"
      ]
     },
     "execution_count": 37,
     "metadata": {},
     "output_type": "execute_result"
    }
   ],
   "source": [
    "countries.shape"
   ]
  },
  {
   "cell_type": "markdown",
   "metadata": {},
   "source": [
    "Можно вывести названия всех столбцов:"
   ]
  },
  {
   "cell_type": "code",
   "execution_count": 38,
   "metadata": {},
   "outputs": [
    {
     "data": {
      "text/plain": [
       "Index(['Country or Area', 'Life expectancy', 'Year',\n",
       "       'Child overweight percent', 'Child underweight percent', 'GDP',\n",
       "       'Literacy', 'Wage'],\n",
       "      dtype='object')"
      ]
     },
     "execution_count": 38,
     "metadata": {},
     "output_type": "execute_result"
    }
   ],
   "source": [
    "countries.columns"
   ]
  },
  {
   "cell_type": "markdown",
   "metadata": {},
   "source": [
    "Краткое описание таблицы можно вывести так:"
   ]
  },
  {
   "cell_type": "code",
   "execution_count": 39,
   "metadata": {},
   "outputs": [
    {
     "name": "stdout",
     "output_type": "stream",
     "text": [
      "<class 'pandas.core.frame.DataFrame'>\n",
      "RangeIndex: 1697 entries, 0 to 1696\n",
      "Data columns (total 8 columns):\n",
      " #   Column                     Non-Null Count  Dtype  \n",
      "---  ------                     --------------  -----  \n",
      " 0   Country or Area            1697 non-null   object \n",
      " 1   Life expectancy            703 non-null    float64\n",
      " 2   Year                       1697 non-null   int64  \n",
      " 3   Child overweight percent   569 non-null    float64\n",
      " 4   Child underweight percent  719 non-null    float64\n",
      " 5   GDP                        1697 non-null   float64\n",
      " 6   Literacy                   1271 non-null   object \n",
      " 7   Wage                       216 non-null    float64\n",
      "dtypes: float64(5), int64(1), object(2)\n",
      "memory usage: 106.2+ KB\n"
     ]
    }
   ],
   "source": [
    "countries.info()"
   ]
  },
  {
   "cell_type": "markdown",
   "metadata": {},
   "source": [
    "Из полезного: можно сразу же оценить, сколько пропусков в данных.\n",
    "\n",
    "### Простейшие операции\n",
    "\n",
    "Из таблицы можно получать отдельные колонки, обращаясь к ним по именам, например, так:"
   ]
  },
  {
   "cell_type": "code",
   "execution_count": 40,
   "metadata": {},
   "outputs": [
    {
     "data": {
      "text/plain": [
       "0       1985\n",
       "1       1990\n",
       "2       1985\n",
       "3       1990\n",
       "4       1985\n",
       "        ... \n",
       "1692    1996\n",
       "1693    1984\n",
       "1694    1989\n",
       "1695    1994\n",
       "1696    1987\n",
       "Name: Year, Length: 1697, dtype: int64"
      ]
     },
     "execution_count": 40,
     "metadata": {},
     "output_type": "execute_result"
    }
   ],
   "source": [
    "countries.Year"
   ]
  },
  {
   "cell_type": "markdown",
   "metadata": {},
   "source": [
    "Однако такой способ не сработает, если колонка содержит пробелы (в нашем случае таких большинство). Поэтому в `pandas` предусмотрено эквивалентное решение:"
   ]
  },
  {
   "cell_type": "code",
   "execution_count": 41,
   "metadata": {},
   "outputs": [
    {
     "data": {
      "text/plain": [
       "0       1985\n",
       "1       1990\n",
       "2       1985\n",
       "3       1990\n",
       "4       1985\n",
       "        ... \n",
       "1692    1996\n",
       "1693    1984\n",
       "1694    1989\n",
       "1695    1994\n",
       "1696    1987\n",
       "Name: Year, Length: 1697, dtype: int64"
      ]
     },
     "execution_count": 41,
     "metadata": {},
     "output_type": "execute_result"
    }
   ],
   "source": [
    "countries['Year']"
   ]
  },
  {
   "cell_type": "code",
   "execution_count": 42,
   "metadata": {},
   "outputs": [
    {
     "data": {
      "text/plain": [
       "0       Afghanistan\n",
       "1       Afghanistan\n",
       "2           Albania\n",
       "3           Albania\n",
       "4           Algeria\n",
       "           ...     \n",
       "1692        Vanuatu\n",
       "1693        Vietnam\n",
       "1694        Vietnam\n",
       "1695        Vietnam\n",
       "1696       Zimbabwe\n",
       "Name: Country or Area, Length: 1697, dtype: object"
      ]
     },
     "execution_count": 42,
     "metadata": {},
     "output_type": "execute_result"
    }
   ],
   "source": [
    "countries['Country or Area']"
   ]
  },
  {
   "cell_type": "markdown",
   "metadata": {},
   "source": [
    "Также, можно выводить сразу несколько колонок. Для этого надо передать **список** названий колонок (т.е. после имени таблицы появятся двойные квадратные скобки `[]`):"
   ]
  },
  {
   "cell_type": "code",
   "execution_count": 43,
   "metadata": {},
   "outputs": [
    {
     "data": {
      "text/html": [
       "<div>\n",
       "<style scoped>\n",
       "    .dataframe tbody tr th:only-of-type {\n",
       "        vertical-align: middle;\n",
       "    }\n",
       "\n",
       "    .dataframe tbody tr th {\n",
       "        vertical-align: top;\n",
       "    }\n",
       "\n",
       "    .dataframe thead th {\n",
       "        text-align: right;\n",
       "    }\n",
       "</style>\n",
       "<table border=\"1\" class=\"dataframe\">\n",
       "  <thead>\n",
       "    <tr style=\"text-align: right;\">\n",
       "      <th></th>\n",
       "      <th>Country or Area</th>\n",
       "      <th>Year</th>\n",
       "    </tr>\n",
       "  </thead>\n",
       "  <tbody>\n",
       "    <tr>\n",
       "      <th>0</th>\n",
       "      <td>Afghanistan</td>\n",
       "      <td>1985</td>\n",
       "    </tr>\n",
       "    <tr>\n",
       "      <th>1</th>\n",
       "      <td>Afghanistan</td>\n",
       "      <td>1990</td>\n",
       "    </tr>\n",
       "    <tr>\n",
       "      <th>2</th>\n",
       "      <td>Albania</td>\n",
       "      <td>1985</td>\n",
       "    </tr>\n",
       "    <tr>\n",
       "      <th>3</th>\n",
       "      <td>Albania</td>\n",
       "      <td>1990</td>\n",
       "    </tr>\n",
       "    <tr>\n",
       "      <th>4</th>\n",
       "      <td>Algeria</td>\n",
       "      <td>1985</td>\n",
       "    </tr>\n",
       "    <tr>\n",
       "      <th>...</th>\n",
       "      <td>...</td>\n",
       "      <td>...</td>\n",
       "    </tr>\n",
       "    <tr>\n",
       "      <th>1692</th>\n",
       "      <td>Vanuatu</td>\n",
       "      <td>1996</td>\n",
       "    </tr>\n",
       "    <tr>\n",
       "      <th>1693</th>\n",
       "      <td>Vietnam</td>\n",
       "      <td>1984</td>\n",
       "    </tr>\n",
       "    <tr>\n",
       "      <th>1694</th>\n",
       "      <td>Vietnam</td>\n",
       "      <td>1989</td>\n",
       "    </tr>\n",
       "    <tr>\n",
       "      <th>1695</th>\n",
       "      <td>Vietnam</td>\n",
       "      <td>1994</td>\n",
       "    </tr>\n",
       "    <tr>\n",
       "      <th>1696</th>\n",
       "      <td>Zimbabwe</td>\n",
       "      <td>1987</td>\n",
       "    </tr>\n",
       "  </tbody>\n",
       "</table>\n",
       "<p>1697 rows × 2 columns</p>\n",
       "</div>"
      ],
      "text/plain": [
       "     Country or Area  Year\n",
       "0        Afghanistan  1985\n",
       "1        Afghanistan  1990\n",
       "2            Albania  1985\n",
       "3            Albania  1990\n",
       "4            Algeria  1985\n",
       "...              ...   ...\n",
       "1692         Vanuatu  1996\n",
       "1693         Vietnam  1984\n",
       "1694         Vietnam  1989\n",
       "1695         Vietnam  1994\n",
       "1696        Zimbabwe  1987\n",
       "\n",
       "[1697 rows x 2 columns]"
      ]
     },
     "execution_count": 43,
     "metadata": {},
     "output_type": "execute_result"
    }
   ],
   "source": [
    "countries[['Country or Area', 'Year']]"
   ]
  },
  {
   "cell_type": "markdown",
   "metadata": {},
   "source": [
    "Вывести строки с конкретным значением в столбце можно так:"
   ]
  },
  {
   "cell_type": "code",
   "execution_count": 44,
   "metadata": {},
   "outputs": [
    {
     "data": {
      "text/html": [
       "<div>\n",
       "<style scoped>\n",
       "    .dataframe tbody tr th:only-of-type {\n",
       "        vertical-align: middle;\n",
       "    }\n",
       "\n",
       "    .dataframe tbody tr th {\n",
       "        vertical-align: top;\n",
       "    }\n",
       "\n",
       "    .dataframe thead th {\n",
       "        text-align: right;\n",
       "    }\n",
       "</style>\n",
       "<table border=\"1\" class=\"dataframe\">\n",
       "  <thead>\n",
       "    <tr style=\"text-align: right;\">\n",
       "      <th></th>\n",
       "      <th>Country or Area</th>\n",
       "      <th>Life expectancy</th>\n",
       "      <th>Year</th>\n",
       "      <th>Child overweight percent</th>\n",
       "      <th>Child underweight percent</th>\n",
       "      <th>GDP</th>\n",
       "      <th>Literacy</th>\n",
       "      <th>Wage</th>\n",
       "    </tr>\n",
       "  </thead>\n",
       "  <tbody>\n",
       "    <tr>\n",
       "      <th>335</th>\n",
       "      <td>Afghanistan</td>\n",
       "      <td>42.0</td>\n",
       "      <td>1995</td>\n",
       "      <td>NaN</td>\n",
       "      <td>NaN</td>\n",
       "      <td>3236.0</td>\n",
       "      <td>4.99%</td>\n",
       "      <td>NaN</td>\n",
       "    </tr>\n",
       "    <tr>\n",
       "      <th>336</th>\n",
       "      <td>Albania</td>\n",
       "      <td>72.0</td>\n",
       "      <td>1995</td>\n",
       "      <td>NaN</td>\n",
       "      <td>NaN</td>\n",
       "      <td>2882.0</td>\n",
       "      <td>NaN</td>\n",
       "      <td>NaN</td>\n",
       "    </tr>\n",
       "    <tr>\n",
       "      <th>337</th>\n",
       "      <td>Algeria</td>\n",
       "      <td>68.0</td>\n",
       "      <td>1995</td>\n",
       "      <td>13.166667</td>\n",
       "      <td>11.3</td>\n",
       "      <td>42066.0</td>\n",
       "      <td>35.84%</td>\n",
       "      <td>NaN</td>\n",
       "    </tr>\n",
       "    <tr>\n",
       "      <th>338</th>\n",
       "      <td>Angola</td>\n",
       "      <td>40.5</td>\n",
       "      <td>1995</td>\n",
       "      <td>NaN</td>\n",
       "      <td>NaN</td>\n",
       "      <td>6197.0</td>\n",
       "      <td>NaN</td>\n",
       "      <td>NaN</td>\n",
       "    </tr>\n",
       "    <tr>\n",
       "      <th>339</th>\n",
       "      <td>Argentina</td>\n",
       "      <td>72.5</td>\n",
       "      <td>1995</td>\n",
       "      <td>NaN</td>\n",
       "      <td>NaN</td>\n",
       "      <td>280080.0</td>\n",
       "      <td>96.04%</td>\n",
       "      <td>NaN</td>\n",
       "    </tr>\n",
       "    <tr>\n",
       "      <th>...</th>\n",
       "      <td>...</td>\n",
       "      <td>...</td>\n",
       "      <td>...</td>\n",
       "      <td>...</td>\n",
       "      <td>...</td>\n",
       "      <td>...</td>\n",
       "      <td>...</td>\n",
       "      <td>...</td>\n",
       "    </tr>\n",
       "    <tr>\n",
       "      <th>513</th>\n",
       "      <td>Vietnam</td>\n",
       "      <td>68.0</td>\n",
       "      <td>1995</td>\n",
       "      <td>NaN</td>\n",
       "      <td>NaN</td>\n",
       "      <td>20798.0</td>\n",
       "      <td>82.83%</td>\n",
       "      <td>NaN</td>\n",
       "    </tr>\n",
       "    <tr>\n",
       "      <th>514</th>\n",
       "      <td>Yemen</td>\n",
       "      <td>55.5</td>\n",
       "      <td>1995</td>\n",
       "      <td>NaN</td>\n",
       "      <td>NaN</td>\n",
       "      <td>12796.0</td>\n",
       "      <td>17.06%</td>\n",
       "      <td>NaN</td>\n",
       "    </tr>\n",
       "    <tr>\n",
       "      <th>515</th>\n",
       "      <td>Zambia</td>\n",
       "      <td>46.5</td>\n",
       "      <td>1995</td>\n",
       "      <td>NaN</td>\n",
       "      <td>NaN</td>\n",
       "      <td>3799.0</td>\n",
       "      <td>57.36%</td>\n",
       "      <td>NaN</td>\n",
       "    </tr>\n",
       "    <tr>\n",
       "      <th>516</th>\n",
       "      <td>Zimbabwe</td>\n",
       "      <td>60.5</td>\n",
       "      <td>1995</td>\n",
       "      <td>NaN</td>\n",
       "      <td>NaN</td>\n",
       "      <td>8263.0</td>\n",
       "      <td>78.52%</td>\n",
       "      <td>NaN</td>\n",
       "    </tr>\n",
       "    <tr>\n",
       "      <th>1679</th>\n",
       "      <td>Syrian Arab Republic</td>\n",
       "      <td>NaN</td>\n",
       "      <td>1995</td>\n",
       "      <td>NaN</td>\n",
       "      <td>11.3</td>\n",
       "      <td>16556.0</td>\n",
       "      <td>37.06%</td>\n",
       "      <td>NaN</td>\n",
       "    </tr>\n",
       "  </tbody>\n",
       "</table>\n",
       "<p>183 rows × 8 columns</p>\n",
       "</div>"
      ],
      "text/plain": [
       "           Country or Area  Life expectancy  Year  Child overweight percent  \\\n",
       "335            Afghanistan             42.0  1995                       NaN   \n",
       "336                Albania             72.0  1995                       NaN   \n",
       "337                Algeria             68.0  1995                 13.166667   \n",
       "338                 Angola             40.5  1995                       NaN   \n",
       "339              Argentina             72.5  1995                       NaN   \n",
       "...                    ...              ...   ...                       ...   \n",
       "513                Vietnam             68.0  1995                       NaN   \n",
       "514                  Yemen             55.5  1995                       NaN   \n",
       "515                 Zambia             46.5  1995                       NaN   \n",
       "516               Zimbabwe             60.5  1995                       NaN   \n",
       "1679  Syrian Arab Republic              NaN  1995                       NaN   \n",
       "\n",
       "      Child underweight percent       GDP Literacy  Wage  \n",
       "335                         NaN    3236.0    4.99%   NaN  \n",
       "336                         NaN    2882.0      NaN   NaN  \n",
       "337                        11.3   42066.0   35.84%   NaN  \n",
       "338                         NaN    6197.0      NaN   NaN  \n",
       "339                         NaN  280080.0   96.04%   NaN  \n",
       "...                         ...       ...      ...   ...  \n",
       "513                         NaN   20798.0   82.83%   NaN  \n",
       "514                         NaN   12796.0   17.06%   NaN  \n",
       "515                         NaN    3799.0   57.36%   NaN  \n",
       "516                         NaN    8263.0   78.52%   NaN  \n",
       "1679                       11.3   16556.0   37.06%   NaN  \n",
       "\n",
       "[183 rows x 8 columns]"
      ]
     },
     "execution_count": 44,
     "metadata": {},
     "output_type": "execute_result"
    }
   ],
   "source": [
    "# вывод строк с информацией за 1995 год\n",
    "countries[countries.Year == 1995]"
   ]
  },
  {
   "cell_type": "markdown",
   "metadata": {},
   "source": [
    "### Комбинация условий\n",
    "Иногда бывает нужно вывести строки с фиксированными значениями нескольких полей. В таких случаях можно воспользоваться логикой, аналогичной той, что использовалась в конструкции `if`.\n",
    "\n",
    "Для проверки нескольких условий в `if` мы писали конструкции вроде такой:"
   ]
  },
  {
   "cell_type": "code",
   "execution_count": 45,
   "metadata": {},
   "outputs": [
    {
     "name": "stdout",
     "output_type": "stream",
     "text": [
      "ok\n"
     ]
    }
   ],
   "source": [
    "if 1 > 0 and 10 <= 11:\n",
    "    print('ok')"
   ]
  },
  {
   "cell_type": "markdown",
   "metadata": {},
   "source": [
    "Аналогичную конструкцию можно вписать в квадратных скобках `[]` для умной индексации в `pandas`:"
   ]
  },
  {
   "cell_type": "code",
   "execution_count": 46,
   "metadata": {},
   "outputs": [
    {
     "data": {
      "text/html": [
       "<div>\n",
       "<style scoped>\n",
       "    .dataframe tbody tr th:only-of-type {\n",
       "        vertical-align: middle;\n",
       "    }\n",
       "\n",
       "    .dataframe tbody tr th {\n",
       "        vertical-align: top;\n",
       "    }\n",
       "\n",
       "    .dataframe thead th {\n",
       "        text-align: right;\n",
       "    }\n",
       "</style>\n",
       "<table border=\"1\" class=\"dataframe\">\n",
       "  <thead>\n",
       "    <tr style=\"text-align: right;\">\n",
       "      <th></th>\n",
       "      <th>Country or Area</th>\n",
       "      <th>Life expectancy</th>\n",
       "      <th>Year</th>\n",
       "      <th>Child overweight percent</th>\n",
       "      <th>Child underweight percent</th>\n",
       "      <th>GDP</th>\n",
       "      <th>Literacy</th>\n",
       "      <th>Wage</th>\n",
       "    </tr>\n",
       "  </thead>\n",
       "  <tbody>\n",
       "    <tr>\n",
       "      <th>341</th>\n",
       "      <td>Australia</td>\n",
       "      <td>78.0</td>\n",
       "      <td>1995</td>\n",
       "      <td>NaN</td>\n",
       "      <td>NaN</td>\n",
       "      <td>378121.0</td>\n",
       "      <td>NaN</td>\n",
       "      <td>NaN</td>\n",
       "    </tr>\n",
       "    <tr>\n",
       "      <th>363</th>\n",
       "      <td>Canada</td>\n",
       "      <td>78.0</td>\n",
       "      <td>1995</td>\n",
       "      <td>NaN</td>\n",
       "      <td>NaN</td>\n",
       "      <td>605923.0</td>\n",
       "      <td>NaN</td>\n",
       "      <td>NaN</td>\n",
       "    </tr>\n",
       "    <tr>\n",
       "      <th>400</th>\n",
       "      <td>Greece</td>\n",
       "      <td>77.5</td>\n",
       "      <td>1995</td>\n",
       "      <td>NaN</td>\n",
       "      <td>NaN</td>\n",
       "      <td>136942.0</td>\n",
       "      <td>89.35%</td>\n",
       "      <td>NaN</td>\n",
       "    </tr>\n",
       "    <tr>\n",
       "      <th>408</th>\n",
       "      <td>Hong Kong SAR</td>\n",
       "      <td>78.5</td>\n",
       "      <td>1995</td>\n",
       "      <td>NaN</td>\n",
       "      <td>NaN</td>\n",
       "      <td>144652.0</td>\n",
       "      <td>NaN</td>\n",
       "      <td>NaN</td>\n",
       "    </tr>\n",
       "    <tr>\n",
       "      <th>410</th>\n",
       "      <td>Iceland</td>\n",
       "      <td>78.5</td>\n",
       "      <td>1995</td>\n",
       "      <td>NaN</td>\n",
       "      <td>NaN</td>\n",
       "      <td>7131.0</td>\n",
       "      <td>NaN</td>\n",
       "      <td>NaN</td>\n",
       "    </tr>\n",
       "    <tr>\n",
       "      <th>420</th>\n",
       "      <td>Japan</td>\n",
       "      <td>79.0</td>\n",
       "      <td>1995</td>\n",
       "      <td>NaN</td>\n",
       "      <td>NaN</td>\n",
       "      <td>5449120.0</td>\n",
       "      <td>NaN</td>\n",
       "      <td>NaN</td>\n",
       "    </tr>\n",
       "    <tr>\n",
       "      <th>486</th>\n",
       "      <td>Spain</td>\n",
       "      <td>77.5</td>\n",
       "      <td>1995</td>\n",
       "      <td>NaN</td>\n",
       "      <td>NaN</td>\n",
       "      <td>612429.0</td>\n",
       "      <td>95.05%</td>\n",
       "      <td>NaN</td>\n",
       "    </tr>\n",
       "    <tr>\n",
       "      <th>492</th>\n",
       "      <td>Sweden</td>\n",
       "      <td>78.0</td>\n",
       "      <td>1995</td>\n",
       "      <td>NaN</td>\n",
       "      <td>NaN</td>\n",
       "      <td>264346.0</td>\n",
       "      <td>NaN</td>\n",
       "      <td>NaN</td>\n",
       "    </tr>\n",
       "    <tr>\n",
       "      <th>493</th>\n",
       "      <td>Switzerland</td>\n",
       "      <td>78.0</td>\n",
       "      <td>1995</td>\n",
       "      <td>NaN</td>\n",
       "      <td>NaN</td>\n",
       "      <td>342764.0</td>\n",
       "      <td>NaN</td>\n",
       "      <td>NaN</td>\n",
       "    </tr>\n",
       "  </tbody>\n",
       "</table>\n",
       "</div>"
      ],
      "text/plain": [
       "    Country or Area  Life expectancy  Year  Child overweight percent  \\\n",
       "341       Australia             78.0  1995                       NaN   \n",
       "363          Canada             78.0  1995                       NaN   \n",
       "400          Greece             77.5  1995                       NaN   \n",
       "408   Hong Kong SAR             78.5  1995                       NaN   \n",
       "410         Iceland             78.5  1995                       NaN   \n",
       "420           Japan             79.0  1995                       NaN   \n",
       "486           Spain             77.5  1995                       NaN   \n",
       "492          Sweden             78.0  1995                       NaN   \n",
       "493     Switzerland             78.0  1995                       NaN   \n",
       "\n",
       "     Child underweight percent        GDP Literacy  Wage  \n",
       "341                        NaN   378121.0      NaN   NaN  \n",
       "363                        NaN   605923.0      NaN   NaN  \n",
       "400                        NaN   136942.0   89.35%   NaN  \n",
       "408                        NaN   144652.0      NaN   NaN  \n",
       "410                        NaN     7131.0      NaN   NaN  \n",
       "420                        NaN  5449120.0      NaN   NaN  \n",
       "486                        NaN   612429.0   95.05%   NaN  \n",
       "492                        NaN   264346.0      NaN   NaN  \n",
       "493                        NaN   342764.0      NaN   NaN  "
      ]
     },
     "execution_count": 46,
     "metadata": {},
     "output_type": "execute_result"
    }
   ],
   "source": [
    "# вывод строк с информацией за 1995 год и средней продолжительностью жизни больше 77\n",
    "countries[(countries['Year'] == 1995) & (countries['Life expectancy'] > 77)]"
   ]
  },
  {
   "cell_type": "markdown",
   "metadata": {},
   "source": [
    "Важные отличия от `if`:\n",
    "- оператор `and` заменяется на символ `&`\n",
    "- оператор `or` заменяется на символ `|`\n",
    "- оператор `not` заменяется на символ `~`\n",
    "- каждое условие надо оборачивать в круглые скобки `()`"
   ]
  },
  {
   "cell_type": "markdown",
   "metadata": {},
   "source": [
    "### Работа с пропусками\n",
    "Как видно по таблице, при сборе данных неизбежно возникают *пропущенные значения* и в таблице появляются поля со значением NaN (Not a Number).\n",
    "\n",
    "Есть разные способы от них избавиться:\n",
    "- можно заменить их на какое-нибудь фиксированное значение\n",
    "- можно вообще удалить строки, содержащие NaN\n",
    "- в некоторых задачах NaN не мешают вовсе\n",
    "\n",
    "На количество пропущенных значений можно посмотреть в сводной статистике:"
   ]
  },
  {
   "cell_type": "code",
   "execution_count": 47,
   "metadata": {},
   "outputs": [
    {
     "name": "stdout",
     "output_type": "stream",
     "text": [
      "<class 'pandas.core.frame.DataFrame'>\n",
      "RangeIndex: 1697 entries, 0 to 1696\n",
      "Data columns (total 8 columns):\n",
      " #   Column                     Non-Null Count  Dtype  \n",
      "---  ------                     --------------  -----  \n",
      " 0   Country or Area            1697 non-null   object \n",
      " 1   Life expectancy            703 non-null    float64\n",
      " 2   Year                       1697 non-null   int64  \n",
      " 3   Child overweight percent   569 non-null    float64\n",
      " 4   Child underweight percent  719 non-null    float64\n",
      " 5   GDP                        1697 non-null   float64\n",
      " 6   Literacy                   1271 non-null   object \n",
      " 7   Wage                       216 non-null    float64\n",
      "dtypes: float64(5), int64(1), object(2)\n",
      "memory usage: 106.2+ KB\n"
     ]
    }
   ],
   "source": [
    "countries.info()"
   ]
  },
  {
   "cell_type": "markdown",
   "metadata": {},
   "source": [
    "Одна из мер борьбы с NaN -- замена на какое-либо значение. Выведем самое частое значение (моду) показателя `Life expectancy`:"
   ]
  },
  {
   "cell_type": "code",
   "execution_count": 48,
   "metadata": {},
   "outputs": [
    {
     "data": {
      "text/plain": [
       "70.0    22\n",
       "66.5    21\n",
       "69.5    21\n",
       "71.5    20\n",
       "75.0    20\n",
       "        ..\n",
       "72.6     1\n",
       "47.0     1\n",
       "80.0     1\n",
       "52.0     1\n",
       "47.9     1\n",
       "Name: Life expectancy, Length: 98, dtype: int64"
      ]
     },
     "execution_count": 48,
     "metadata": {},
     "output_type": "execute_result"
    }
   ],
   "source": [
    "countries['Life expectancy'].value_counts(sort=True)"
   ]
  },
  {
   "cell_type": "markdown",
   "metadata": {},
   "source": [
    "Заменим пропущенные значения в столбце `Life expectancy` на самое частое значение этого столбца: $71.5$."
   ]
  },
  {
   "cell_type": "code",
   "execution_count": 49,
   "metadata": {},
   "outputs": [],
   "source": [
    "# Копируем исходную таблицу, чтобы не портить данные.\n",
    "countries_without_nan = countries.copy()"
   ]
  },
  {
   "cell_type": "code",
   "execution_count": 50,
   "metadata": {},
   "outputs": [],
   "source": [
    "countries_without_nan['Life expectancy'] = countries_without_nan['Life expectancy'].fillna(71.5)"
   ]
  },
  {
   "cell_type": "markdown",
   "metadata": {},
   "source": [
    "Важно избегать необдуманных замен значений в данных наподобие совершённого. Такие действия могут существенно повлиять на описательные статистики, так что иногда безопаснее по возможности просто не рассматривать данные с пропусками:"
   ]
  },
  {
   "cell_type": "code",
   "execution_count": 51,
   "metadata": {},
   "outputs": [],
   "source": [
    "countries_without_nan = countries_without_nan.dropna(how='any')"
   ]
  },
  {
   "cell_type": "markdown",
   "metadata": {},
   "source": [
    "Значение аргумента `how='any'` означает, что будут удалены все строки, содержащие **хотя бы один** пропуск.\n",
    "\n",
    "Можно было прописать `how='all'`, в результате чего удалились бы только строки, полностью состоящие из NaN."
   ]
  },
  {
   "cell_type": "code",
   "execution_count": 52,
   "metadata": {},
   "outputs": [
    {
     "name": "stdout",
     "output_type": "stream",
     "text": [
      "<class 'pandas.core.frame.DataFrame'>\n",
      "Int64Index: 22 entries, 652 to 1520\n",
      "Data columns (total 8 columns):\n",
      " #   Column                     Non-Null Count  Dtype  \n",
      "---  ------                     --------------  -----  \n",
      " 0   Country or Area            22 non-null     object \n",
      " 1   Life expectancy            22 non-null     float64\n",
      " 2   Year                       22 non-null     int64  \n",
      " 3   Child overweight percent   22 non-null     float64\n",
      " 4   Child underweight percent  22 non-null     float64\n",
      " 5   GDP                        22 non-null     float64\n",
      " 6   Literacy                   22 non-null     object \n",
      " 7   Wage                       22 non-null     float64\n",
      "dtypes: float64(5), int64(1), object(2)\n",
      "memory usage: 1.5+ KB\n"
     ]
    }
   ],
   "source": [
    "countries_without_nan.info()"
   ]
  },
  {
   "cell_type": "markdown",
   "metadata": {},
   "source": [
    "Опять же, важно понимать, что вы можете потерять очень много информации:"
   ]
  },
  {
   "cell_type": "markdown",
   "metadata": {},
   "source": [
    "### Описательные статистики\n",
    "У таблицы в `pandas` есть множество методов для получения тех или иных описательных статистик:"
   ]
  },
  {
   "cell_type": "code",
   "execution_count": 53,
   "metadata": {},
   "outputs": [
    {
     "name": "stdout",
     "output_type": "stream",
     "text": [
      "Mean life expectancy:  64.6352773826458\n",
      "Min life expectancy:  23.5\n",
      "Life expectancy 25% quantile:  57.75\n"
     ]
    }
   ],
   "source": [
    "print('Mean life expectancy: ', countries['Life expectancy'].mean())\n",
    "print('Min life expectancy: ', countries['Life expectancy'].min())\n",
    "print('Life expectancy 25% quantile: ', countries['Life expectancy'].quantile(0.25))"
   ]
  },
  {
   "cell_type": "markdown",
   "metadata": {},
   "source": [
    "Для сравнения, те же значения на таблице с неаккуратно вычищенными пропусками:"
   ]
  },
  {
   "cell_type": "code",
   "execution_count": 54,
   "metadata": {},
   "outputs": [
    {
     "name": "stdout",
     "output_type": "stream",
     "text": [
      "Mean life expectancy:  71.43181818181819\n",
      "Min life expectancy:  70.0\n",
      "Life expectancy 25% quantile:  71.5\n"
     ]
    }
   ],
   "source": [
    "print('Mean life expectancy: ', countries_without_nan['Life expectancy'].mean())\n",
    "print('Min life expectancy: ', countries_without_nan['Life expectancy'].min())\n",
    "print('Life expectancy 25% quantile: ', countries_without_nan['Life expectancy'].quantile(0.25))"
   ]
  },
  {
   "cell_type": "markdown",
   "metadata": {},
   "source": [
    "Также, можно выводить целые наборы статистик по числовым полям таблицы:"
   ]
  },
  {
   "cell_type": "code",
   "execution_count": 55,
   "metadata": {},
   "outputs": [
    {
     "data": {
      "text/html": [
       "<div>\n",
       "<style scoped>\n",
       "    .dataframe tbody tr th:only-of-type {\n",
       "        vertical-align: middle;\n",
       "    }\n",
       "\n",
       "    .dataframe tbody tr th {\n",
       "        vertical-align: top;\n",
       "    }\n",
       "\n",
       "    .dataframe thead th {\n",
       "        text-align: right;\n",
       "    }\n",
       "</style>\n",
       "<table border=\"1\" class=\"dataframe\">\n",
       "  <thead>\n",
       "    <tr style=\"text-align: right;\">\n",
       "      <th></th>\n",
       "      <th>Life expectancy</th>\n",
       "      <th>Year</th>\n",
       "      <th>Child overweight percent</th>\n",
       "      <th>Child underweight percent</th>\n",
       "      <th>GDP</th>\n",
       "      <th>Wage</th>\n",
       "    </tr>\n",
       "  </thead>\n",
       "  <tbody>\n",
       "    <tr>\n",
       "      <th>count</th>\n",
       "      <td>703.000000</td>\n",
       "      <td>1697.000000</td>\n",
       "      <td>569.000000</td>\n",
       "      <td>719.000000</td>\n",
       "      <td>1.697000e+03</td>\n",
       "      <td>216.000000</td>\n",
       "    </tr>\n",
       "    <tr>\n",
       "      <th>mean</th>\n",
       "      <td>64.635277</td>\n",
       "      <td>1997.873306</td>\n",
       "      <td>6.709287</td>\n",
       "      <td>16.608772</td>\n",
       "      <td>1.469019e+05</td>\n",
       "      <td>25.283102</td>\n",
       "    </tr>\n",
       "    <tr>\n",
       "      <th>std</th>\n",
       "      <td>10.243328</td>\n",
       "      <td>8.714543</td>\n",
       "      <td>4.808597</td>\n",
       "      <td>13.705005</td>\n",
       "      <td>6.797356e+05</td>\n",
       "      <td>19.927872</td>\n",
       "    </tr>\n",
       "    <tr>\n",
       "      <th>min</th>\n",
       "      <td>23.500000</td>\n",
       "      <td>1971.000000</td>\n",
       "      <td>0.000000</td>\n",
       "      <td>0.000000</td>\n",
       "      <td>2.000000e+01</td>\n",
       "      <td>1.221000</td>\n",
       "    </tr>\n",
       "    <tr>\n",
       "      <th>25%</th>\n",
       "      <td>57.750000</td>\n",
       "      <td>1990.000000</td>\n",
       "      <td>3.366667</td>\n",
       "      <td>4.900000</td>\n",
       "      <td>3.326000e+03</td>\n",
       "      <td>10.827750</td>\n",
       "    </tr>\n",
       "    <tr>\n",
       "      <th>50%</th>\n",
       "      <td>67.500000</td>\n",
       "      <td>1999.000000</td>\n",
       "      <td>5.733333</td>\n",
       "      <td>13.566667</td>\n",
       "      <td>1.230400e+04</td>\n",
       "      <td>15.684500</td>\n",
       "    </tr>\n",
       "    <tr>\n",
       "      <th>75%</th>\n",
       "      <td>72.500000</td>\n",
       "      <td>2006.000000</td>\n",
       "      <td>8.800000</td>\n",
       "      <td>24.137500</td>\n",
       "      <td>6.040000e+04</td>\n",
       "      <td>36.793250</td>\n",
       "    </tr>\n",
       "    <tr>\n",
       "      <th>max</th>\n",
       "      <td>80.500000</td>\n",
       "      <td>2012.000000</td>\n",
       "      <td>30.000000</td>\n",
       "      <td>67.300000</td>\n",
       "      <td>1.221370e+07</td>\n",
       "      <td>93.803000</td>\n",
       "    </tr>\n",
       "  </tbody>\n",
       "</table>\n",
       "</div>"
      ],
      "text/plain": [
       "       Life expectancy         Year  Child overweight percent  \\\n",
       "count       703.000000  1697.000000                569.000000   \n",
       "mean         64.635277  1997.873306                  6.709287   \n",
       "std          10.243328     8.714543                  4.808597   \n",
       "min          23.500000  1971.000000                  0.000000   \n",
       "25%          57.750000  1990.000000                  3.366667   \n",
       "50%          67.500000  1999.000000                  5.733333   \n",
       "75%          72.500000  2006.000000                  8.800000   \n",
       "max          80.500000  2012.000000                 30.000000   \n",
       "\n",
       "       Child underweight percent           GDP        Wage  \n",
       "count                 719.000000  1.697000e+03  216.000000  \n",
       "mean                   16.608772  1.469019e+05   25.283102  \n",
       "std                    13.705005  6.797356e+05   19.927872  \n",
       "min                     0.000000  2.000000e+01    1.221000  \n",
       "25%                     4.900000  3.326000e+03   10.827750  \n",
       "50%                    13.566667  1.230400e+04   15.684500  \n",
       "75%                    24.137500  6.040000e+04   36.793250  \n",
       "max                    67.300000  1.221370e+07   93.803000  "
      ]
     },
     "execution_count": 55,
     "metadata": {},
     "output_type": "execute_result"
    }
   ],
   "source": [
    "countries.describe()"
   ]
  },
  {
   "cell_type": "markdown",
   "metadata": {},
   "source": [
    "- count - число наблюдений без пропусков\n",
    "- mean - среднее значение\n",
    "- std - стандартное отклонение\n",
    "- min - минимум\n",
    "- 50% - медиана\n",
    "- 25% - 25% квантиль\n",
    "- 75% - 75% квантиль\n",
    "- max - максимум"
   ]
  },
  {
   "cell_type": "markdown",
   "metadata": {},
   "source": [
    "Можно построить такую же таблицу для категориальных переменных:"
   ]
  },
  {
   "cell_type": "code",
   "execution_count": 56,
   "metadata": {},
   "outputs": [
    {
     "data": {
      "text/html": [
       "<div>\n",
       "<style scoped>\n",
       "    .dataframe tbody tr th:only-of-type {\n",
       "        vertical-align: middle;\n",
       "    }\n",
       "\n",
       "    .dataframe tbody tr th {\n",
       "        vertical-align: top;\n",
       "    }\n",
       "\n",
       "    .dataframe thead th {\n",
       "        text-align: right;\n",
       "    }\n",
       "</style>\n",
       "<table border=\"1\" class=\"dataframe\">\n",
       "  <thead>\n",
       "    <tr style=\"text-align: right;\">\n",
       "      <th></th>\n",
       "      <th>Country or Area</th>\n",
       "      <th>Literacy</th>\n",
       "    </tr>\n",
       "  </thead>\n",
       "  <tbody>\n",
       "    <tr>\n",
       "      <th>count</th>\n",
       "      <td>1697</td>\n",
       "      <td>1271</td>\n",
       "    </tr>\n",
       "    <tr>\n",
       "      <th>unique</th>\n",
       "      <td>183</td>\n",
       "      <td>490</td>\n",
       "    </tr>\n",
       "    <tr>\n",
       "      <th>top</th>\n",
       "      <td>Chile</td>\n",
       "      <td>89.00%</td>\n",
       "    </tr>\n",
       "    <tr>\n",
       "      <th>freq</th>\n",
       "      <td>27</td>\n",
       "      <td>14</td>\n",
       "    </tr>\n",
       "  </tbody>\n",
       "</table>\n",
       "</div>"
      ],
      "text/plain": [
       "       Country or Area Literacy\n",
       "count             1697     1271\n",
       "unique             183      490\n",
       "top              Chile   89.00%\n",
       "freq                27       14"
      ]
     },
     "execution_count": 56,
     "metadata": {},
     "output_type": "execute_result"
    }
   ],
   "source": [
    "countries.describe(include='object')"
   ]
  },
  {
   "cell_type": "markdown",
   "metadata": {},
   "source": [
    "- count - число наблюдений без пропусков\n",
    "- unique - число уникальных значений\n",
    "- top - самое частое значение\n",
    "- freq - частота, с которой встречается значение top"
   ]
  },
  {
   "cell_type": "markdown",
   "metadata": {},
   "source": [
    "## Знакомство с NumPy\n",
    "Библиотека NumPy -- быстрая библиотека для математики в Python, основная структура данных -- массив `numpy.array`:"
   ]
  },
  {
   "cell_type": "code",
   "execution_count": 57,
   "metadata": {},
   "outputs": [],
   "source": [
    "# подключение модуля numpy под именем np\n",
    "import numpy as np"
   ]
  },
  {
   "cell_type": "code",
   "execution_count": 58,
   "metadata": {},
   "outputs": [
    {
     "name": "stdout",
     "output_type": "stream",
     "text": [
      "a = [1 2 3 4 5]\n",
      "b = [0.1 0.2 0.3 0.4 0.5]\n"
     ]
    }
   ],
   "source": [
    "# основная структура данных - массив\n",
    "a = np.array([1, 2, 3, 4, 5])\n",
    "b = np.array([0.1, 0.2, 0.3, 0.4, 0.5])\n",
    "\n",
    "print(\"a =\", a)\n",
    "print(\"b =\", b)"
   ]
  },
  {
   "cell_type": "markdown",
   "metadata": {},
   "source": [
    "Создайте массив с 5 любыми числами:"
   ]
  },
  {
   "cell_type": "code",
   "execution_count": 59,
   "metadata": {},
   "outputs": [],
   "source": [
    "c = np.array([1, 2, 8, 4, 3])"
   ]
  },
  {
   "cell_type": "markdown",
   "metadata": {},
   "source": [
    "Арифметические операции, в отличие от операций над списками, применяются поэлементно:"
   ]
  },
  {
   "cell_type": "code",
   "execution_count": 60,
   "metadata": {},
   "outputs": [
    {
     "name": "stdout",
     "output_type": "stream",
     "text": [
      "list1: [1, 2, 3]\n",
      "array1: [1 2 3]\n"
     ]
    }
   ],
   "source": [
    "list1 = [1, 2, 3]\n",
    "array1 = np.array([1, 2, 3])\n",
    "\n",
    "print(\"list1:\", list1)\n",
    "print('array1:', array1)"
   ]
  },
  {
   "cell_type": "code",
   "execution_count": 61,
   "metadata": {},
   "outputs": [
    {
     "name": "stdout",
     "output_type": "stream",
     "text": [
      "list1 * 3: [1, 2, 3, 1, 2, 3, 1, 2, 3]\n",
      "array1 * 3: [3 6 9]\n"
     ]
    }
   ],
   "source": [
    "print('list1 * 3:', list1 * 3)\n",
    "print('array1 * 3:', array1 * 3)"
   ]
  },
  {
   "cell_type": "code",
   "execution_count": 62,
   "metadata": {},
   "outputs": [
    {
     "name": "stdout",
     "output_type": "stream",
     "text": [
      "list1 + [1]: [1, 2, 3, 1]\n",
      "array1 + 1: [2 3 4]\n"
     ]
    }
   ],
   "source": [
    "print('list1 + [1]:', list1 + [1])\n",
    "print('array1 + 1:', array1 + 1)"
   ]
  },
  {
   "cell_type": "markdown",
   "metadata": {},
   "source": [
    "Создайте массив из 5 чисел. Возведите каждый элемент массива в степень 3."
   ]
  },
  {
   "cell_type": "code",
   "execution_count": 63,
   "metadata": {},
   "outputs": [
    {
     "name": "stdout",
     "output_type": "stream",
     "text": [
      "array: [  1  27 125 216 343]\n"
     ]
    }
   ],
   "source": [
    "d = np.array([1, 3, 5, 6, 7])\n",
    "print('array:', d ** 3)\n"
   ]
  },
  {
   "cell_type": "markdown",
   "metadata": {},
   "source": [
    "Если в операции участвуют $2$ массива (по умолчанию -- одинакового размера), операции считаются для соответствующих пар:"
   ]
  },
  {
   "cell_type": "code",
   "execution_count": 64,
   "metadata": {},
   "outputs": [
    {
     "name": "stdout",
     "output_type": "stream",
     "text": [
      "a + b = [1.1 2.2 3.3 4.4 5.5]\n",
      "a * b = [0.1 0.4 0.9 1.6 2.5]\n"
     ]
    }
   ],
   "source": [
    "print(\"a + b =\", a + b)\n",
    "print(\"a * b =\", a * b)"
   ]
  },
  {
   "cell_type": "code",
   "execution_count": 65,
   "metadata": {},
   "outputs": [
    {
     "name": "stdout",
     "output_type": "stream",
     "text": [
      "a - b = [0.9 1.8 2.7 3.6 4.5]\n",
      "a / b = [10. 10. 10. 10. 10.]\n",
      "a // b = [ 9.  9. 10.  9. 10.]\n",
      "a ** 2 = [1.         1.14869835 1.39038917 1.74110113 2.23606798]\n"
     ]
    }
   ],
   "source": [
    "# вот это разность\n",
    "print(\"a - b =\", a - b)\n",
    "\n",
    "# вот это деление\n",
    "print(\"a / b =\", a / b)\n",
    "\n",
    "# вот это целочисленное деление\n",
    "print(\"a // b =\", a // b)\n",
    "\n",
    "# вот это квадрат\n",
    "print(\"a ** 2 =\", a ** b)"
   ]
  },
  {
   "cell_type": "markdown",
   "metadata": {},
   "source": [
    "1. Создайте 2 массива одинаковой длины(5). Выведите их сумму, разность, произведение."
   ]
  },
  {
   "cell_type": "code",
   "execution_count": 66,
   "metadata": {},
   "outputs": [
    {
     "name": "stdout",
     "output_type": "stream",
     "text": [
      "w+g= [ 7  9 11 13 15]\n",
      "w-g= [-5 -5 -5 -5 -5]\n",
      "w*g= [ 6 14 24 36 50]\n"
     ]
    }
   ],
   "source": [
    "w = np.array([1, 2, 3, 4, 5])\n",
    "g = np.array([6, 7, 8, 9, 10])\n",
    "\n",
    "print(\"w+g=\" , w+g)\n",
    "print(\"w-g=\" , w-g)\n",
    "print(\"w*g=\" , w*g)\n"
   ]
  },
  {
   "cell_type": "markdown",
   "metadata": {},
   "source": [
    "### Аналог range"
   ]
  },
  {
   "cell_type": "code",
   "execution_count": 67,
   "metadata": {},
   "outputs": [],
   "source": [
    "abc=np.arange(1, 5, 0.7)"
   ]
  },
  {
   "cell_type": "code",
   "execution_count": 68,
   "metadata": {},
   "outputs": [
    {
     "data": {
      "text/plain": [
       "array([1. , 1.7, 2.4, 3.1, 3.8, 4.5])"
      ]
     },
     "execution_count": 68,
     "metadata": {},
     "output_type": "execute_result"
    }
   ],
   "source": [
    "abc"
   ]
  },
  {
   "cell_type": "markdown",
   "metadata": {},
   "source": [
    "### Логическая индексация\n",
    "По аналогии с тем, как мы выводили в pandas только те строки, которые удовлетворяют условиям, можно получать только интересующие нас элементы массива."
   ]
  },
  {
   "cell_type": "code",
   "execution_count": 69,
   "metadata": {},
   "outputs": [
    {
     "name": "stdout",
     "output_type": "stream",
     "text": [
      "a = [1 2 3 4 5]\n",
      "a > 1:  [2 3 4 5]\n"
     ]
    }
   ],
   "source": [
    "print(\"a =\", a)\n",
    "print(\"a > 1: \", a[a > 1])"
   ]
  },
  {
   "cell_type": "code",
   "execution_count": 70,
   "metadata": {},
   "outputs": [
    {
     "name": "stdout",
     "output_type": "stream",
     "text": [
      "b = [0.1 0.2 0.3 0.4 0.5]\n",
      "b < 0.5:   [0.1 0.2 0.3 0.4]\n"
     ]
    }
   ],
   "source": [
    "print(\"b =\", b)\n",
    "print(\"b < 0.5:  \", b[b < 0.5])"
   ]
  },
  {
   "cell_type": "markdown",
   "metadata": {},
   "source": [
    "Одновременная проверка условий:"
   ]
  },
  {
   "cell_type": "code",
   "execution_count": 71,
   "metadata": {},
   "outputs": [
    {
     "name": "stdout",
     "output_type": "stream",
     "text": [
      "Берём только те элементы a, где a > 1 И b < 0.5:   [2 3 4]\n",
      "А вот тут только те, где a > 1 ИЛИ b < 0.5:   [1 2 3 4 5]\n"
     ]
    }
   ],
   "source": [
    "print(\"Берём только те элементы a, где a > 1 И b < 0.5:  \", a[(a > 1) & (b < 0.5)])\n",
    "print(\"А вот тут только те, где a > 1 ИЛИ b < 0.5:  \", a[(a > 1) | (b < 0.5)])"
   ]
  },
  {
   "cell_type": "markdown",
   "metadata": {},
   "source": [
    "Создайте 2 массива из 5 целых чисел."
   ]
  },
  {
   "cell_type": "code",
   "execution_count": 72,
   "metadata": {},
   "outputs": [],
   "source": [
    "x = np.array([1, 2, 3, 4, 5])\n",
    "y = np.array([5, 6, 7, 8, 9])\n"
   ]
  },
  {
   "cell_type": "markdown",
   "metadata": {},
   "source": [
    "Выведите только те элементы первого массива, которые делятся на 3:"
   ]
  },
  {
   "cell_type": "code",
   "execution_count": 73,
   "metadata": {},
   "outputs": [
    {
     "data": {
      "text/plain": [
       "array([2, 4])"
      ]
     },
     "execution_count": 73,
     "metadata": {},
     "output_type": "execute_result"
    }
   ],
   "source": [
    "x[x%2==0]"
   ]
  },
  {
   "cell_type": "markdown",
   "metadata": {},
   "source": [
    "Выведите элементы первого массива, которые находятся там, где элементы второго массива больше 2:"
   ]
  },
  {
   "cell_type": "code",
   "execution_count": 74,
   "metadata": {},
   "outputs": [
    {
     "data": {
      "text/plain": [
       "array([4, 5])"
      ]
     },
     "execution_count": 74,
     "metadata": {},
     "output_type": "execute_result"
    }
   ],
   "source": [
    "x[y>7]"
   ]
  },
  {
   "cell_type": "markdown",
   "metadata": {},
   "source": [
    "#### А ещё NumPy умеет...\n",
    "\n",
    "Все операции NumPy оптимизированы для быстрых вычислений над целыми массивами чисел и в методах `np.array` реализовано множество функций, которые могут вам понадобиться:"
   ]
  },
  {
   "cell_type": "code",
   "execution_count": 75,
   "metadata": {},
   "outputs": [
    {
     "name": "stdout",
     "output_type": "stream",
     "text": [
      "np.mean(a) = 3.0\n",
      "np.min(a) = 1\n",
      "np.argmin(a) = 0\n",
      "np.unique(['male', 'male', 'female', 'female', 'male']) = ['female' 'male']\n"
     ]
    }
   ],
   "source": [
    "# теперь можно считать средний размер котиков в одну строку!\n",
    "print(\"np.mean(a) =\", np.mean(a))\n",
    "# минимальный элемент\n",
    "print(\"np.min(a) =\", np.min(a))\n",
    "# индекс минимального элемента\n",
    "print(\"np.argmin(a) =\", np.argmin(a))\n",
    "# вывести значения массива без дубликатов\n",
    "print(\"np.unique(['male', 'male', 'female', 'female', 'male']) =\", np.unique(['male', 'male', 'female', 'female', 'male']))\n",
    "\n",
    "# и ещё много всяких методов\n",
    "# Google в помощь"
   ]
  },
  {
   "cell_type": "markdown",
   "metadata": {},
   "source": [
    "# Корреляция \n",
    "\n",
    "Коэффициент корреляции выражает степень похожести двух наборов чисел. Важно помнить, что корреляция между наборами чисел --- не то же самое, что прямая зависимость между ними."
   ]
  },
  {
   "cell_type": "code",
   "execution_count": 76,
   "metadata": {},
   "outputs": [],
   "source": [
    "import numpy as np\n",
    "import pandas as pd\n",
    "import matplotlib.pyplot as plt\n",
    "%matplotlib inline\n",
    "\n",
    "\n",
    "# Функция для отображения набора точек.\n",
    "# Объяснение, что здесь что будет через 2-3 семинара, потерпите :)\n",
    "def plot_dependence(x, y, x_label='', y_label='', title='', grid_on=False):\n",
    "    plt.plot(x, y, 'o')\n",
    "    plt.xlabel(x_label)\n",
    "    plt.ylabel(y_label)\n",
    "    plt.title(title)\n",
    "    if not grid_on:\n",
    "        plt.grid()"
   ]
  },
  {
   "cell_type": "markdown",
   "metadata": {},
   "source": [
    "Для демонстрации эффекта зависимости в данных загрузим датасет с потреблением топлива различными видами транспорта:"
   ]
  },
  {
   "cell_type": "code",
   "execution_count": 77,
   "metadata": {},
   "outputs": [
    {
     "name": "stdout",
     "output_type": "stream",
     "text": [
      "(398, 9)\n"
     ]
    },
    {
     "data": {
      "text/html": [
       "<div>\n",
       "<style scoped>\n",
       "    .dataframe tbody tr th:only-of-type {\n",
       "        vertical-align: middle;\n",
       "    }\n",
       "\n",
       "    .dataframe tbody tr th {\n",
       "        vertical-align: top;\n",
       "    }\n",
       "\n",
       "    .dataframe thead th {\n",
       "        text-align: right;\n",
       "    }\n",
       "</style>\n",
       "<table border=\"1\" class=\"dataframe\">\n",
       "  <thead>\n",
       "    <tr style=\"text-align: right;\">\n",
       "      <th></th>\n",
       "      <th>mpg</th>\n",
       "      <th>cylinders</th>\n",
       "      <th>displacement</th>\n",
       "      <th>horsepower</th>\n",
       "      <th>weight</th>\n",
       "      <th>acceleration</th>\n",
       "      <th>model_year</th>\n",
       "      <th>origin</th>\n",
       "      <th>name</th>\n",
       "    </tr>\n",
       "  </thead>\n",
       "  <tbody>\n",
       "    <tr>\n",
       "      <th>0</th>\n",
       "      <td>18.0</td>\n",
       "      <td>8</td>\n",
       "      <td>307.0</td>\n",
       "      <td>130.0</td>\n",
       "      <td>3504.0</td>\n",
       "      <td>12.0</td>\n",
       "      <td>70</td>\n",
       "      <td>1</td>\n",
       "      <td>chevrolet chevelle malibu</td>\n",
       "    </tr>\n",
       "    <tr>\n",
       "      <th>1</th>\n",
       "      <td>15.0</td>\n",
       "      <td>8</td>\n",
       "      <td>350.0</td>\n",
       "      <td>165.0</td>\n",
       "      <td>3693.0</td>\n",
       "      <td>11.5</td>\n",
       "      <td>70</td>\n",
       "      <td>1</td>\n",
       "      <td>buick skylark 320</td>\n",
       "    </tr>\n",
       "    <tr>\n",
       "      <th>2</th>\n",
       "      <td>18.0</td>\n",
       "      <td>8</td>\n",
       "      <td>318.0</td>\n",
       "      <td>150.0</td>\n",
       "      <td>3436.0</td>\n",
       "      <td>11.0</td>\n",
       "      <td>70</td>\n",
       "      <td>1</td>\n",
       "      <td>plymouth satellite</td>\n",
       "    </tr>\n",
       "    <tr>\n",
       "      <th>3</th>\n",
       "      <td>16.0</td>\n",
       "      <td>8</td>\n",
       "      <td>304.0</td>\n",
       "      <td>150.0</td>\n",
       "      <td>3433.0</td>\n",
       "      <td>12.0</td>\n",
       "      <td>70</td>\n",
       "      <td>1</td>\n",
       "      <td>amc rebel sst</td>\n",
       "    </tr>\n",
       "    <tr>\n",
       "      <th>4</th>\n",
       "      <td>17.0</td>\n",
       "      <td>8</td>\n",
       "      <td>302.0</td>\n",
       "      <td>140.0</td>\n",
       "      <td>3449.0</td>\n",
       "      <td>10.5</td>\n",
       "      <td>70</td>\n",
       "      <td>1</td>\n",
       "      <td>ford torino</td>\n",
       "    </tr>\n",
       "  </tbody>\n",
       "</table>\n",
       "</div>"
      ],
      "text/plain": [
       "    mpg  cylinders  displacement  horsepower  weight  acceleration  \\\n",
       "0  18.0          8         307.0       130.0  3504.0          12.0   \n",
       "1  15.0          8         350.0       165.0  3693.0          11.5   \n",
       "2  18.0          8         318.0       150.0  3436.0          11.0   \n",
       "3  16.0          8         304.0       150.0  3433.0          12.0   \n",
       "4  17.0          8         302.0       140.0  3449.0          10.5   \n",
       "\n",
       "   model_year  origin                       name  \n",
       "0          70       1  chevrolet chevelle malibu  \n",
       "1          70       1          buick skylark 320  \n",
       "2          70       1         plymouth satellite  \n",
       "3          70       1              amc rebel sst  \n",
       "4          70       1                ford torino  "
      ]
     },
     "execution_count": 77,
     "metadata": {},
     "output_type": "execute_result"
    }
   ],
   "source": [
    "mpg_data = pd.read_csv(\n",
    "    'auto-mpg.data',  # путь к таблице\n",
    "    delim_whitespace=True,  # в данном случае разделитель между полями не запятая, а любой пробельный знак\n",
    "    header=None,  # в файле с таблицей не записаны имена колонок, так что не нужно их считывать\n",
    "    names = [\n",
    "        'mpg', 'cylinders', 'displacement',\n",
    "        'horsepower', 'weight', 'acceleration',\n",
    "        'model_year', 'origin', 'name'\n",
    "    ],  # вручную задаём имена колонок\n",
    "    na_values='?',  # пропущенные значения в этом датасете заполнены знаками \"?\"\n",
    ")\n",
    "print(mpg_data.shape)\n",
    "mpg_data.head()"
   ]
  },
  {
   "cell_type": "markdown",
   "metadata": {},
   "source": [
    "Удалим пропуски:"
   ]
  },
  {
   "cell_type": "code",
   "execution_count": 78,
   "metadata": {},
   "outputs": [
    {
     "name": "stdout",
     "output_type": "stream",
     "text": [
      "(392, 9)\n"
     ]
    }
   ],
   "source": [
    "mpg_data = mpg_data.dropna(how='any')\n",
    "print(mpg_data.shape)"
   ]
  },
  {
   "cell_type": "markdown",
   "metadata": {},
   "source": [
    "Выведем корреляционную таблицу для всех признаков:"
   ]
  },
  {
   "cell_type": "code",
   "execution_count": 79,
   "metadata": {},
   "outputs": [
    {
     "data": {
      "text/html": [
       "<div>\n",
       "<style scoped>\n",
       "    .dataframe tbody tr th:only-of-type {\n",
       "        vertical-align: middle;\n",
       "    }\n",
       "\n",
       "    .dataframe tbody tr th {\n",
       "        vertical-align: top;\n",
       "    }\n",
       "\n",
       "    .dataframe thead th {\n",
       "        text-align: right;\n",
       "    }\n",
       "</style>\n",
       "<table border=\"1\" class=\"dataframe\">\n",
       "  <thead>\n",
       "    <tr style=\"text-align: right;\">\n",
       "      <th></th>\n",
       "      <th>mpg</th>\n",
       "      <th>cylinders</th>\n",
       "      <th>displacement</th>\n",
       "      <th>horsepower</th>\n",
       "      <th>weight</th>\n",
       "      <th>acceleration</th>\n",
       "      <th>model_year</th>\n",
       "      <th>origin</th>\n",
       "    </tr>\n",
       "  </thead>\n",
       "  <tbody>\n",
       "    <tr>\n",
       "      <th>mpg</th>\n",
       "      <td>1.000000</td>\n",
       "      <td>-0.777618</td>\n",
       "      <td>-0.805127</td>\n",
       "      <td>-0.778427</td>\n",
       "      <td>-0.832244</td>\n",
       "      <td>0.423329</td>\n",
       "      <td>0.580541</td>\n",
       "      <td>0.565209</td>\n",
       "    </tr>\n",
       "    <tr>\n",
       "      <th>cylinders</th>\n",
       "      <td>-0.777618</td>\n",
       "      <td>1.000000</td>\n",
       "      <td>0.950823</td>\n",
       "      <td>0.842983</td>\n",
       "      <td>0.897527</td>\n",
       "      <td>-0.504683</td>\n",
       "      <td>-0.345647</td>\n",
       "      <td>-0.568932</td>\n",
       "    </tr>\n",
       "    <tr>\n",
       "      <th>displacement</th>\n",
       "      <td>-0.805127</td>\n",
       "      <td>0.950823</td>\n",
       "      <td>1.000000</td>\n",
       "      <td>0.897257</td>\n",
       "      <td>0.932994</td>\n",
       "      <td>-0.543800</td>\n",
       "      <td>-0.369855</td>\n",
       "      <td>-0.614535</td>\n",
       "    </tr>\n",
       "    <tr>\n",
       "      <th>horsepower</th>\n",
       "      <td>-0.778427</td>\n",
       "      <td>0.842983</td>\n",
       "      <td>0.897257</td>\n",
       "      <td>1.000000</td>\n",
       "      <td>0.864538</td>\n",
       "      <td>-0.689196</td>\n",
       "      <td>-0.416361</td>\n",
       "      <td>-0.455171</td>\n",
       "    </tr>\n",
       "    <tr>\n",
       "      <th>weight</th>\n",
       "      <td>-0.832244</td>\n",
       "      <td>0.897527</td>\n",
       "      <td>0.932994</td>\n",
       "      <td>0.864538</td>\n",
       "      <td>1.000000</td>\n",
       "      <td>-0.416839</td>\n",
       "      <td>-0.309120</td>\n",
       "      <td>-0.585005</td>\n",
       "    </tr>\n",
       "    <tr>\n",
       "      <th>acceleration</th>\n",
       "      <td>0.423329</td>\n",
       "      <td>-0.504683</td>\n",
       "      <td>-0.543800</td>\n",
       "      <td>-0.689196</td>\n",
       "      <td>-0.416839</td>\n",
       "      <td>1.000000</td>\n",
       "      <td>0.290316</td>\n",
       "      <td>0.212746</td>\n",
       "    </tr>\n",
       "    <tr>\n",
       "      <th>model_year</th>\n",
       "      <td>0.580541</td>\n",
       "      <td>-0.345647</td>\n",
       "      <td>-0.369855</td>\n",
       "      <td>-0.416361</td>\n",
       "      <td>-0.309120</td>\n",
       "      <td>0.290316</td>\n",
       "      <td>1.000000</td>\n",
       "      <td>0.181528</td>\n",
       "    </tr>\n",
       "    <tr>\n",
       "      <th>origin</th>\n",
       "      <td>0.565209</td>\n",
       "      <td>-0.568932</td>\n",
       "      <td>-0.614535</td>\n",
       "      <td>-0.455171</td>\n",
       "      <td>-0.585005</td>\n",
       "      <td>0.212746</td>\n",
       "      <td>0.181528</td>\n",
       "      <td>1.000000</td>\n",
       "    </tr>\n",
       "  </tbody>\n",
       "</table>\n",
       "</div>"
      ],
      "text/plain": [
       "                   mpg  cylinders  displacement  horsepower    weight  \\\n",
       "mpg           1.000000  -0.777618     -0.805127   -0.778427 -0.832244   \n",
       "cylinders    -0.777618   1.000000      0.950823    0.842983  0.897527   \n",
       "displacement -0.805127   0.950823      1.000000    0.897257  0.932994   \n",
       "horsepower   -0.778427   0.842983      0.897257    1.000000  0.864538   \n",
       "weight       -0.832244   0.897527      0.932994    0.864538  1.000000   \n",
       "acceleration  0.423329  -0.504683     -0.543800   -0.689196 -0.416839   \n",
       "model_year    0.580541  -0.345647     -0.369855   -0.416361 -0.309120   \n",
       "origin        0.565209  -0.568932     -0.614535   -0.455171 -0.585005   \n",
       "\n",
       "              acceleration  model_year    origin  \n",
       "mpg               0.423329    0.580541  0.565209  \n",
       "cylinders        -0.504683   -0.345647 -0.568932  \n",
       "displacement     -0.543800   -0.369855 -0.614535  \n",
       "horsepower       -0.689196   -0.416361 -0.455171  \n",
       "weight           -0.416839   -0.309120 -0.585005  \n",
       "acceleration      1.000000    0.290316  0.212746  \n",
       "model_year        0.290316    1.000000  0.181528  \n",
       "origin            0.212746    0.181528  1.000000  "
      ]
     },
     "execution_count": 79,
     "metadata": {},
     "output_type": "execute_result"
    }
   ],
   "source": [
    "mpg_data.corr()"
   ]
  },
  {
   "cell_type": "markdown",
   "metadata": {},
   "source": [
    "Как её читать: на пересечении строки с именем `A` и столбца с именем `B` стоит коэффициент корреляции между признаками `A` и `B`.\n",
    "\n",
    "Посмотрим на коэффициент корреляции между скоростью потребления топлива `mpg` (miles per gallon, галлон $\\approx 3.785$ литра) с весом `weight`:"
   ]
  },
  {
   "cell_type": "code",
   "execution_count": 80,
   "metadata": {},
   "outputs": [
    {
     "name": "stdout",
     "output_type": "stream",
     "text": [
      "Коэффициент корреляции:  -0.8322442148315756\n"
     ]
    }
   ],
   "source": [
    "print(\"Коэффициент корреляции: \", mpg_data.corr()['mpg']['weight'])"
   ]
  },
  {
   "cell_type": "markdown",
   "metadata": {},
   "source": [
    "Наблюдаем сильную отрицательную корреляцию.\n",
    "\n",
    "Что это значит:\n",
    "- с увеличением веса уменьшается расстояние, которое можно проехать, потратив фиксированное количество топлива\n",
    "- если вес транспортного средства большой, то одного галлона хватает на не очень большое количество миль\n",
    "- если транспорт лёгкий, то на одном галлоне он сможет проехать большее расстояние, чем тяжёлый"
   ]
  },
  {
   "cell_type": "markdown",
   "metadata": {},
   "source": [
    "# Линейная регрессия "
   ]
  },
  {
   "cell_type": "markdown",
   "metadata": {},
   "source": [
    "Попытаемся предсказать (объяснить) величину $y$ через набор числовых характеристик $x_1, \\ldots, x_n$. Например, хотелось бы найти зависимость скорости потребления топлива автомобилем от других его характеристик.\n",
    "\n",
    "Будем предполагать и надеяться, что величина $y$ зависит от этих характеристик линейно, т.е. каждый признак влияет на скорость с каким-то фиксированным весом, который мы (пока) не знаем:\n",
    "$$y \\approx \\beta + \\alpha_1x_1 + \\alpha_2x_2+...+\\alpha_nx_n$$\n",
    "\n",
    "Чтобы в дальнейшем иметь возможность угадывать $y$ только по заданным $x_1, \\ldots, x_n$, надо подобрать веса, близкие к реальным (реальные нам неизвестны).\n",
    "\n",
    "Подбор весов происходит за счёт минимизации разности между реальными значениями и предсказанными.\n",
    "\n",
    "___"
   ]
  },
  {
   "cell_type": "markdown",
   "metadata": {},
   "source": [
    "\n",
    "Начнем с самого простого вида линейной регрессии, когда есть зависимость только от одного признака\n",
    "$$y\\approx\\beta + \\alpha x,$$\n",
    "где $\\alpha$ --- это коэффициент наклона прямой, $\\beta$ --- коэффициент смещения.\n",
    "\n",
    "Посмотрим ещё раз на зависимость потребления топлива от веса транспортного средства:"
   ]
  },
  {
   "cell_type": "code",
   "execution_count": 81,
   "metadata": {},
   "outputs": [
    {
     "name": "stdout",
     "output_type": "stream",
     "text": [
      "Коэффициент корреляции:  -0.8322442148315756\n"
     ]
    },
    {
     "data": {
      "image/png": "[encoded data removed]",
      "text/plain": [
       "<Figure size 432x288 with 1 Axes>"
      ]
     },
     "metadata": {
      "needs_background": "light"
     },
     "output_type": "display_data"
    }
   ],
   "source": [
    "print(\"Коэффициент корреляции: \", mpg_data.corr()['mpg']['weight'])\n",
    "\n",
    "plot_dependence(mpg_data.weight, mpg_data.mpg, 'weight', 'MPG', 'Weight vs MPG dependence')"
   ]
  },
  {
   "cell_type": "markdown",
   "metadata": {},
   "source": [
    "Чтобы найти наилучший вариант прямой, описывающей наши данные, будем использовать модель `LinearRegression` из библиотеки `sklearn`:"
   ]
  },
  {
   "cell_type": "code",
   "execution_count": 82,
   "metadata": {},
   "outputs": [
    {
     "data": {
      "image/png": "[encoded data removed]",
      "text/plain": [
       "<Figure size 432x288 with 1 Axes>"
      ]
     },
     "metadata": {
      "needs_background": "light"
     },
     "output_type": "display_data"
    }
   ],
   "source": [
    "from sklearn.linear_model import LinearRegression\n",
    "\n",
    "# Выделяем в отдельную переменную целевую переменную и характеристики.\n",
    "Y = mpg_data[['mpg']]\n",
    "X = mpg_data[['weight']]\n",
    "\n",
    "# Создание модели, которая будет подбирать веса для признаков.\n",
    "model = LinearRegression()\n",
    "\n",
    "# Просим модель подобрать веса для признаков.\n",
    "model.fit(X, Y)\n",
    "\n",
    "# Предсказываем значения с помощью модели.\n",
    "Y_predicted = model.predict(X)\n",
    "\n",
    "plot_dependence(X, Y)\n",
    "plot_dependence(X, Y_predicted, 'weight', 'MPG', 'Weight vs MPG dependence', True)"
   ]
  },
  {
   "cell_type": "markdown",
   "metadata": {},
   "source": [
    "Посмотрим, какие получились коэффициенты:"
   ]
  },
  {
   "cell_type": "code",
   "execution_count": 83,
   "metadata": {},
   "outputs": [
    {
     "name": "stdout",
     "output_type": "stream",
     "text": [
      "Коэффициент уклона:     [-0.00764734]\n",
      "Коэффициент смещения:  [46.21652455]\n"
     ]
    }
   ],
   "source": [
    "print(\"Коэффициент уклона:    \", model.coef_[0])\n",
    "print(\"Коэффициент смещения: \", model.intercept_)"
   ]
  },
  {
   "cell_type": "markdown",
   "metadata": {},
   "source": [
    "Аналогичным образом можно обучить модель на всех признаках, а не только на одном. Но визуализировать это уже будет сложновато, так что понадобится какая-то метрика оценивания качества предсказаний."
   ]
  },
  {
   "cell_type": "markdown",
   "metadata": {},
   "source": [
    "В анализе данных есть два эпата: обучение модели и валидация.\n",
    "\n",
    "- на этапе обучения модель видит и характеристики $x_1, \\ldots, x_n$, и значения $y$, которые надо будет предсказывать в будущем, на этих данных настраиваются веса для характеристик\n",
    "\n",
    "- на этапе валидации в модель подаются только характеристики (без значений $y$), которых не было на этапе обучения, и модель предсказывает значения $y$, опираясь на то, что \"узнала\" при обучении\n",
    "\n",
    "Метрика `mean_squared_error` или `MSE` оценивает величину ошибки. Она вычисляется отдельно для предсказаний на обучении и на валидации.\n",
    "\n",
    "---\n",
    "\n",
    "Для начала подготовим данные:\n",
    "- выделим в отдельную переменную то, что предсказывается, т.е. столбец `mpg`\n",
    "- а ещё сохраним все остальные столбцы с числовыми значениями, которые будут нашими признаками"
   ]
  },
  {
   "cell_type": "code",
   "execution_count": 84,
   "metadata": {},
   "outputs": [
    {
     "data": {
      "text/plain": [
       "((392, 7), (392, 1))"
      ]
     },
     "execution_count": 84,
     "metadata": {},
     "output_type": "execute_result"
    }
   ],
   "source": [
    "Y = mpg_data[['mpg']]\n",
    "X = mpg_data.drop(['mpg', 'name'], axis=1)\n",
    "X.shape, Y.shape"
   ]
  },
  {
   "cell_type": "markdown",
   "metadata": {},
   "source": [
    "Теперь подключим необходимые функции для разделения выборки на обучающую и тестовую, а также для оценивания качества модели:"
   ]
  },
  {
   "cell_type": "code",
   "execution_count": 85,
   "metadata": {},
   "outputs": [],
   "source": [
    "from sklearn.model_selection import train_test_split\n",
    "from sklearn.metrics import mean_squared_error"
   ]
  },
  {
   "cell_type": "code",
   "execution_count": 86,
   "metadata": {},
   "outputs": [
    {
     "name": "stdout",
     "output_type": "stream",
     "text": [
      "Размеры обучающей выборки:  (294, 7) (294, 1)\n",
      "Размеры тестовой выборки:  (98, 7) (98, 1)\n"
     ]
    }
   ],
   "source": [
    "# Разбиваем данные на обучающую часть, по которой модель будет подбирать коэффициенты,\n",
    "# и валидационную (тестовую) часть, по которой можно оценить, насколько хорошо коэффициенты подобраны.\n",
    "X_train, X_val, Y_train, Y_val = train_test_split(X, Y, random_state=128)\n",
    "\n",
    "print('Размеры обучающей выборки: ', X_train.shape, Y_train.shape)\n",
    "print('Размеры тестовой выборки: ', X_val.shape, Y_val.shape)"
   ]
  },
  {
   "cell_type": "code",
   "execution_count": 87,
   "metadata": {},
   "outputs": [],
   "source": [
    "# Создание модели, которая будет подбирать веса для признаков.\n",
    "model = LinearRegression()\n",
    "# Просим модель подобрать веса для признаков.\n",
    "model.fit(X_train, Y_train)\n",
    "\n",
    "# Предсказываем значения с помощью модели.\n",
    "Y_train_predicted = model.predict(X_train)\n",
    "Y_val_predicted = model.predict(X_val)"
   ]
  },
  {
   "cell_type": "code",
   "execution_count": 88,
   "metadata": {},
   "outputs": [
    {
     "name": "stdout",
     "output_type": "stream",
     "text": [
      "Ошибка на обучении:  \t 10.271199908873522\n",
      "Ошибка на валидации:\t 12.735016089313852\n",
      "Разница:\t\t 2.4638161804403307\n"
     ]
    }
   ],
   "source": [
    "# Считаем метрику, показывающую, как сильно ошибается модель.\n",
    "train_error = mean_squared_error(Y_train_predicted, Y_train)\n",
    "val_error = mean_squared_error(Y_val_predicted, Y_val)\n",
    "\n",
    "print('Ошибка на обучении:  \\t', train_error)\n",
    "print('Ошибка на валидации:\\t', val_error)\n",
    "print('Разница:\\t\\t', val_error - train_error)"
   ]
  },
  {
   "cell_type": "markdown",
   "metadata": {},
   "source": [
    "# Задача регрессии на реальных данных\n",
    "Рассмотрим датасет с ценами на жильё в Москве за 2011-2015 год, данные предоставлены [Сбербанком](https://www.kaggle.com/c/sberbank-russian-housing-market/data), спасибо им за это.\n",
    "\n",
    "А ещё:\n",
    "- научимся работать с категориальными (номинальными) признаками\n",
    "- поймём, почему важно нормализовать данные до того, как отправлять их считаться в модель\n",
    "- посмотрим на альтернативы sklearn'овской LinearRegression"
   ]
  },
  {
   "cell_type": "code",
   "execution_count": 89,
   "metadata": {},
   "outputs": [],
   "source": [
    "import pandas as pd\n",
    "import numpy as np\n",
    "import matplotlib.pyplot as plt\n",
    "%matplotlib inline"
   ]
  },
  {
   "cell_type": "code",
   "execution_count": 90,
   "metadata": {},
   "outputs": [
    {
     "data": {
      "text/html": [
       "<div>\n",
       "<style scoped>\n",
       "    .dataframe tbody tr th:only-of-type {\n",
       "        vertical-align: middle;\n",
       "    }\n",
       "\n",
       "    .dataframe tbody tr th {\n",
       "        vertical-align: top;\n",
       "    }\n",
       "\n",
       "    .dataframe thead th {\n",
       "        text-align: right;\n",
       "    }\n",
       "</style>\n",
       "<table border=\"1\" class=\"dataframe\">\n",
       "  <thead>\n",
       "    <tr style=\"text-align: right;\">\n",
       "      <th></th>\n",
       "      <th>id</th>\n",
       "      <th>timestamp</th>\n",
       "      <th>full_sq</th>\n",
       "      <th>life_sq</th>\n",
       "      <th>floor</th>\n",
       "      <th>max_floor</th>\n",
       "      <th>material</th>\n",
       "      <th>build_year</th>\n",
       "      <th>num_room</th>\n",
       "      <th>kitch_sq</th>\n",
       "      <th>...</th>\n",
       "      <th>cafe_count_5000_price_2500</th>\n",
       "      <th>cafe_count_5000_price_4000</th>\n",
       "      <th>cafe_count_5000_price_high</th>\n",
       "      <th>big_church_count_5000</th>\n",
       "      <th>church_count_5000</th>\n",
       "      <th>mosque_count_5000</th>\n",
       "      <th>leisure_count_5000</th>\n",
       "      <th>sport_count_5000</th>\n",
       "      <th>market_count_5000</th>\n",
       "      <th>price_doc</th>\n",
       "    </tr>\n",
       "  </thead>\n",
       "  <tbody>\n",
       "    <tr>\n",
       "      <th>0</th>\n",
       "      <td>1</td>\n",
       "      <td>2011-08-20</td>\n",
       "      <td>43</td>\n",
       "      <td>27.0</td>\n",
       "      <td>4.0</td>\n",
       "      <td>NaN</td>\n",
       "      <td>NaN</td>\n",
       "      <td>NaN</td>\n",
       "      <td>NaN</td>\n",
       "      <td>NaN</td>\n",
       "      <td>...</td>\n",
       "      <td>9</td>\n",
       "      <td>4</td>\n",
       "      <td>0</td>\n",
       "      <td>13</td>\n",
       "      <td>22</td>\n",
       "      <td>1</td>\n",
       "      <td>0</td>\n",
       "      <td>52</td>\n",
       "      <td>4</td>\n",
       "      <td>5850000</td>\n",
       "    </tr>\n",
       "    <tr>\n",
       "      <th>1</th>\n",
       "      <td>2</td>\n",
       "      <td>2011-08-23</td>\n",
       "      <td>34</td>\n",
       "      <td>19.0</td>\n",
       "      <td>3.0</td>\n",
       "      <td>NaN</td>\n",
       "      <td>NaN</td>\n",
       "      <td>NaN</td>\n",
       "      <td>NaN</td>\n",
       "      <td>NaN</td>\n",
       "      <td>...</td>\n",
       "      <td>15</td>\n",
       "      <td>3</td>\n",
       "      <td>0</td>\n",
       "      <td>15</td>\n",
       "      <td>29</td>\n",
       "      <td>1</td>\n",
       "      <td>10</td>\n",
       "      <td>66</td>\n",
       "      <td>14</td>\n",
       "      <td>6000000</td>\n",
       "    </tr>\n",
       "    <tr>\n",
       "      <th>2</th>\n",
       "      <td>3</td>\n",
       "      <td>2011-08-27</td>\n",
       "      <td>43</td>\n",
       "      <td>29.0</td>\n",
       "      <td>2.0</td>\n",
       "      <td>NaN</td>\n",
       "      <td>NaN</td>\n",
       "      <td>NaN</td>\n",
       "      <td>NaN</td>\n",
       "      <td>NaN</td>\n",
       "      <td>...</td>\n",
       "      <td>10</td>\n",
       "      <td>3</td>\n",
       "      <td>0</td>\n",
       "      <td>11</td>\n",
       "      <td>27</td>\n",
       "      <td>0</td>\n",
       "      <td>4</td>\n",
       "      <td>67</td>\n",
       "      <td>10</td>\n",
       "      <td>5700000</td>\n",
       "    </tr>\n",
       "    <tr>\n",
       "      <th>3</th>\n",
       "      <td>4</td>\n",
       "      <td>2011-09-01</td>\n",
       "      <td>89</td>\n",
       "      <td>50.0</td>\n",
       "      <td>9.0</td>\n",
       "      <td>NaN</td>\n",
       "      <td>NaN</td>\n",
       "      <td>NaN</td>\n",
       "      <td>NaN</td>\n",
       "      <td>NaN</td>\n",
       "      <td>...</td>\n",
       "      <td>11</td>\n",
       "      <td>2</td>\n",
       "      <td>1</td>\n",
       "      <td>4</td>\n",
       "      <td>4</td>\n",
       "      <td>0</td>\n",
       "      <td>0</td>\n",
       "      <td>26</td>\n",
       "      <td>3</td>\n",
       "      <td>13100000</td>\n",
       "    </tr>\n",
       "    <tr>\n",
       "      <th>4</th>\n",
       "      <td>5</td>\n",
       "      <td>2011-09-05</td>\n",
       "      <td>77</td>\n",
       "      <td>77.0</td>\n",
       "      <td>4.0</td>\n",
       "      <td>NaN</td>\n",
       "      <td>NaN</td>\n",
       "      <td>NaN</td>\n",
       "      <td>NaN</td>\n",
       "      <td>NaN</td>\n",
       "      <td>...</td>\n",
       "      <td>319</td>\n",
       "      <td>108</td>\n",
       "      <td>17</td>\n",
       "      <td>135</td>\n",
       "      <td>236</td>\n",
       "      <td>2</td>\n",
       "      <td>91</td>\n",
       "      <td>195</td>\n",
       "      <td>14</td>\n",
       "      <td>16331452</td>\n",
       "    </tr>\n",
       "  </tbody>\n",
       "</table>\n",
       "<p>5 rows × 292 columns</p>\n",
       "</div>"
      ],
      "text/plain": [
       "   id   timestamp  full_sq  life_sq  floor  max_floor  material  build_year  \\\n",
       "0   1  2011-08-20       43     27.0    4.0        NaN       NaN         NaN   \n",
       "1   2  2011-08-23       34     19.0    3.0        NaN       NaN         NaN   \n",
       "2   3  2011-08-27       43     29.0    2.0        NaN       NaN         NaN   \n",
       "3   4  2011-09-01       89     50.0    9.0        NaN       NaN         NaN   \n",
       "4   5  2011-09-05       77     77.0    4.0        NaN       NaN         NaN   \n",
       "\n",
       "   num_room  kitch_sq  ...  cafe_count_5000_price_2500  \\\n",
       "0       NaN       NaN  ...                           9   \n",
       "1       NaN       NaN  ...                          15   \n",
       "2       NaN       NaN  ...                          10   \n",
       "3       NaN       NaN  ...                          11   \n",
       "4       NaN       NaN  ...                         319   \n",
       "\n",
       "  cafe_count_5000_price_4000 cafe_count_5000_price_high  \\\n",
       "0                          4                          0   \n",
       "1                          3                          0   \n",
       "2                          3                          0   \n",
       "3                          2                          1   \n",
       "4                        108                         17   \n",
       "\n",
       "   big_church_count_5000  church_count_5000  mosque_count_5000  \\\n",
       "0                     13                 22                  1   \n",
       "1                     15                 29                  1   \n",
       "2                     11                 27                  0   \n",
       "3                      4                  4                  0   \n",
       "4                    135                236                  2   \n",
       "\n",
       "   leisure_count_5000  sport_count_5000  market_count_5000  price_doc  \n",
       "0                   0                52                  4    5850000  \n",
       "1                  10                66                 14    6000000  \n",
       "2                   4                67                 10    5700000  \n",
       "3                   0                26                  3   13100000  \n",
       "4                  91               195                 14   16331452  \n",
       "\n",
       "[5 rows x 292 columns]"
      ]
     },
     "execution_count": 90,
     "metadata": {},
     "output_type": "execute_result"
    }
   ],
   "source": [
    "data = pd.read_csv('sberbank_moscow.csv')\n",
    "data.head()"
   ]
  },
  {
   "cell_type": "markdown",
   "metadata": {},
   "source": [
    "Как видим, признаков достаточно много (292), так что излюбленный метод `.info()` особо не поможет:"
   ]
  },
  {
   "cell_type": "code",
   "execution_count": 91,
   "metadata": {},
   "outputs": [
    {
     "name": "stdout",
     "output_type": "stream",
     "text": [
      "<class 'pandas.core.frame.DataFrame'>\n",
      "RangeIndex: 30471 entries, 0 to 30470\n",
      "Columns: 292 entries, id to price_doc\n",
      "dtypes: float64(119), int64(157), object(16)\n",
      "memory usage: 67.9+ MB\n"
     ]
    }
   ],
   "source": [
    "data.info()"
   ]
  },
  {
   "cell_type": "markdown",
   "metadata": {},
   "source": [
    "Посмотрим на количество пропусков по столбцам:"
   ]
  },
  {
   "cell_type": "code",
   "execution_count": 92,
   "metadata": {},
   "outputs": [
    {
     "data": {
      "text/plain": [
       "id                       0\n",
       "timestamp                0\n",
       "full_sq                  0\n",
       "life_sq               6383\n",
       "floor                  167\n",
       "                      ... \n",
       "mosque_count_5000        0\n",
       "leisure_count_5000       0\n",
       "sport_count_5000         0\n",
       "market_count_5000        0\n",
       "price_doc                0\n",
       "Length: 292, dtype: int64"
      ]
     },
     "execution_count": 92,
     "metadata": {},
     "output_type": "execute_result"
    }
   ],
   "source": [
    "data.isnull().sum()"
   ]
  },
  {
   "cell_type": "code",
   "execution_count": 93,
   "metadata": {},
   "outputs": [
    {
     "data": {
      "text/plain": [
       "0                good\n",
       "1           excellent\n",
       "2                poor\n",
       "3                good\n",
       "4           excellent\n",
       "             ...     \n",
       "30466            good\n",
       "30467            poor\n",
       "30468         no data\n",
       "30469    satisfactory\n",
       "30470            poor\n",
       "Name: ecology, Length: 30471, dtype: object"
      ]
     },
     "execution_count": 93,
     "metadata": {},
     "output_type": "execute_result"
    }
   ],
   "source": [
    "data.ecology"
   ]
  },
  {
   "cell_type": "markdown",
   "metadata": {},
   "source": [
    "Как видим, про некоторые признаки данных не очень много, так что выберем колонки, смысл которых мы заведомо будем понимать. "
   ]
  },
  {
   "cell_type": "code",
   "execution_count": 94,
   "metadata": {},
   "outputs": [],
   "source": [
    "target_column = 'price_doc'"
   ]
  },
  {
   "cell_type": "code",
   "execution_count": 95,
   "metadata": {},
   "outputs": [],
   "source": [
    "nominal_feature_columns = [\n",
    "    'sub_area',\n",
    "    'ecology',\n",
    "]"
   ]
  },
  {
   "cell_type": "code",
   "execution_count": 96,
   "metadata": {},
   "outputs": [
    {
     "data": {
      "text/plain": [
       "sub_area    0\n",
       "ecology     0\n",
       "dtype: int64"
      ]
     },
     "execution_count": 96,
     "metadata": {},
     "output_type": "execute_result"
    }
   ],
   "source": [
    "data[nominal_feature_columns].isnull().sum()"
   ]
  },
  {
   "cell_type": "code",
   "execution_count": 97,
   "metadata": {},
   "outputs": [],
   "source": [
    "internal_feature_columns = [\n",
    "    'full_sq',\n",
    "    'floor',\n",
    "]"
   ]
  },
  {
   "cell_type": "code",
   "execution_count": 98,
   "metadata": {},
   "outputs": [
    {
     "data": {
      "text/plain": [
       "full_sq      0\n",
       "floor      167\n",
       "dtype: int64"
      ]
     },
     "execution_count": 98,
     "metadata": {},
     "output_type": "execute_result"
    }
   ],
   "source": [
    "data[internal_feature_columns].isnull().sum()"
   ]
  },
  {
   "cell_type": "code",
   "execution_count": 99,
   "metadata": {},
   "outputs": [],
   "source": [
    "school_feature_columns = [\n",
    "    'children_preschool',\n",
    "    'children_school',\n",
    "    'school_education_centers_top_20_raion',\n",
    "    'university_top_20_raion',\n",
    "    'additional_education_km',\n",
    "    'university_km',\n",
    "]"
   ]
  },
  {
   "cell_type": "code",
   "execution_count": 100,
   "metadata": {},
   "outputs": [
    {
     "data": {
      "text/plain": [
       "children_preschool                       0\n",
       "children_school                          0\n",
       "school_education_centers_top_20_raion    0\n",
       "university_top_20_raion                  0\n",
       "additional_education_km                  0\n",
       "university_km                            0\n",
       "dtype: int64"
      ]
     },
     "execution_count": 100,
     "metadata": {},
     "output_type": "execute_result"
    }
   ],
   "source": [
    "data[school_feature_columns].isnull().sum()"
   ]
  },
  {
   "cell_type": "code",
   "execution_count": 101,
   "metadata": {},
   "outputs": [],
   "source": [
    "infrastructure_feature_columns = [\n",
    "    'nuclear_reactor_km',\n",
    "    'power_transmission_line_km',\n",
    "    'public_transport_station_km',\n",
    "    'public_transport_station_min_walk',\n",
    "    'mkad_km',\n",
    "    'kremlin_km',\n",
    "]"
   ]
  },
  {
   "cell_type": "code",
   "execution_count": 102,
   "metadata": {},
   "outputs": [
    {
     "data": {
      "text/plain": [
       "nuclear_reactor_km                   0\n",
       "power_transmission_line_km           0\n",
       "public_transport_station_km          0\n",
       "public_transport_station_min_walk    0\n",
       "mkad_km                              0\n",
       "kremlin_km                           0\n",
       "dtype: int64"
      ]
     },
     "execution_count": 102,
     "metadata": {},
     "output_type": "execute_result"
    }
   ],
   "source": [
    "data[infrastructure_feature_columns].isnull().sum()"
   ]
  },
  {
   "cell_type": "markdown",
   "metadata": {},
   "source": [
    "Посмотрели на колонки и пропуски в них, теперь объединим всё в один список и будем использовать в качестве признаков только перечисленные столбцы:"
   ]
  },
  {
   "cell_type": "code",
   "execution_count": 103,
   "metadata": {},
   "outputs": [
    {
     "data": {
      "text/plain": [
       "17"
      ]
     },
     "execution_count": 103,
     "metadata": {},
     "output_type": "execute_result"
    }
   ],
   "source": [
    "feature_columns = nominal_feature_columns + internal_feature_columns + school_feature_columns + infrastructure_feature_columns + [target_column]\n",
    "len(feature_columns)"
   ]
  },
  {
   "cell_type": "markdown",
   "metadata": {},
   "source": [
    "Сохраните таблицу только с перечисленными колонками и удалите из неё все строки с пропусками:"
   ]
  },
  {
   "cell_type": "code",
   "execution_count": 104,
   "metadata": {},
   "outputs": [],
   "source": [
    "DataFeatures = data[feature_columns].dropna(how='any')"
   ]
  },
  {
   "cell_type": "code",
   "execution_count": 105,
   "metadata": {},
   "outputs": [
    {
     "name": "stdout",
     "output_type": "stream",
     "text": [
      "<class 'pandas.core.frame.DataFrame'>\n",
      "Int64Index: 30304 entries, 0 to 30470\n",
      "Data columns (total 17 columns):\n",
      " #   Column                                 Non-Null Count  Dtype  \n",
      "---  ------                                 --------------  -----  \n",
      " 0   sub_area                               30304 non-null  object \n",
      " 1   ecology                                30304 non-null  object \n",
      " 2   full_sq                                30304 non-null  int64  \n",
      " 3   floor                                  30304 non-null  float64\n",
      " 4   children_preschool                     30304 non-null  int64  \n",
      " 5   children_school                        30304 non-null  int64  \n",
      " 6   school_education_centers_top_20_raion  30304 non-null  int64  \n",
      " 7   university_top_20_raion                30304 non-null  int64  \n",
      " 8   additional_education_km                30304 non-null  float64\n",
      " 9   university_km                          30304 non-null  float64\n",
      " 10  nuclear_reactor_km                     30304 non-null  float64\n",
      " 11  power_transmission_line_km             30304 non-null  float64\n",
      " 12  public_transport_station_km            30304 non-null  float64\n",
      " 13  public_transport_station_min_walk      30304 non-null  float64\n",
      " 14  mkad_km                                30304 non-null  float64\n",
      " 15  kremlin_km                             30304 non-null  float64\n",
      " 16  price_doc                              30304 non-null  int64  \n",
      "dtypes: float64(9), int64(6), object(2)\n",
      "memory usage: 4.2+ MB\n"
     ]
    }
   ],
   "source": [
    "DataFeatures.info()"
   ]
  },
  {
   "cell_type": "markdown",
   "metadata": {},
   "source": [
    "## Обработка мультиколлинеарности\n",
    "Посчитайте коэффициенты корреляции между колонками таблицы:"
   ]
  },
  {
   "cell_type": "code",
   "execution_count": 106,
   "metadata": {},
   "outputs": [
    {
     "data": {
      "text/plain": [
       "['full_sq',\n",
       " 'floor',\n",
       " 'children_preschool',\n",
       " 'children_school',\n",
       " 'school_education_centers_top_20_raion',\n",
       " 'university_top_20_raion',\n",
       " 'additional_education_km',\n",
       " 'university_km',\n",
       " 'nuclear_reactor_km',\n",
       " 'power_transmission_line_km',\n",
       " 'public_transport_station_km',\n",
       " 'public_transport_station_min_walk',\n",
       " 'mkad_km',\n",
       " 'kremlin_km',\n",
       " 'price_doc']"
      ]
     },
     "execution_count": 106,
     "metadata": {},
     "output_type": "execute_result"
    }
   ],
   "source": [
    "numeric_feature_columns = internal_feature_columns + school_feature_columns + infrastructure_feature_columns + [target_column]\n",
    "numeric_feature_columns"
   ]
  },
  {
   "cell_type": "code",
   "execution_count": 107,
   "metadata": {},
   "outputs": [
    {
     "data": {
      "text/html": [
       "<div>\n",
       "<style scoped>\n",
       "    .dataframe tbody tr th:only-of-type {\n",
       "        vertical-align: middle;\n",
       "    }\n",
       "\n",
       "    .dataframe tbody tr th {\n",
       "        vertical-align: top;\n",
       "    }\n",
       "\n",
       "    .dataframe thead th {\n",
       "        text-align: right;\n",
       "    }\n",
       "</style>\n",
       "<table border=\"1\" class=\"dataframe\">\n",
       "  <thead>\n",
       "    <tr style=\"text-align: right;\">\n",
       "      <th></th>\n",
       "      <th>full_sq</th>\n",
       "      <th>floor</th>\n",
       "      <th>children_preschool</th>\n",
       "      <th>children_school</th>\n",
       "      <th>school_education_centers_top_20_raion</th>\n",
       "      <th>university_top_20_raion</th>\n",
       "      <th>additional_education_km</th>\n",
       "      <th>university_km</th>\n",
       "      <th>nuclear_reactor_km</th>\n",
       "      <th>power_transmission_line_km</th>\n",
       "      <th>public_transport_station_km</th>\n",
       "      <th>public_transport_station_min_walk</th>\n",
       "      <th>mkad_km</th>\n",
       "      <th>kremlin_km</th>\n",
       "      <th>price_doc</th>\n",
       "    </tr>\n",
       "  </thead>\n",
       "  <tbody>\n",
       "    <tr>\n",
       "      <th>full_sq</th>\n",
       "      <td>1.000000</td>\n",
       "      <td>0.089649</td>\n",
       "      <td>-0.023715</td>\n",
       "      <td>-0.022383</td>\n",
       "      <td>0.021193</td>\n",
       "      <td>0.045597</td>\n",
       "      <td>0.032927</td>\n",
       "      <td>0.048182</td>\n",
       "      <td>0.024337</td>\n",
       "      <td>0.039780</td>\n",
       "      <td>0.026128</td>\n",
       "      <td>0.026128</td>\n",
       "      <td>0.045574</td>\n",
       "      <td>0.027346</td>\n",
       "      <td>0.342376</td>\n",
       "    </tr>\n",
       "    <tr>\n",
       "      <th>floor</th>\n",
       "      <td>0.089649</td>\n",
       "      <td>1.000000</td>\n",
       "      <td>-0.012001</td>\n",
       "      <td>-0.016466</td>\n",
       "      <td>-0.009889</td>\n",
       "      <td>0.001380</td>\n",
       "      <td>-0.054134</td>\n",
       "      <td>0.024156</td>\n",
       "      <td>-0.006406</td>\n",
       "      <td>-0.026353</td>\n",
       "      <td>-0.101283</td>\n",
       "      <td>-0.101283</td>\n",
       "      <td>-0.077007</td>\n",
       "      <td>0.045939</td>\n",
       "      <td>0.117447</td>\n",
       "    </tr>\n",
       "    <tr>\n",
       "      <th>children_preschool</th>\n",
       "      <td>-0.023715</td>\n",
       "      <td>-0.012001</td>\n",
       "      <td>1.000000</td>\n",
       "      <td>0.987107</td>\n",
       "      <td>0.102884</td>\n",
       "      <td>-0.003898</td>\n",
       "      <td>-0.357490</td>\n",
       "      <td>-0.323032</td>\n",
       "      <td>-0.446021</td>\n",
       "      <td>-0.336554</td>\n",
       "      <td>-0.246053</td>\n",
       "      <td>-0.246053</td>\n",
       "      <td>-0.345382</td>\n",
       "      <td>-0.306899</td>\n",
       "      <td>0.133953</td>\n",
       "    </tr>\n",
       "    <tr>\n",
       "      <th>children_school</th>\n",
       "      <td>-0.022383</td>\n",
       "      <td>-0.016466</td>\n",
       "      <td>0.987107</td>\n",
       "      <td>1.000000</td>\n",
       "      <td>0.140563</td>\n",
       "      <td>0.043620</td>\n",
       "      <td>-0.362353</td>\n",
       "      <td>-0.329804</td>\n",
       "      <td>-0.468722</td>\n",
       "      <td>-0.337588</td>\n",
       "      <td>-0.245446</td>\n",
       "      <td>-0.245446</td>\n",
       "      <td>-0.332682</td>\n",
       "      <td>-0.334289</td>\n",
       "      <td>0.138888</td>\n",
       "    </tr>\n",
       "    <tr>\n",
       "      <th>school_education_centers_top_20_raion</th>\n",
       "      <td>0.021193</td>\n",
       "      <td>-0.009889</td>\n",
       "      <td>0.102884</td>\n",
       "      <td>0.140563</td>\n",
       "      <td>1.000000</td>\n",
       "      <td>0.319432</td>\n",
       "      <td>-0.147228</td>\n",
       "      <td>-0.122966</td>\n",
       "      <td>-0.133290</td>\n",
       "      <td>-0.062590</td>\n",
       "      <td>-0.059873</td>\n",
       "      <td>-0.059873</td>\n",
       "      <td>0.059378</td>\n",
       "      <td>-0.230502</td>\n",
       "      <td>0.102312</td>\n",
       "    </tr>\n",
       "    <tr>\n",
       "      <th>university_top_20_raion</th>\n",
       "      <td>0.045597</td>\n",
       "      <td>0.001380</td>\n",
       "      <td>-0.003898</td>\n",
       "      <td>0.043620</td>\n",
       "      <td>0.319432</td>\n",
       "      <td>1.000000</td>\n",
       "      <td>-0.139777</td>\n",
       "      <td>-0.228673</td>\n",
       "      <td>-0.181604</td>\n",
       "      <td>-0.023063</td>\n",
       "      <td>-0.051951</td>\n",
       "      <td>-0.051951</td>\n",
       "      <td>0.222038</td>\n",
       "      <td>-0.396396</td>\n",
       "      <td>0.164807</td>\n",
       "    </tr>\n",
       "    <tr>\n",
       "      <th>additional_education_km</th>\n",
       "      <td>0.032927</td>\n",
       "      <td>-0.054134</td>\n",
       "      <td>-0.357490</td>\n",
       "      <td>-0.362353</td>\n",
       "      <td>-0.147228</td>\n",
       "      <td>-0.139777</td>\n",
       "      <td>1.000000</td>\n",
       "      <td>0.608360</td>\n",
       "      <td>0.603981</td>\n",
       "      <td>0.568868</td>\n",
       "      <td>0.729024</td>\n",
       "      <td>0.729024</td>\n",
       "      <td>0.472924</td>\n",
       "      <td>0.569672</td>\n",
       "      <td>-0.148375</td>\n",
       "    </tr>\n",
       "    <tr>\n",
       "      <th>university_km</th>\n",
       "      <td>0.048182</td>\n",
       "      <td>0.024156</td>\n",
       "      <td>-0.323032</td>\n",
       "      <td>-0.329804</td>\n",
       "      <td>-0.122966</td>\n",
       "      <td>-0.228673</td>\n",
       "      <td>0.608360</td>\n",
       "      <td>1.000000</td>\n",
       "      <td>0.722317</td>\n",
       "      <td>0.579803</td>\n",
       "      <td>0.627391</td>\n",
       "      <td>0.627391</td>\n",
       "      <td>0.371755</td>\n",
       "      <td>0.757989</td>\n",
       "      <td>-0.217810</td>\n",
       "    </tr>\n",
       "    <tr>\n",
       "      <th>nuclear_reactor_km</th>\n",
       "      <td>0.024337</td>\n",
       "      <td>-0.006406</td>\n",
       "      <td>-0.446021</td>\n",
       "      <td>-0.468722</td>\n",
       "      <td>-0.133290</td>\n",
       "      <td>-0.181604</td>\n",
       "      <td>0.603981</td>\n",
       "      <td>0.722317</td>\n",
       "      <td>1.000000</td>\n",
       "      <td>0.775593</td>\n",
       "      <td>0.544186</td>\n",
       "      <td>0.544186</td>\n",
       "      <td>0.499009</td>\n",
       "      <td>0.801887</td>\n",
       "      <td>-0.257878</td>\n",
       "    </tr>\n",
       "    <tr>\n",
       "      <th>power_transmission_line_km</th>\n",
       "      <td>0.039780</td>\n",
       "      <td>-0.026353</td>\n",
       "      <td>-0.336554</td>\n",
       "      <td>-0.337588</td>\n",
       "      <td>-0.062590</td>\n",
       "      <td>-0.023063</td>\n",
       "      <td>0.568868</td>\n",
       "      <td>0.579803</td>\n",
       "      <td>0.775593</td>\n",
       "      <td>1.000000</td>\n",
       "      <td>0.603365</td>\n",
       "      <td>0.603365</td>\n",
       "      <td>0.815133</td>\n",
       "      <td>0.738309</td>\n",
       "      <td>-0.154835</td>\n",
       "    </tr>\n",
       "    <tr>\n",
       "      <th>public_transport_station_km</th>\n",
       "      <td>0.026128</td>\n",
       "      <td>-0.101283</td>\n",
       "      <td>-0.246053</td>\n",
       "      <td>-0.245446</td>\n",
       "      <td>-0.059873</td>\n",
       "      <td>-0.051951</td>\n",
       "      <td>0.729024</td>\n",
       "      <td>0.627391</td>\n",
       "      <td>0.544186</td>\n",
       "      <td>0.603365</td>\n",
       "      <td>1.000000</td>\n",
       "      <td>1.000000</td>\n",
       "      <td>0.541466</td>\n",
       "      <td>0.477367</td>\n",
       "      <td>-0.120200</td>\n",
       "    </tr>\n",
       "    <tr>\n",
       "      <th>public_transport_station_min_walk</th>\n",
       "      <td>0.026128</td>\n",
       "      <td>-0.101283</td>\n",
       "      <td>-0.246053</td>\n",
       "      <td>-0.245446</td>\n",
       "      <td>-0.059873</td>\n",
       "      <td>-0.051951</td>\n",
       "      <td>0.729024</td>\n",
       "      <td>0.627391</td>\n",
       "      <td>0.544186</td>\n",
       "      <td>0.603365</td>\n",
       "      <td>1.000000</td>\n",
       "      <td>1.000000</td>\n",
       "      <td>0.541466</td>\n",
       "      <td>0.477367</td>\n",
       "      <td>-0.120200</td>\n",
       "    </tr>\n",
       "    <tr>\n",
       "      <th>mkad_km</th>\n",
       "      <td>0.045574</td>\n",
       "      <td>-0.077007</td>\n",
       "      <td>-0.345382</td>\n",
       "      <td>-0.332682</td>\n",
       "      <td>0.059378</td>\n",
       "      <td>0.222038</td>\n",
       "      <td>0.472924</td>\n",
       "      <td>0.371755</td>\n",
       "      <td>0.499009</td>\n",
       "      <td>0.815133</td>\n",
       "      <td>0.541466</td>\n",
       "      <td>0.541466</td>\n",
       "      <td>1.000000</td>\n",
       "      <td>0.367409</td>\n",
       "      <td>-0.019540</td>\n",
       "    </tr>\n",
       "    <tr>\n",
       "      <th>kremlin_km</th>\n",
       "      <td>0.027346</td>\n",
       "      <td>0.045939</td>\n",
       "      <td>-0.306899</td>\n",
       "      <td>-0.334289</td>\n",
       "      <td>-0.230502</td>\n",
       "      <td>-0.396396</td>\n",
       "      <td>0.569672</td>\n",
       "      <td>0.757989</td>\n",
       "      <td>0.801887</td>\n",
       "      <td>0.738309</td>\n",
       "      <td>0.477367</td>\n",
       "      <td>0.477367</td>\n",
       "      <td>0.367409</td>\n",
       "      <td>1.000000</td>\n",
       "      <td>-0.278653</td>\n",
       "    </tr>\n",
       "    <tr>\n",
       "      <th>price_doc</th>\n",
       "      <td>0.342376</td>\n",
       "      <td>0.117447</td>\n",
       "      <td>0.133953</td>\n",
       "      <td>0.138888</td>\n",
       "      <td>0.102312</td>\n",
       "      <td>0.164807</td>\n",
       "      <td>-0.148375</td>\n",
       "      <td>-0.217810</td>\n",
       "      <td>-0.257878</td>\n",
       "      <td>-0.154835</td>\n",
       "      <td>-0.120200</td>\n",
       "      <td>-0.120200</td>\n",
       "      <td>-0.019540</td>\n",
       "      <td>-0.278653</td>\n",
       "      <td>1.000000</td>\n",
       "    </tr>\n",
       "  </tbody>\n",
       "</table>\n",
       "</div>"
      ],
      "text/plain": [
       "                                        full_sq     floor  children_preschool  \\\n",
       "full_sq                                1.000000  0.089649           -0.023715   \n",
       "floor                                  0.089649  1.000000           -0.012001   \n",
       "children_preschool                    -0.023715 -0.012001            1.000000   \n",
       "children_school                       -0.022383 -0.016466            0.987107   \n",
       "school_education_centers_top_20_raion  0.021193 -0.009889            0.102884   \n",
       "university_top_20_raion                0.045597  0.001380           -0.003898   \n",
       "additional_education_km                0.032927 -0.054134           -0.357490   \n",
       "university_km                          0.048182  0.024156           -0.323032   \n",
       "nuclear_reactor_km                     0.024337 -0.006406           -0.446021   \n",
       "power_transmission_line_km             0.039780 -0.026353           -0.336554   \n",
       "public_transport_station_km            0.026128 -0.101283           -0.246053   \n",
       "public_transport_station_min_walk      0.026128 -0.101283           -0.246053   \n",
       "mkad_km                                0.045574 -0.077007           -0.345382   \n",
       "kremlin_km                             0.027346  0.045939           -0.306899   \n",
       "price_doc                              0.342376  0.117447            0.133953   \n",
       "\n",
       "                                       children_school  \\\n",
       "full_sq                                      -0.022383   \n",
       "floor                                        -0.016466   \n",
       "children_preschool                            0.987107   \n",
       "children_school                               1.000000   \n",
       "school_education_centers_top_20_raion         0.140563   \n",
       "university_top_20_raion                       0.043620   \n",
       "additional_education_km                      -0.362353   \n",
       "university_km                                -0.329804   \n",
       "nuclear_reactor_km                           -0.468722   \n",
       "power_transmission_line_km                   -0.337588   \n",
       "public_transport_station_km                  -0.245446   \n",
       "public_transport_station_min_walk            -0.245446   \n",
       "mkad_km                                      -0.332682   \n",
       "kremlin_km                                   -0.334289   \n",
       "price_doc                                     0.138888   \n",
       "\n",
       "                                       school_education_centers_top_20_raion  \\\n",
       "full_sq                                                             0.021193   \n",
       "floor                                                              -0.009889   \n",
       "children_preschool                                                  0.102884   \n",
       "children_school                                                     0.140563   \n",
       "school_education_centers_top_20_raion                               1.000000   \n",
       "university_top_20_raion                                             0.319432   \n",
       "additional_education_km                                            -0.147228   \n",
       "university_km                                                      -0.122966   \n",
       "nuclear_reactor_km                                                 -0.133290   \n",
       "power_transmission_line_km                                         -0.062590   \n",
       "public_transport_station_km                                        -0.059873   \n",
       "public_transport_station_min_walk                                  -0.059873   \n",
       "mkad_km                                                             0.059378   \n",
       "kremlin_km                                                         -0.230502   \n",
       "price_doc                                                           0.102312   \n",
       "\n",
       "                                       university_top_20_raion  \\\n",
       "full_sq                                               0.045597   \n",
       "floor                                                 0.001380   \n",
       "children_preschool                                   -0.003898   \n",
       "children_school                                       0.043620   \n",
       "school_education_centers_top_20_raion                 0.319432   \n",
       "university_top_20_raion                               1.000000   \n",
       "additional_education_km                              -0.139777   \n",
       "university_km                                        -0.228673   \n",
       "nuclear_reactor_km                                   -0.181604   \n",
       "power_transmission_line_km                           -0.023063   \n",
       "public_transport_station_km                          -0.051951   \n",
       "public_transport_station_min_walk                    -0.051951   \n",
       "mkad_km                                               0.222038   \n",
       "kremlin_km                                           -0.396396   \n",
       "price_doc                                             0.164807   \n",
       "\n",
       "                                       additional_education_km  university_km  \\\n",
       "full_sq                                               0.032927       0.048182   \n",
       "floor                                                -0.054134       0.024156   \n",
       "children_preschool                                   -0.357490      -0.323032   \n",
       "children_school                                      -0.362353      -0.329804   \n",
       "school_education_centers_top_20_raion                -0.147228      -0.122966   \n",
       "university_top_20_raion                              -0.139777      -0.228673   \n",
       "additional_education_km                               1.000000       0.608360   \n",
       "university_km                                         0.608360       1.000000   \n",
       "nuclear_reactor_km                                    0.603981       0.722317   \n",
       "power_transmission_line_km                            0.568868       0.579803   \n",
       "public_transport_station_km                           0.729024       0.627391   \n",
       "public_transport_station_min_walk                     0.729024       0.627391   \n",
       "mkad_km                                               0.472924       0.371755   \n",
       "kremlin_km                                            0.569672       0.757989   \n",
       "price_doc                                            -0.148375      -0.217810   \n",
       "\n",
       "                                       nuclear_reactor_km  \\\n",
       "full_sq                                          0.024337   \n",
       "floor                                           -0.006406   \n",
       "children_preschool                              -0.446021   \n",
       "children_school                                 -0.468722   \n",
       "school_education_centers_top_20_raion           -0.133290   \n",
       "university_top_20_raion                         -0.181604   \n",
       "additional_education_km                          0.603981   \n",
       "university_km                                    0.722317   \n",
       "nuclear_reactor_km                               1.000000   \n",
       "power_transmission_line_km                       0.775593   \n",
       "public_transport_station_km                      0.544186   \n",
       "public_transport_station_min_walk                0.544186   \n",
       "mkad_km                                          0.499009   \n",
       "kremlin_km                                       0.801887   \n",
       "price_doc                                       -0.257878   \n",
       "\n",
       "                                       power_transmission_line_km  \\\n",
       "full_sq                                                  0.039780   \n",
       "floor                                                   -0.026353   \n",
       "children_preschool                                      -0.336554   \n",
       "children_school                                         -0.337588   \n",
       "school_education_centers_top_20_raion                   -0.062590   \n",
       "university_top_20_raion                                 -0.023063   \n",
       "additional_education_km                                  0.568868   \n",
       "university_km                                            0.579803   \n",
       "nuclear_reactor_km                                       0.775593   \n",
       "power_transmission_line_km                               1.000000   \n",
       "public_transport_station_km                              0.603365   \n",
       "public_transport_station_min_walk                        0.603365   \n",
       "mkad_km                                                  0.815133   \n",
       "kremlin_km                                               0.738309   \n",
       "price_doc                                               -0.154835   \n",
       "\n",
       "                                       public_transport_station_km  \\\n",
       "full_sq                                                   0.026128   \n",
       "floor                                                    -0.101283   \n",
       "children_preschool                                       -0.246053   \n",
       "children_school                                          -0.245446   \n",
       "school_education_centers_top_20_raion                    -0.059873   \n",
       "university_top_20_raion                                  -0.051951   \n",
       "additional_education_km                                   0.729024   \n",
       "university_km                                             0.627391   \n",
       "nuclear_reactor_km                                        0.544186   \n",
       "power_transmission_line_km                                0.603365   \n",
       "public_transport_station_km                               1.000000   \n",
       "public_transport_station_min_walk                         1.000000   \n",
       "mkad_km                                                   0.541466   \n",
       "kremlin_km                                                0.477367   \n",
       "price_doc                                                -0.120200   \n",
       "\n",
       "                                       public_transport_station_min_walk  \\\n",
       "full_sq                                                         0.026128   \n",
       "floor                                                          -0.101283   \n",
       "children_preschool                                             -0.246053   \n",
       "children_school                                                -0.245446   \n",
       "school_education_centers_top_20_raion                          -0.059873   \n",
       "university_top_20_raion                                        -0.051951   \n",
       "additional_education_km                                         0.729024   \n",
       "university_km                                                   0.627391   \n",
       "nuclear_reactor_km                                              0.544186   \n",
       "power_transmission_line_km                                      0.603365   \n",
       "public_transport_station_km                                     1.000000   \n",
       "public_transport_station_min_walk                               1.000000   \n",
       "mkad_km                                                         0.541466   \n",
       "kremlin_km                                                      0.477367   \n",
       "price_doc                                                      -0.120200   \n",
       "\n",
       "                                        mkad_km  kremlin_km  price_doc  \n",
       "full_sq                                0.045574    0.027346   0.342376  \n",
       "floor                                 -0.077007    0.045939   0.117447  \n",
       "children_preschool                    -0.345382   -0.306899   0.133953  \n",
       "children_school                       -0.332682   -0.334289   0.138888  \n",
       "school_education_centers_top_20_raion  0.059378   -0.230502   0.102312  \n",
       "university_top_20_raion                0.222038   -0.396396   0.164807  \n",
       "additional_education_km                0.472924    0.569672  -0.148375  \n",
       "university_km                          0.371755    0.757989  -0.217810  \n",
       "nuclear_reactor_km                     0.499009    0.801887  -0.257878  \n",
       "power_transmission_line_km             0.815133    0.738309  -0.154835  \n",
       "public_transport_station_km            0.541466    0.477367  -0.120200  \n",
       "public_transport_station_min_walk      0.541466    0.477367  -0.120200  \n",
       "mkad_km                                1.000000    0.367409  -0.019540  \n",
       "kremlin_km                             0.367409    1.000000  -0.278653  \n",
       "price_doc                             -0.019540   -0.278653   1.000000  "
      ]
     },
     "execution_count": 107,
     "metadata": {},
     "output_type": "execute_result"
    }
   ],
   "source": [
    "DataFeatures[numeric_feature_columns].corr()"
   ]
  },
  {
   "cell_type": "markdown",
   "metadata": {},
   "source": [
    "Если корреляция между признаками по модулю высокая, они будут \"мешаться\" друг другу при обучении линейной модели, потому что вносят похожую информацию. Из набора нескольких коррелирующих признаков следует оставлять один. Оставьте среди числовых признаков только те, которые слабо коррелируют между собой:"
   ]
  },
  {
   "cell_type": "code",
   "execution_count": 108,
   "metadata": {},
   "outputs": [],
   "source": [
    "DataFeatures.drop('children_preschool',axis=1,inplace=True)"
   ]
  },
  {
   "cell_type": "markdown",
   "metadata": {},
   "source": [
    "Помимо мультиколлинеарности следует смотреть на корреляцию признаков с целевой переменной. Посмотрите на корреляцию столбца `price_doc` со всеми остальными и оставьте среди них только те, которые оказывают достаточно сильное влияние:"
   ]
  },
  {
   "cell_type": "code",
   "execution_count": 109,
   "metadata": {},
   "outputs": [],
   "source": [
    "DataFeatures.drop(['floor','school_education_centers_top_20_raion','mkad_km'],axis=1,inplace=True)"
   ]
  },
  {
   "cell_type": "markdown",
   "metadata": {},
   "source": [
    "## OHE aka One Hot Encoding\n",
    "Что сейчас мешает просто взять и запустить LinearRegression? Дело в том, что три колонки содержат не понятные компьютеру числа, а текстовые значения, а именно:"
   ]
  },
  {
   "cell_type": "code",
   "execution_count": 110,
   "metadata": {},
   "outputs": [
    {
     "data": {
      "text/html": [
       "<div>\n",
       "<style scoped>\n",
       "    .dataframe tbody tr th:only-of-type {\n",
       "        vertical-align: middle;\n",
       "    }\n",
       "\n",
       "    .dataframe tbody tr th {\n",
       "        vertical-align: top;\n",
       "    }\n",
       "\n",
       "    .dataframe thead th {\n",
       "        text-align: right;\n",
       "    }\n",
       "</style>\n",
       "<table border=\"1\" class=\"dataframe\">\n",
       "  <thead>\n",
       "    <tr style=\"text-align: right;\">\n",
       "      <th></th>\n",
       "      <th>sub_area</th>\n",
       "      <th>ecology</th>\n",
       "    </tr>\n",
       "  </thead>\n",
       "  <tbody>\n",
       "    <tr>\n",
       "      <th>0</th>\n",
       "      <td>Bibirevo</td>\n",
       "      <td>good</td>\n",
       "    </tr>\n",
       "    <tr>\n",
       "      <th>1</th>\n",
       "      <td>Nagatinskij Zaton</td>\n",
       "      <td>excellent</td>\n",
       "    </tr>\n",
       "    <tr>\n",
       "      <th>2</th>\n",
       "      <td>Tekstil'shhiki</td>\n",
       "      <td>poor</td>\n",
       "    </tr>\n",
       "    <tr>\n",
       "      <th>3</th>\n",
       "      <td>Mitino</td>\n",
       "      <td>good</td>\n",
       "    </tr>\n",
       "    <tr>\n",
       "      <th>4</th>\n",
       "      <td>Basmannoe</td>\n",
       "      <td>excellent</td>\n",
       "    </tr>\n",
       "    <tr>\n",
       "      <th>...</th>\n",
       "      <td>...</td>\n",
       "      <td>...</td>\n",
       "    </tr>\n",
       "    <tr>\n",
       "      <th>30466</th>\n",
       "      <td>Otradnoe</td>\n",
       "      <td>good</td>\n",
       "    </tr>\n",
       "    <tr>\n",
       "      <th>30467</th>\n",
       "      <td>Tverskoe</td>\n",
       "      <td>poor</td>\n",
       "    </tr>\n",
       "    <tr>\n",
       "      <th>30468</th>\n",
       "      <td>Poselenie Vnukovskoe</td>\n",
       "      <td>no data</td>\n",
       "    </tr>\n",
       "    <tr>\n",
       "      <th>30469</th>\n",
       "      <td>Obruchevskoe</td>\n",
       "      <td>satisfactory</td>\n",
       "    </tr>\n",
       "    <tr>\n",
       "      <th>30470</th>\n",
       "      <td>Novogireevo</td>\n",
       "      <td>poor</td>\n",
       "    </tr>\n",
       "  </tbody>\n",
       "</table>\n",
       "<p>30471 rows × 2 columns</p>\n",
       "</div>"
      ],
      "text/plain": [
       "                   sub_area       ecology\n",
       "0                  Bibirevo          good\n",
       "1         Nagatinskij Zaton     excellent\n",
       "2            Tekstil'shhiki          poor\n",
       "3                    Mitino          good\n",
       "4                 Basmannoe     excellent\n",
       "...                     ...           ...\n",
       "30466              Otradnoe          good\n",
       "30467              Tverskoe          poor\n",
       "30468  Poselenie Vnukovskoe       no data\n",
       "30469          Obruchevskoe  satisfactory\n",
       "30470           Novogireevo          poor\n",
       "\n",
       "[30471 rows x 2 columns]"
      ]
     },
     "execution_count": 110,
     "metadata": {},
     "output_type": "execute_result"
    }
   ],
   "source": [
    "data[nominal_feature_columns]"
   ]
  },
  {
   "cell_type": "markdown",
   "metadata": {},
   "source": [
    "Есть простой способ закодировать данные. Например, рассмотрим колонку `ecology`. Она принимает только следующие значения:"
   ]
  },
  {
   "cell_type": "code",
   "execution_count": 111,
   "metadata": {},
   "outputs": [
    {
     "data": {
      "text/plain": [
       "array(['excellent', 'good', 'no data', 'poor', 'satisfactory'],\n",
       "      dtype=object)"
      ]
     },
     "execution_count": 111,
     "metadata": {},
     "output_type": "execute_result"
    }
   ],
   "source": [
    "np.unique(data.ecology)"
   ]
  },
  {
   "cell_type": "markdown",
   "metadata": {},
   "source": [
    "Есть два варианта действий:\n",
    "- просто заменить каждое значение на число (4 - 'excellent', 3 - 'good' etc.)\n",
    "- рассмотреть каждое значение как отдельный признак и создать в таблице новые колонки с названиями этих значений\n",
    "\n",
    "Подумайте, почему $1$й способ хорошо подойдёт для колонки `ecology`, а $2$й -- для других двух столбцов.\n",
    "\n",
    "Создайте словарь, сопоставляющий числовые значения от $0$ до $4$ описанию экологии от `'no data'` до `'excellent'` соответственно:"
   ]
  },
  {
   "cell_type": "code",
   "execution_count": 112,
   "metadata": {},
   "outputs": [],
   "source": [
    "ecology_dict={'no data':0,'poor':1,'satisfactory':2,'good':3,'excellent':4}"
   ]
  },
  {
   "cell_type": "markdown",
   "metadata": {},
   "source": [
    "Теперь можно заменить значения в колонке `ecology` на заданные нами выше с помощью метода `.replace`:"
   ]
  },
  {
   "cell_type": "code",
   "execution_count": 113,
   "metadata": {},
   "outputs": [],
   "source": [
    "DataFeatures.ecology =DataFeatures.ecology.replace(to_replace=ecology_dict)"
   ]
  },
  {
   "cell_type": "code",
   "execution_count": 114,
   "metadata": {},
   "outputs": [
    {
     "data": {
      "text/plain": [
       "(30304, 13)"
      ]
     },
     "execution_count": 114,
     "metadata": {},
     "output_type": "execute_result"
    }
   ],
   "source": [
    "DataFeatures.shape"
   ]
  },
  {
   "cell_type": "code",
   "execution_count": 115,
   "metadata": {},
   "outputs": [
    {
     "data": {
      "text/html": [
       "<div>\n",
       "<style scoped>\n",
       "    .dataframe tbody tr th:only-of-type {\n",
       "        vertical-align: middle;\n",
       "    }\n",
       "\n",
       "    .dataframe tbody tr th {\n",
       "        vertical-align: top;\n",
       "    }\n",
       "\n",
       "    .dataframe thead th {\n",
       "        text-align: right;\n",
       "    }\n",
       "</style>\n",
       "<table border=\"1\" class=\"dataframe\">\n",
       "  <thead>\n",
       "    <tr style=\"text-align: right;\">\n",
       "      <th></th>\n",
       "      <th>sub_area</th>\n",
       "      <th>ecology</th>\n",
       "      <th>full_sq</th>\n",
       "      <th>children_school</th>\n",
       "      <th>university_top_20_raion</th>\n",
       "      <th>additional_education_km</th>\n",
       "      <th>university_km</th>\n",
       "      <th>nuclear_reactor_km</th>\n",
       "      <th>power_transmission_line_km</th>\n",
       "      <th>public_transport_station_km</th>\n",
       "      <th>public_transport_station_min_walk</th>\n",
       "      <th>kremlin_km</th>\n",
       "      <th>price_doc</th>\n",
       "    </tr>\n",
       "  </thead>\n",
       "  <tbody>\n",
       "    <tr>\n",
       "      <th>0</th>\n",
       "      <td>Bibirevo</td>\n",
       "      <td>3</td>\n",
       "      <td>43</td>\n",
       "      <td>10309</td>\n",
       "      <td>0</td>\n",
       "      <td>0.947962</td>\n",
       "      <td>6.715026</td>\n",
       "      <td>5.718519</td>\n",
       "      <td>1.062513</td>\n",
       "      <td>0.274985</td>\n",
       "      <td>3.299822</td>\n",
       "      <td>15.156211</td>\n",
       "      <td>5850000</td>\n",
       "    </tr>\n",
       "    <tr>\n",
       "      <th>1</th>\n",
       "      <td>Nagatinskij Zaton</td>\n",
       "      <td>4</td>\n",
       "      <td>34</td>\n",
       "      <td>7759</td>\n",
       "      <td>0</td>\n",
       "      <td>1.072315</td>\n",
       "      <td>1.852560</td>\n",
       "      <td>3.489954</td>\n",
       "      <td>1.246149</td>\n",
       "      <td>0.065263</td>\n",
       "      <td>0.783160</td>\n",
       "      <td>8.698054</td>\n",
       "      <td>6000000</td>\n",
       "    </tr>\n",
       "    <tr>\n",
       "      <th>2</th>\n",
       "      <td>Tekstil'shhiki</td>\n",
       "      <td>1</td>\n",
       "      <td>43</td>\n",
       "      <td>6207</td>\n",
       "      <td>0</td>\n",
       "      <td>0.391957</td>\n",
       "      <td>0.841254</td>\n",
       "      <td>7.506612</td>\n",
       "      <td>1.602183</td>\n",
       "      <td>0.328756</td>\n",
       "      <td>3.945073</td>\n",
       "      <td>9.067885</td>\n",
       "      <td>5700000</td>\n",
       "    </tr>\n",
       "    <tr>\n",
       "      <th>3</th>\n",
       "      <td>Mitino</td>\n",
       "      <td>3</td>\n",
       "      <td>89</td>\n",
       "      <td>13670</td>\n",
       "      <td>0</td>\n",
       "      <td>0.892674</td>\n",
       "      <td>10.903161</td>\n",
       "      <td>9.522538</td>\n",
       "      <td>1.767612</td>\n",
       "      <td>0.131597</td>\n",
       "      <td>1.579164</td>\n",
       "      <td>19.487005</td>\n",
       "      <td>13100000</td>\n",
       "    </tr>\n",
       "    <tr>\n",
       "      <th>4</th>\n",
       "      <td>Basmannoe</td>\n",
       "      <td>4</td>\n",
       "      <td>77</td>\n",
       "      <td>6748</td>\n",
       "      <td>2</td>\n",
       "      <td>0.810801</td>\n",
       "      <td>0.991683</td>\n",
       "      <td>8.671016</td>\n",
       "      <td>3.632640</td>\n",
       "      <td>0.071480</td>\n",
       "      <td>0.857764</td>\n",
       "      <td>2.578671</td>\n",
       "      <td>16331452</td>\n",
       "    </tr>\n",
       "    <tr>\n",
       "      <th>...</th>\n",
       "      <td>...</td>\n",
       "      <td>...</td>\n",
       "      <td>...</td>\n",
       "      <td>...</td>\n",
       "      <td>...</td>\n",
       "      <td>...</td>\n",
       "      <td>...</td>\n",
       "      <td>...</td>\n",
       "      <td>...</td>\n",
       "      <td>...</td>\n",
       "      <td>...</td>\n",
       "      <td>...</td>\n",
       "      <td>...</td>\n",
       "    </tr>\n",
       "    <tr>\n",
       "      <th>30466</th>\n",
       "      <td>Otradnoe</td>\n",
       "      <td>3</td>\n",
       "      <td>44</td>\n",
       "      <td>10311</td>\n",
       "      <td>0</td>\n",
       "      <td>0.167718</td>\n",
       "      <td>2.236806</td>\n",
       "      <td>4.993393</td>\n",
       "      <td>2.046756</td>\n",
       "      <td>0.093258</td>\n",
       "      <td>1.119101</td>\n",
       "      <td>12.599292</td>\n",
       "      <td>7400000</td>\n",
       "    </tr>\n",
       "    <tr>\n",
       "      <th>30467</th>\n",
       "      <td>Tverskoe</td>\n",
       "      <td>1</td>\n",
       "      <td>86</td>\n",
       "      <td>6398</td>\n",
       "      <td>2</td>\n",
       "      <td>0.086552</td>\n",
       "      <td>0.672662</td>\n",
       "      <td>7.537125</td>\n",
       "      <td>3.295494</td>\n",
       "      <td>0.090712</td>\n",
       "      <td>1.088544</td>\n",
       "      <td>3.269284</td>\n",
       "      <td>25000000</td>\n",
       "    </tr>\n",
       "    <tr>\n",
       "      <th>30468</th>\n",
       "      <td>Poselenie Vnukovskoe</td>\n",
       "      <td>0</td>\n",
       "      <td>45</td>\n",
       "      <td>264</td>\n",
       "      <td>0</td>\n",
       "      <td>1.339078</td>\n",
       "      <td>12.893684</td>\n",
       "      <td>17.397666</td>\n",
       "      <td>5.506770</td>\n",
       "      <td>0.630014</td>\n",
       "      <td>7.560163</td>\n",
       "      <td>21.905792</td>\n",
       "      <td>6970959</td>\n",
       "    </tr>\n",
       "    <tr>\n",
       "      <th>30469</th>\n",
       "      <td>Obruchevskoe</td>\n",
       "      <td>2</td>\n",
       "      <td>64</td>\n",
       "      <td>4635</td>\n",
       "      <td>1</td>\n",
       "      <td>1.340017</td>\n",
       "      <td>1.982450</td>\n",
       "      <td>8.011139</td>\n",
       "      <td>1.971656</td>\n",
       "      <td>0.261528</td>\n",
       "      <td>3.138330</td>\n",
       "      <td>13.622569</td>\n",
       "      <td>13500000</td>\n",
       "    </tr>\n",
       "    <tr>\n",
       "      <th>30470</th>\n",
       "      <td>Novogireevo</td>\n",
       "      <td>1</td>\n",
       "      <td>43</td>\n",
       "      <td>6533</td>\n",
       "      <td>0</td>\n",
       "      <td>0.825811</td>\n",
       "      <td>2.731394</td>\n",
       "      <td>14.359141</td>\n",
       "      <td>1.832979</td>\n",
       "      <td>0.250151</td>\n",
       "      <td>3.001814</td>\n",
       "      <td>11.812614</td>\n",
       "      <td>5600000</td>\n",
       "    </tr>\n",
       "  </tbody>\n",
       "</table>\n",
       "<p>30304 rows × 13 columns</p>\n",
       "</div>"
      ],
      "text/plain": [
       "                   sub_area  ecology  full_sq  children_school  \\\n",
       "0                  Bibirevo        3       43            10309   \n",
       "1         Nagatinskij Zaton        4       34             7759   \n",
       "2            Tekstil'shhiki        1       43             6207   \n",
       "3                    Mitino        3       89            13670   \n",
       "4                 Basmannoe        4       77             6748   \n",
       "...                     ...      ...      ...              ...   \n",
       "30466              Otradnoe        3       44            10311   \n",
       "30467              Tverskoe        1       86             6398   \n",
       "30468  Poselenie Vnukovskoe        0       45              264   \n",
       "30469          Obruchevskoe        2       64             4635   \n",
       "30470           Novogireevo        1       43             6533   \n",
       "\n",
       "       university_top_20_raion  additional_education_km  university_km  \\\n",
       "0                            0                 0.947962       6.715026   \n",
       "1                            0                 1.072315       1.852560   \n",
       "2                            0                 0.391957       0.841254   \n",
       "3                            0                 0.892674      10.903161   \n",
       "4                            2                 0.810801       0.991683   \n",
       "...                        ...                      ...            ...   \n",
       "30466                        0                 0.167718       2.236806   \n",
       "30467                        2                 0.086552       0.672662   \n",
       "30468                        0                 1.339078      12.893684   \n",
       "30469                        1                 1.340017       1.982450   \n",
       "30470                        0                 0.825811       2.731394   \n",
       "\n",
       "       nuclear_reactor_km  power_transmission_line_km  \\\n",
       "0                5.718519                    1.062513   \n",
       "1                3.489954                    1.246149   \n",
       "2                7.506612                    1.602183   \n",
       "3                9.522538                    1.767612   \n",
       "4                8.671016                    3.632640   \n",
       "...                   ...                         ...   \n",
       "30466            4.993393                    2.046756   \n",
       "30467            7.537125                    3.295494   \n",
       "30468           17.397666                    5.506770   \n",
       "30469            8.011139                    1.971656   \n",
       "30470           14.359141                    1.832979   \n",
       "\n",
       "       public_transport_station_km  public_transport_station_min_walk  \\\n",
       "0                         0.274985                           3.299822   \n",
       "1                         0.065263                           0.783160   \n",
       "2                         0.328756                           3.945073   \n",
       "3                         0.131597                           1.579164   \n",
       "4                         0.071480                           0.857764   \n",
       "...                            ...                                ...   \n",
       "30466                     0.093258                           1.119101   \n",
       "30467                     0.090712                           1.088544   \n",
       "30468                     0.630014                           7.560163   \n",
       "30469                     0.261528                           3.138330   \n",
       "30470                     0.250151                           3.001814   \n",
       "\n",
       "       kremlin_km  price_doc  \n",
       "0       15.156211    5850000  \n",
       "1        8.698054    6000000  \n",
       "2        9.067885    5700000  \n",
       "3       19.487005   13100000  \n",
       "4        2.578671   16331452  \n",
       "...           ...        ...  \n",
       "30466   12.599292    7400000  \n",
       "30467    3.269284   25000000  \n",
       "30468   21.905792    6970959  \n",
       "30469   13.622569   13500000  \n",
       "30470   11.812614    5600000  \n",
       "\n",
       "[30304 rows x 13 columns]"
      ]
     },
     "execution_count": 115,
     "metadata": {},
     "output_type": "execute_result"
    }
   ],
   "source": [
    "DataFeatures"
   ]
  },
  {
   "cell_type": "markdown",
   "metadata": {},
   "source": [
    "Для добавления новых колонок-признаков воспользуемся методом `.get_dummies`:"
   ]
  },
  {
   "cell_type": "code",
   "execution_count": 116,
   "metadata": {},
   "outputs": [],
   "source": [
    "DataFeatures = pd.get_dummies(DataFeatures, columns=['sub_area'])"
   ]
  },
  {
   "cell_type": "markdown",
   "metadata": {},
   "source": [
    "## Обучение модели\n",
    "Обучите модель линейной регрессии на полученных данных, посмотрите на полученное качество и коэффициенты. Для объективной оценки не забудьте разделить выборку на обучающую и контрольную."
   ]
  },
  {
   "cell_type": "code",
   "execution_count": 117,
   "metadata": {},
   "outputs": [],
   "source": [
    "from sklearn.linear_model import LinearRegression\n",
    "from sklearn.metrics import mean_squared_error\n",
    "from sklearn.model_selection import train_test_split"
   ]
  },
  {
   "cell_type": "code",
   "execution_count": 118,
   "metadata": {},
   "outputs": [
    {
     "data": {
      "text/plain": [
       "((30304, 157), (30304,))"
      ]
     },
     "execution_count": 118,
     "metadata": {},
     "output_type": "execute_result"
    }
   ],
   "source": [
    "Y = DataFeatures[target_column].values\n",
    "X = DataFeatures.drop(target_column, axis=1)\n",
    "X.shape, Y.shape"
   ]
  },
  {
   "cell_type": "code",
   "execution_count": 119,
   "metadata": {},
   "outputs": [],
   "source": [
    "# Разбиваем данные на обучающую и тестовую часть.\n",
    "X_train, X_test, Y_train, Y_test = train_test_split(X,Y, random_state=42)\n",
    "\n",
    "# Создание модели, которая будет подбирать веса для признаков.\n",
    "model=LinearRegression()\n",
    "# Просим модель подобрать веса для признаков.\n",
    "model.fit(X_train, Y_train)\n",
    "\n",
    "# Предсказываем значения с помощью модели.\n",
    "Y_train_predicted=model.predict(X_train)\n",
    "# YOUR CODE\n",
    "Y_test_predicted=model.predict(X_test)\n",
    "# YOUR CODE"
   ]
  },
  {
   "cell_type": "code",
   "execution_count": 120,
   "metadata": {},
   "outputs": [
    {
     "name": "stdout",
     "output_type": "stream",
     "text": [
      "3401670.1040122025\n"
     ]
    }
   ],
   "source": [
    "print((mean_squared_error(Y_train_predicted,Y_train))**0.5)"
   ]
  },
  {
   "cell_type": "code",
   "execution_count": 121,
   "metadata": {},
   "outputs": [
    {
     "name": "stdout",
     "output_type": "stream",
     "text": [
      "7686228.103879202\n"
     ]
    }
   ],
   "source": [
    "print((mean_squared_error(Y_test_predicted,Y_test))**0.5)"
   ]
  },
  {
   "cell_type": "markdown",
   "metadata": {},
   "source": [
    "## Нормализация признаков\n",
    "Казалось бы, чем больше коэффициент модели, тем сильнее признак влияет на предсказание.\n",
    "\n",
    "Но давайте посмотрим на разброс признаков: некоторые принимают значения порядка $10-100$, а некоторые --- около $0$:"
   ]
  },
  {
   "cell_type": "code",
   "execution_count": 122,
   "metadata": {},
   "outputs": [
    {
     "data": {
      "text/html": [
       "<div>\n",
       "<style scoped>\n",
       "    .dataframe tbody tr th:only-of-type {\n",
       "        vertical-align: middle;\n",
       "    }\n",
       "\n",
       "    .dataframe tbody tr th {\n",
       "        vertical-align: top;\n",
       "    }\n",
       "\n",
       "    .dataframe thead th {\n",
       "        text-align: right;\n",
       "    }\n",
       "</style>\n",
       "<table border=\"1\" class=\"dataframe\">\n",
       "  <thead>\n",
       "    <tr style=\"text-align: right;\">\n",
       "      <th></th>\n",
       "      <th>ecology</th>\n",
       "      <th>full_sq</th>\n",
       "      <th>children_school</th>\n",
       "      <th>university_top_20_raion</th>\n",
       "      <th>additional_education_km</th>\n",
       "      <th>university_km</th>\n",
       "      <th>nuclear_reactor_km</th>\n",
       "      <th>power_transmission_line_km</th>\n",
       "      <th>public_transport_station_km</th>\n",
       "      <th>public_transport_station_min_walk</th>\n",
       "      <th>...</th>\n",
       "      <th>sub_area_Vnukovo</th>\n",
       "      <th>sub_area_Vojkovskoe</th>\n",
       "      <th>sub_area_Vostochnoe</th>\n",
       "      <th>sub_area_Vostochnoe Degunino</th>\n",
       "      <th>sub_area_Vostochnoe Izmajlovo</th>\n",
       "      <th>sub_area_Vyhino-Zhulebino</th>\n",
       "      <th>sub_area_Zamoskvorech'e</th>\n",
       "      <th>sub_area_Zapadnoe Degunino</th>\n",
       "      <th>sub_area_Zjablikovo</th>\n",
       "      <th>sub_area_Zjuzino</th>\n",
       "    </tr>\n",
       "  </thead>\n",
       "  <tbody>\n",
       "    <tr>\n",
       "      <th>0</th>\n",
       "      <td>0.75</td>\n",
       "      <td>0.008074</td>\n",
       "      <td>0.536135</td>\n",
       "      <td>0.000000</td>\n",
       "      <td>0.039062</td>\n",
       "      <td>0.079125</td>\n",
       "      <td>0.084581</td>\n",
       "      <td>0.023843</td>\n",
       "      <td>0.015633</td>\n",
       "      <td>0.015633</td>\n",
       "      <td>...</td>\n",
       "      <td>0.0</td>\n",
       "      <td>0.0</td>\n",
       "      <td>0.0</td>\n",
       "      <td>0.0</td>\n",
       "      <td>0.0</td>\n",
       "      <td>0.0</td>\n",
       "      <td>0.0</td>\n",
       "      <td>0.0</td>\n",
       "      <td>0.0</td>\n",
       "      <td>0.0</td>\n",
       "    </tr>\n",
       "    <tr>\n",
       "      <th>1</th>\n",
       "      <td>1.00</td>\n",
       "      <td>0.006384</td>\n",
       "      <td>0.401322</td>\n",
       "      <td>0.000000</td>\n",
       "      <td>0.044186</td>\n",
       "      <td>0.021827</td>\n",
       "      <td>0.049731</td>\n",
       "      <td>0.028084</td>\n",
       "      <td>0.003588</td>\n",
       "      <td>0.003588</td>\n",
       "      <td>...</td>\n",
       "      <td>0.0</td>\n",
       "      <td>0.0</td>\n",
       "      <td>0.0</td>\n",
       "      <td>0.0</td>\n",
       "      <td>0.0</td>\n",
       "      <td>0.0</td>\n",
       "      <td>0.0</td>\n",
       "      <td>0.0</td>\n",
       "      <td>0.0</td>\n",
       "      <td>0.0</td>\n",
       "    </tr>\n",
       "    <tr>\n",
       "      <th>2</th>\n",
       "      <td>0.25</td>\n",
       "      <td>0.008074</td>\n",
       "      <td>0.319270</td>\n",
       "      <td>0.000000</td>\n",
       "      <td>0.016151</td>\n",
       "      <td>0.009910</td>\n",
       "      <td>0.112543</td>\n",
       "      <td>0.036308</td>\n",
       "      <td>0.018722</td>\n",
       "      <td>0.018722</td>\n",
       "      <td>...</td>\n",
       "      <td>0.0</td>\n",
       "      <td>0.0</td>\n",
       "      <td>0.0</td>\n",
       "      <td>0.0</td>\n",
       "      <td>0.0</td>\n",
       "      <td>0.0</td>\n",
       "      <td>0.0</td>\n",
       "      <td>0.0</td>\n",
       "      <td>0.0</td>\n",
       "      <td>0.0</td>\n",
       "    </tr>\n",
       "    <tr>\n",
       "      <th>3</th>\n",
       "      <td>0.75</td>\n",
       "      <td>0.016710</td>\n",
       "      <td>0.713825</td>\n",
       "      <td>0.000000</td>\n",
       "      <td>0.036784</td>\n",
       "      <td>0.128478</td>\n",
       "      <td>0.144068</td>\n",
       "      <td>0.040129</td>\n",
       "      <td>0.007398</td>\n",
       "      <td>0.007398</td>\n",
       "      <td>...</td>\n",
       "      <td>0.0</td>\n",
       "      <td>0.0</td>\n",
       "      <td>0.0</td>\n",
       "      <td>0.0</td>\n",
       "      <td>0.0</td>\n",
       "      <td>0.0</td>\n",
       "      <td>0.0</td>\n",
       "      <td>0.0</td>\n",
       "      <td>0.0</td>\n",
       "      <td>0.0</td>\n",
       "    </tr>\n",
       "    <tr>\n",
       "      <th>4</th>\n",
       "      <td>1.00</td>\n",
       "      <td>0.014457</td>\n",
       "      <td>0.347872</td>\n",
       "      <td>0.666667</td>\n",
       "      <td>0.033410</td>\n",
       "      <td>0.011682</td>\n",
       "      <td>0.130752</td>\n",
       "      <td>0.083207</td>\n",
       "      <td>0.003945</td>\n",
       "      <td>0.003945</td>\n",
       "      <td>...</td>\n",
       "      <td>0.0</td>\n",
       "      <td>0.0</td>\n",
       "      <td>0.0</td>\n",
       "      <td>0.0</td>\n",
       "      <td>0.0</td>\n",
       "      <td>0.0</td>\n",
       "      <td>0.0</td>\n",
       "      <td>0.0</td>\n",
       "      <td>0.0</td>\n",
       "      <td>0.0</td>\n",
       "    </tr>\n",
       "  </tbody>\n",
       "</table>\n",
       "<p>5 rows × 157 columns</p>\n",
       "</div>"
      ],
      "text/plain": [
       "   ecology   full_sq  children_school  university_top_20_raion  \\\n",
       "0     0.75  0.008074         0.536135                 0.000000   \n",
       "1     1.00  0.006384         0.401322                 0.000000   \n",
       "2     0.25  0.008074         0.319270                 0.000000   \n",
       "3     0.75  0.016710         0.713825                 0.000000   \n",
       "4     1.00  0.014457         0.347872                 0.666667   \n",
       "\n",
       "   additional_education_km  university_km  nuclear_reactor_km  \\\n",
       "0                 0.039062       0.079125            0.084581   \n",
       "1                 0.044186       0.021827            0.049731   \n",
       "2                 0.016151       0.009910            0.112543   \n",
       "3                 0.036784       0.128478            0.144068   \n",
       "4                 0.033410       0.011682            0.130752   \n",
       "\n",
       "   power_transmission_line_km  public_transport_station_km  \\\n",
       "0                    0.023843                     0.015633   \n",
       "1                    0.028084                     0.003588   \n",
       "2                    0.036308                     0.018722   \n",
       "3                    0.040129                     0.007398   \n",
       "4                    0.083207                     0.003945   \n",
       "\n",
       "   public_transport_station_min_walk  ...  sub_area_Vnukovo  \\\n",
       "0                           0.015633  ...               0.0   \n",
       "1                           0.003588  ...               0.0   \n",
       "2                           0.018722  ...               0.0   \n",
       "3                           0.007398  ...               0.0   \n",
       "4                           0.003945  ...               0.0   \n",
       "\n",
       "   sub_area_Vojkovskoe  sub_area_Vostochnoe  sub_area_Vostochnoe Degunino  \\\n",
       "0                  0.0                  0.0                           0.0   \n",
       "1                  0.0                  0.0                           0.0   \n",
       "2                  0.0                  0.0                           0.0   \n",
       "3                  0.0                  0.0                           0.0   \n",
       "4                  0.0                  0.0                           0.0   \n",
       "\n",
       "   sub_area_Vostochnoe Izmajlovo  sub_area_Vyhino-Zhulebino  \\\n",
       "0                            0.0                        0.0   \n",
       "1                            0.0                        0.0   \n",
       "2                            0.0                        0.0   \n",
       "3                            0.0                        0.0   \n",
       "4                            0.0                        0.0   \n",
       "\n",
       "   sub_area_Zamoskvorech'e  sub_area_Zapadnoe Degunino  sub_area_Zjablikovo  \\\n",
       "0                      0.0                         0.0                  0.0   \n",
       "1                      0.0                         0.0                  0.0   \n",
       "2                      0.0                         0.0                  0.0   \n",
       "3                      0.0                         0.0                  0.0   \n",
       "4                      0.0                         0.0                  0.0   \n",
       "\n",
       "   sub_area_Zjuzino  \n",
       "0               0.0  \n",
       "1               0.0  \n",
       "2               0.0  \n",
       "3               0.0  \n",
       "4               0.0  \n",
       "\n",
       "[5 rows x 157 columns]"
      ]
     },
     "execution_count": 122,
     "metadata": {},
     "output_type": "execute_result"
    }
   ],
   "source": [
    "from sklearn.preprocessing import MinMaxScaler\n",
    "\n",
    "# Создаём инструмент для нормализации признаков.\n",
    "min_max_scaler = MinMaxScaler()\n",
    "# Преобразуем признаки (на выходе будет np.ndarray).\n",
    "X_scaled = min_max_scaler.fit_transform(X)\n",
    "# Преобразуем np.ndarray обратно в pandas таблицу для удобства.\n",
    "X_scaled = pd.DataFrame(X_scaled, columns=X.columns)\n",
    "\n",
    "X_scaled.head()"
   ]
  },
  {
   "cell_type": "markdown",
   "metadata": {},
   "source": [
    "## Регрессия из библиотеки scipy\n",
    "Конечно, линейная регрессия реализована не в одной питонячьей библиотеке. Например, есть такая версия из библиотеки `scipy`. Её достаточно сложно заставить предсказывать значения на новых (тестовых) данных, зато она предоставляет много статистической информации о процессе обучения и полученных коэффициентах модели."
   ]
  },
  {
   "cell_type": "code",
   "execution_count": 123,
   "metadata": {},
   "outputs": [
    {
     "name": "stdout",
     "output_type": "stream",
     "text": [
      "                                 OLS Regression Results                                \n",
      "=======================================================================================\n",
      "Dep. Variable:                      y   R-squared (uncentered):                   0.787\n",
      "Model:                            OLS   Adj. R-squared (uncentered):              0.786\n",
      "Method:                 Least Squares   F-statistic:                              719.0\n",
      "Date:                Wed, 02 Dec 2020   Prob (F-statistic):                        0.00\n",
      "Time:                        00:09:22   Log-Likelihood:                     -5.0338e+05\n",
      "No. Observations:               30304   AIC:                                  1.007e+06\n",
      "Df Residuals:                   30149   BIC:                                  1.008e+06\n",
      "Df Model:                         155                                                  \n",
      "Covariance Type:            nonrobust                                                  \n",
      "===========================================================================================================\n",
      "                                              coef    std err          t      P>|t|      [0.025      0.975]\n",
      "-----------------------------------------------------------------------------------------------------------\n",
      "ecology                                  3.015e+05    1.9e+05      1.584      0.113   -7.15e+04    6.74e+05\n",
      "full_sq                                   2.12e+08   3.26e+06     65.117      0.000    2.06e+08    2.18e+08\n",
      "children_school                          3.033e+06   1.16e+08      0.026      0.979   -2.24e+08     2.3e+08\n",
      "university_top_20_raion                  8.522e+07   5.59e+08      0.152      0.879   -1.01e+09    1.18e+09\n",
      "additional_education_km                 -3.198e+06   1.11e+06     -2.882      0.004   -5.37e+06   -1.02e+06\n",
      "university_km                           -7.674e+06   2.19e+06     -3.506      0.000    -1.2e+07   -3.38e+06\n",
      "nuclear_reactor_km                       8.068e+06   2.49e+06      3.244      0.001    3.19e+06    1.29e+07\n",
      "power_transmission_line_km               3.876e+06    1.7e+06      2.283      0.022    5.49e+05     7.2e+06\n",
      "public_transport_station_km               2.03e+14   1.44e+15      0.141      0.888   -2.62e+15    3.02e+15\n",
      "public_transport_station_min_walk        -2.03e+14   1.44e+15     -0.141      0.888   -3.02e+15    2.62e+15\n",
      "kremlin_km                               -1.65e+07   2.66e+06     -6.203      0.000   -2.17e+07   -1.13e+07\n",
      "sub_area_Ajeroport                      -2.014e+07   1.61e+08     -0.125      0.901   -3.37e+08    2.96e+08\n",
      "sub_area_Akademicheskoe                  8.935e+06   3.51e+07      0.255      0.799   -5.98e+07    7.77e+07\n",
      "sub_area_Alekseevskoe                    7.181e+06   2.34e+07      0.307      0.758   -3.86e+07     5.3e+07\n",
      "sub_area_Altuf'evskoe                    5.939e+06   2.38e+07      0.250      0.803   -4.07e+07    5.26e+07\n",
      "sub_area_Arbat                           1.257e+07   7.78e+06      1.616      0.106   -2.68e+06    2.78e+07\n",
      "sub_area_Babushkinskoe                    6.67e+06   2.79e+07      0.239      0.811   -4.81e+07    6.14e+07\n",
      "sub_area_Basmannoe                      -4.931e+07   3.32e+08     -0.148      0.882   -7.01e+08    6.02e+08\n",
      "sub_area_Begovoe                         8.238e+06   1.29e+07      0.638      0.523   -1.71e+07    3.35e+07\n",
      "sub_area_Beskudnikovskoe                  6.94e+06   2.56e+07      0.271      0.786   -4.33e+07    5.71e+07\n",
      "sub_area_Bibirevo                        6.364e+06   6.22e+07      0.102      0.918   -1.15e+08    1.28e+08\n",
      "sub_area_Birjulevo Vostochnoe            5.333e+06   6.41e+07      0.083      0.934    -1.2e+08    1.31e+08\n",
      "sub_area_Birjulevo Zapadnoe              7.091e+06   3.66e+07      0.193      0.847   -6.47e+07    7.89e+07\n",
      "sub_area_Bogorodskoe                     4.246e+06   3.65e+07      0.116      0.907   -6.73e+07    7.58e+07\n",
      "sub_area_Brateevo                         6.81e+06   3.31e+07      0.206      0.837    -5.8e+07    7.16e+07\n",
      "sub_area_Butyrskoe                       6.249e+06   2.59e+07      0.242      0.809   -4.45e+07     5.7e+07\n",
      "sub_area_Caricyno                        6.614e+06   3.14e+07      0.211      0.833   -5.49e+07    6.81e+07\n",
      "sub_area_Cheremushki                     7.866e+06   3.66e+07      0.215      0.830   -6.39e+07    7.96e+07\n",
      "sub_area_Chertanovo Central'noe          7.145e+06   5.21e+07      0.137      0.891    -9.5e+07    1.09e+08\n",
      "sub_area_Chertanovo Juzhnoe              7.456e+06   5.06e+07      0.147      0.883   -9.18e+07    1.07e+08\n",
      "sub_area_Chertanovo Severnoe              7.03e+06   4.79e+07      0.147      0.883   -8.68e+07    1.01e+08\n",
      "sub_area_Danilovskoe                     7.244e+06   3.37e+07      0.215      0.830   -5.88e+07    7.33e+07\n",
      "sub_area_Dmitrovskoe                     6.922e+06   2.62e+07      0.264      0.792   -4.44e+07    5.82e+07\n",
      "sub_area_Donskoe                          1.01e+07   1.96e+07      0.515      0.607   -2.84e+07    4.86e+07\n",
      "sub_area_Dorogomilovo                    1.025e+07   1.58e+07      0.650      0.516   -2.07e+07    4.12e+07\n",
      "sub_area_Filevskij Park                  6.968e+06   2.28e+07      0.305      0.760   -3.78e+07    5.17e+07\n",
      "sub_area_Fili Davydkovo                  7.229e+06   4.45e+07      0.162      0.871      -8e+07    9.44e+07\n",
      "sub_area_Gagarinskoe                     1.108e+07   2.16e+07      0.514      0.607   -3.12e+07    5.33e+07\n",
      "sub_area_Gol'janovo                      3.637e+06   4.81e+07      0.076      0.940   -9.06e+07    9.78e+07\n",
      "sub_area_Golovinskoe                     6.605e+06   2.99e+07      0.221      0.825    -5.2e+07    6.52e+07\n",
      "sub_area_Hamovniki                      -1.232e+07   1.41e+08     -0.087      0.930   -2.89e+08    2.64e+08\n",
      "sub_area_Horoshevo-Mnevniki              6.162e+06    7.4e+07      0.083      0.934   -1.39e+08    1.51e+08\n",
      "sub_area_Horoshevskoe                    9.046e+06   2.28e+07      0.396      0.692   -3.57e+07    5.38e+07\n",
      "sub_area_Hovrino                         8.469e+06   3.25e+07      0.261      0.794   -5.52e+07    7.22e+07\n",
      "sub_area_Ivanovskoe                      4.467e+06   3.57e+07      0.125      0.900   -6.56e+07    7.45e+07\n",
      "sub_area_Izmajlovo                       6.623e+06   3.14e+07      0.211      0.833   -5.49e+07    6.82e+07\n",
      "sub_area_Jakimanka                      -1.948e+07   1.77e+08     -0.110      0.912   -3.67e+08    3.28e+08\n",
      "sub_area_Jaroslavskoe                   -2.337e+07   1.43e+08     -0.164      0.870   -3.03e+08    2.56e+08\n",
      "sub_area_Jasenevo                        7.259e+06   6.77e+07      0.107      0.915   -1.26e+08     1.4e+08\n",
      "sub_area_Juzhnoe Butovo                  7.141e+06   9.03e+07      0.079      0.937    -1.7e+08    1.84e+08\n",
      "sub_area_Juzhnoe Medvedkovo               5.94e+06   2.88e+07      0.207      0.836   -5.04e+07    6.23e+07\n",
      "sub_area_Juzhnoe Tushino                 7.718e+06   3.66e+07      0.211      0.833    -6.4e+07    7.94e+07\n",
      "sub_area_Juzhnoportovoe                  6.465e+06   2.64e+07      0.245      0.807   -4.53e+07    5.82e+07\n",
      "sub_area_Kapotnja                        6.618e+06   9.82e+06      0.674      0.500   -1.26e+07    2.59e+07\n",
      "sub_area_Kon'kovo                        7.835e+06   4.78e+07      0.164      0.870   -8.58e+07    1.01e+08\n",
      "sub_area_Koptevo                         6.396e+06   3.92e+07      0.163      0.870   -7.05e+07    8.33e+07\n",
      "sub_area_Kosino-Uhtomskoe                5.648e+06   3.41e+07      0.166      0.869   -6.12e+07    7.25e+07\n",
      "sub_area_Kotlovka                        6.554e+06   2.23e+07      0.294      0.769   -3.72e+07    5.03e+07\n",
      "sub_area_Krasnosel'skoe                  7.925e+06    1.7e+07      0.466      0.642   -2.54e+07    4.13e+07\n",
      "sub_area_Krjukovo                        7.508e+06   3.36e+07      0.223      0.823   -5.84e+07    7.34e+07\n",
      "sub_area_Krylatskoe                      1.187e+07      3e+07      0.395      0.693    -4.7e+07    7.07e+07\n",
      "sub_area_Kuncevo                         8.037e+06   5.59e+07      0.144      0.886   -1.02e+08    1.18e+08\n",
      "sub_area_Kurkino                         1.384e+07   1.57e+07      0.880      0.379    -1.7e+07    4.47e+07\n",
      "sub_area_Kuz'minki                       4.564e+06   4.59e+07      0.099      0.921   -8.54e+07    9.45e+07\n",
      "sub_area_Lefortovo                      -2.391e+07   1.56e+08     -0.153      0.878   -3.29e+08    2.81e+08\n",
      "sub_area_Levoberezhnoe                    9.38e+06   1.61e+07      0.584      0.559   -2.21e+07    4.09e+07\n",
      "sub_area_Lianozovo                       7.727e+06   2.71e+07      0.286      0.775   -4.53e+07    6.08e+07\n",
      "sub_area_Ljublino                        4.431e+06   6.88e+07      0.064      0.949    -1.3e+08    1.39e+08\n",
      "sub_area_Lomonosovskoe                   1.173e+07   2.98e+07      0.394      0.694   -4.67e+07    7.01e+07\n",
      "sub_area_Losinoostrovskoe                6.696e+06   2.58e+07      0.259      0.795   -4.39e+07    5.73e+07\n",
      "sub_area_Mar'ina Roshha                  6.172e+06   1.92e+07      0.322      0.748   -3.14e+07    4.38e+07\n",
      "sub_area_Mar'ino                         4.805e+06   1.16e+08      0.041      0.967   -2.22e+08    2.32e+08\n",
      "sub_area_Marfino                         6.197e+06   8.16e+06      0.759      0.448    -9.8e+06    2.22e+07\n",
      "sub_area_Matushkino                      7.842e+06   1.59e+07      0.494      0.621   -2.33e+07    3.89e+07\n",
      "sub_area_Meshhanskoe                    -2.022e+07   1.68e+08     -0.120      0.904    -3.5e+08     3.1e+08\n",
      "sub_area_Metrogorodok                    4.889e+06    1.3e+07      0.377      0.706   -2.05e+07    3.03e+07\n",
      "sub_area_Mitino                          8.168e+06   8.28e+07      0.099      0.921   -1.54e+08     1.7e+08\n",
      "sub_area_Molzhaninovskoe                 5.621e+06   2.46e+06      2.281      0.023    7.91e+05    1.05e+07\n",
      "sub_area_Moskvorech'e-Saburovo           -2.05e+07   1.68e+08     -0.122      0.903    -3.5e+08    3.09e+08\n",
      "sub_area_Mozhajskoe                       6.39e+06   6.28e+07      0.102      0.919   -1.17e+08     1.3e+08\n",
      "sub_area_Nagatino-Sadovniki              6.216e+06   2.73e+07      0.227      0.820   -4.74e+07    5.98e+07\n",
      "sub_area_Nagatinskij Zaton               6.625e+06   4.65e+07      0.142      0.887   -8.46e+07    9.79e+07\n",
      "sub_area_Nagornoe                        8.472e+06   3.09e+07      0.274      0.784   -5.21e+07    6.91e+07\n",
      "sub_area_Nekrasovka                      5.779e+06   8.58e+06      0.673      0.501    -1.1e+07    2.26e+07\n",
      "sub_area_Nizhegorodskoe                  4.727e+06   1.44e+07      0.328      0.743   -2.35e+07    3.29e+07\n",
      "sub_area_Novo-Peredelkino                6.578e+06   3.12e+07      0.211      0.833   -5.46e+07    6.78e+07\n",
      "sub_area_Novogireevo                     4.588e+06    3.9e+07      0.118      0.906   -7.19e+07    8.11e+07\n",
      "sub_area_Novokosino                       6.14e+06   3.31e+07      0.185      0.853   -5.88e+07    7.11e+07\n",
      "sub_area_Obruchevskoe                   -1.675e+07   1.59e+08     -0.105      0.916   -3.28e+08    2.95e+08\n",
      "sub_area_Ochakovo-Matveevskoe             6.28e+06   4.63e+07      0.136      0.892   -8.44e+07     9.7e+07\n",
      "sub_area_Orehovo-Borisovo Juzhnoe        7.336e+06   4.33e+07      0.170      0.865   -7.75e+07    9.21e+07\n",
      "sub_area_Orehovo-Borisovo Severnoe       7.297e+06   2.83e+07      0.258      0.797   -4.82e+07    6.28e+07\n",
      "sub_area_Ostankinskoe                    6.966e+06   2.19e+07      0.317      0.751    -3.6e+07       5e+07\n",
      "sub_area_Otradnoe                        5.736e+06   6.22e+07      0.092      0.927   -1.16e+08    1.28e+08\n",
      "sub_area_Pechatniki                      4.536e+06   2.97e+07      0.153      0.879   -5.37e+07    6.27e+07\n",
      "sub_area_Perovo                          4.207e+06   3.92e+07      0.107      0.915   -7.26e+07     8.1e+07\n",
      "sub_area_Pokrovskoe Streshnevo           9.277e+06      2e+07      0.464      0.643   -2.99e+07    4.85e+07\n",
      "sub_area_Poselenie Desjonovskoe          7.493e+06   4.65e+06      1.612      0.107   -1.62e+06    1.66e+07\n",
      "sub_area_Poselenie Filimonkovskoe        6.493e+06   7.68e+05      8.450      0.000    4.99e+06       8e+06\n",
      "sub_area_Poselenie Kievskij              1.576e+07   4.24e+06      3.712      0.000    7.44e+06    2.41e+07\n",
      "sub_area_Poselenie Klenovskoe            1.114e+07   4.31e+06      2.586      0.010     2.7e+06    1.96e+07\n",
      "sub_area_Poselenie Kokoshkino             6.36e+06   3.81e+06      1.669      0.095   -1.11e+06    1.38e+07\n",
      "sub_area_Poselenie Krasnopahorskoe       7.533e+06   1.42e+06      5.299      0.000    4.75e+06    1.03e+07\n",
      "sub_area_Poselenie Marushkinskoe         6.814e+06   2.17e+06      3.135      0.002    2.55e+06    1.11e+07\n",
      "sub_area_Poselenie Mihajlovo-Jarcevskoe  9.357e+06   4.28e+06      2.185      0.029    9.62e+05    1.78e+07\n",
      "sub_area_Poselenie Moskovskij            6.615e+06    7.8e+06      0.848      0.396   -8.67e+06    2.19e+07\n",
      "sub_area_Poselenie Mosrentgen            5.754e+06   6.01e+06      0.957      0.339   -6.03e+06    1.75e+07\n",
      "sub_area_Poselenie Novofedorovskoe       8.952e+06   2.42e+06      3.692      0.000     4.2e+06    1.37e+07\n",
      "sub_area_Poselenie Pervomajskoe          7.767e+06   2.13e+06      3.645      0.000    3.59e+06    1.19e+07\n",
      "sub_area_Poselenie Rjazanovskoe          9.733e+06   6.56e+06      1.484      0.138   -3.12e+06    2.26e+07\n",
      "sub_area_Poselenie Rogovskoe             1.645e+07   2.59e+06      6.356      0.000    1.14e+07    2.15e+07\n",
      "sub_area_Poselenie Shhapovskoe           7.722e+06   3.63e+06      2.129      0.033    6.12e+05    1.48e+07\n",
      "sub_area_Poselenie Shherbinka            7.675e+06   1.06e+07      0.726      0.468   -1.31e+07    2.84e+07\n",
      "sub_area_Poselenie Sosenskoe             7.333e+06   2.88e+06      2.543      0.011    1.68e+06     1.3e+07\n",
      "sub_area_Poselenie Vnukovskoe            7.943e+06   7.99e+05      9.936      0.000    6.38e+06    9.51e+06\n",
      "sub_area_Poselenie Voronovskoe           1.182e+07   3.25e+06      3.636      0.000    5.45e+06    1.82e+07\n",
      "sub_area_Poselenie Voskresenskoe         8.272e+06   1.94e+06      4.263      0.000    4.47e+06    1.21e+07\n",
      "sub_area_Preobrazhenskoe                 4.511e+06   2.03e+07      0.222      0.824   -3.53e+07    4.43e+07\n",
      "sub_area_Presnenskoe                    -1.768e+07   1.45e+08     -0.122      0.903   -3.03e+08    2.67e+08\n",
      "sub_area_Prospekt Vernadskogo           -1.664e+07   1.67e+08     -0.100      0.920   -3.43e+08     3.1e+08\n",
      "sub_area_Ramenki                        -1.838e+07    1.4e+08     -0.131      0.896   -2.93e+08    2.56e+08\n",
      "sub_area_Rjazanskij                      5.011e+06   3.92e+07      0.128      0.898   -7.19e+07    8.19e+07\n",
      "sub_area_Rostokino                      -2.206e+07   1.73e+08     -0.128      0.898    -3.6e+08    3.16e+08\n",
      "sub_area_Savelki                         8.145e+06    1.1e+07      0.740      0.459   -1.34e+07    2.97e+07\n",
      "sub_area_Savelovskoe                     6.479e+06   2.36e+07      0.275      0.784   -3.98e+07    5.27e+07\n",
      "sub_area_Severnoe                         7.88e+06   1.38e+07      0.569      0.569   -1.92e+07     3.5e+07\n",
      "sub_area_Severnoe Butovo                 9.163e+06   2.84e+07      0.323      0.747   -4.64e+07    6.48e+07\n",
      "sub_area_Severnoe Izmajlovo              3.988e+06   3.26e+07      0.122      0.903      -6e+07    6.79e+07\n",
      "sub_area_Severnoe Medvedkovo             6.035e+06   6.06e+07      0.100      0.921   -1.13e+08    1.25e+08\n",
      "sub_area_Severnoe Tushino                7.686e+06   6.84e+07      0.112      0.910   -1.26e+08    1.42e+08\n",
      "sub_area_Shhukino                        8.334e+06   4.19e+07      0.199      0.843   -7.39e+07    9.05e+07\n",
      "sub_area_Silino                          8.483e+06   1.36e+07      0.626      0.531   -1.81e+07     3.5e+07\n",
      "sub_area_Sokol                           8.605e+06   1.97e+07      0.437      0.662      -3e+07    4.72e+07\n",
      "sub_area_Sokol'niki                      9.122e+06   1.62e+07      0.562      0.574   -2.27e+07    4.09e+07\n",
      "sub_area_Sokolinaja Gora                -2.362e+07   1.58e+08     -0.149      0.881   -3.34e+08    2.86e+08\n",
      "sub_area_Solncevo                        5.146e+06   4.23e+07      0.122      0.903   -7.77e+07     8.8e+07\n",
      "sub_area_Staroe Krjukovo                 7.259e+06   1.12e+07      0.648      0.517   -1.47e+07    2.92e+07\n",
      "sub_area_Strogino                        8.697e+06   5.73e+07      0.152      0.879   -1.04e+08    1.21e+08\n",
      "sub_area_Sviblovo                        7.333e+06    2.1e+07      0.349      0.727   -3.38e+07    4.85e+07\n",
      "sub_area_Taganskoe                       -2.19e+07   1.44e+08     -0.152      0.879   -3.04e+08     2.6e+08\n",
      "sub_area_Tekstil'shhiki                  4.866e+06    3.7e+07      0.131      0.895   -6.77e+07    7.75e+07\n",
      "sub_area_Teplyj Stan                     7.623e+06   4.57e+07      0.167      0.867   -8.19e+07    9.71e+07\n",
      "sub_area_Timirjazevskoe                  6.175e+06   3.34e+07      0.185      0.853   -5.93e+07    7.16e+07\n",
      "sub_area_Troickij okrug                   7.81e+06    1.8e+07      0.435      0.664   -2.74e+07     4.3e+07\n",
      "sub_area_Troparevo-Nikulino             -1.908e+07   1.46e+08     -0.131      0.896   -3.05e+08    2.67e+08\n",
      "sub_area_Tverskoe                       -5.439e+07   3.35e+08     -0.163      0.871    -7.1e+08    6.01e+08\n",
      "sub_area_Veshnjaki                       4.731e+06   3.44e+07      0.138      0.891   -6.27e+07    7.21e+07\n",
      "sub_area_Vnukovo                         7.298e+06   7.11e+06      1.026      0.305   -6.64e+06    2.12e+07\n",
      "sub_area_Vojkovskoe                      8.763e+06   2.26e+07      0.388      0.698   -3.55e+07    5.31e+07\n",
      "sub_area_Vostochnoe                        5.1e+06   3.44e+06      1.482      0.138   -1.64e+06    1.18e+07\n",
      "sub_area_Vostochnoe Degunino             6.399e+06   4.03e+07      0.159      0.874   -7.26e+07    8.54e+07\n",
      "sub_area_Vostochnoe Izmajlovo              3.8e+06   2.84e+07      0.134      0.893   -5.18e+07    5.94e+07\n",
      "sub_area_Vyhino-Zhulebino                 4.75e+06   6.38e+07      0.074      0.941    -1.2e+08     1.3e+08\n",
      "sub_area_Zamoskvorech'e                 -7.309e+07   5.37e+08     -0.136      0.892   -1.13e+09     9.8e+08\n",
      "sub_area_Zapadnoe Degunino               5.919e+06   3.41e+07      0.173      0.862    -6.1e+07    7.28e+07\n",
      "sub_area_Zjablikovo                      6.426e+06    5.2e+07      0.124      0.902   -9.55e+07    1.08e+08\n",
      "sub_area_Zjuzino                        -4.961e+07   3.33e+08     -0.149      0.881   -7.01e+08    6.02e+08\n",
      "==============================================================================\n",
      "Omnibus:                    17703.438   Durbin-Watson:                   1.948\n",
      "Prob(Omnibus):                  0.000   Jarque-Bera (JB):        115984141.992\n",
      "Skew:                          -0.990   Prob(JB):                         0.00\n",
      "Kurtosis:                     306.072   Cond. No.                     1.22e+16\n",
      "==============================================================================\n",
      "\n",
      "Warnings:\n",
      "[1] Standard Errors assume that the covariance matrix of the errors is correctly specified.\n",
      "[2] The smallest eigenvalue is 9.35e-29. This might indicate that there are\n",
      "strong multicollinearity problems or that the design matrix is singular.\n"
     ]
    }
   ],
   "source": [
    "import statsmodels.api as sm\n",
    "\n",
    "\n",
    "ols_model = sm.OLS(Y, X_scaled, hasconst=False)\n",
    "ols_results = ols_model.fit()\n",
    "print(ols_results.summary())"
   ]
  },
  {
   "cell_type": "markdown",
   "metadata": {},
   "source": [
    "- Значение в `P>|t|` позволяет оценить **не**важность признака для модели (если значение близко к нулю, признак вносит значительный вклад в предсказания).\n",
    "- `R-squared` (доля объяснённой дисперсии) позволяет оценить, насколько хорошо модель описывает данные (чем ближе к 1, тем лучше).\n",
    "- `Prob (F-statistic)` говорит нам, насколько модель хуже, чем если бы мы просто положили все веса равными нулю (т.е. чем ближе это значение к 0, тем лучше наша модель по сравнению с константой).\n",
    "\n",
    "Если не очень боитесь математическую статистику и теорвер, можете сходить за подробностями [сюда](http://efavdb.com/interpret-linear-regression/)."
   ]
  },
  {
   "cell_type": "markdown",
   "metadata": {},
   "source": [
    "# Классификация"
   ]
  },
  {
   "cell_type": "markdown",
   "metadata": {},
   "source": [
    "**Что делает классификация?**"
   ]
  },
  {
   "cell_type": "markdown",
   "metadata": {},
   "source": [
    "Разделяет объекты по заранее известному признаку. Носки по цветам, документы по языкам, музыку по жанрам"
   ]
  },
  {
   "cell_type": "markdown",
   "metadata": {},
   "source": [
    "Сегодня различные методы классификации используют для решения кучи задач, например - \n",
    "\n",
    "* Спам-фильтры\n",
    "* Определение языка\n",
    "* Поиск похожих документов\n",
    "* Анализ тональности\n",
    "* Распознавание рукописных букв и цифр\n",
    "* Определение подозрительных транзакций"
   ]
  },
  {
   "cell_type": "markdown",
   "metadata": {},
   "source": [
    "![image.png](https://media.geeksforgeeks.org/wp-content/uploads/classification-1.png)"
   ]
  },
  {
   "cell_type": "markdown",
   "metadata": {},
   "source": [
    "### Итак, пришло время практики!\n",
    "\n",
    "Работаем по уже хорошо отработанной тактике"
   ]
  },
  {
   "cell_type": "code",
   "execution_count": 124,
   "metadata": {},
   "outputs": [],
   "source": [
    "from sklearn.model_selection import train_test_split # функция чтобы разбить данные на трейн и тест\n",
    "from sklearn.linear_model import LogisticRegression # наша модель для классификации"
   ]
  },
  {
   "cell_type": "code",
   "execution_count": 125,
   "metadata": {},
   "outputs": [
    {
     "name": "stdout",
     "output_type": "stream",
     "text": [
      ".. _breast_cancer_dataset:\n",
      "\n",
      "Breast cancer wisconsin (diagnostic) dataset\n",
      "--------------------------------------------\n",
      "\n",
      "**Data Set Characteristics:**\n",
      "\n",
      "    :Number of Instances: 569\n",
      "\n",
      "    :Number of Attributes: 30 numeric, predictive attributes and the class\n",
      "\n",
      "    :Attribute Information:\n",
      "        - radius (mean of distances from center to points on the perimeter)\n",
      "        - texture (standard deviation of gray-scale values)\n",
      "        - perimeter\n",
      "        - area\n",
      "        - smoothness (local variation in radius lengths)\n",
      "        - compactness (perimeter^2 / area - 1.0)\n",
      "        - concavity (severity of concave portions of the contour)\n",
      "        - concave points (number of concave portions of the contour)\n",
      "        - symmetry \n",
      "        - fractal dimension (\"coastline approximation\" - 1)\n",
      "\n",
      "        The mean, standard error, and \"worst\" or largest (mean of the three\n",
      "        largest values) of these features were computed for each image,\n",
      "        resulting in 30 features.  For instance, field 3 is Mean Radius, field\n",
      "        13 is Radius SE, field 23 is Worst Radius.\n",
      "\n",
      "        - class:\n",
      "                - WDBC-Malignant\n",
      "                - WDBC-Benign\n",
      "\n",
      "    :Summary Statistics:\n",
      "\n",
      "    ===================================== ====== ======\n",
      "                                           Min    Max\n",
      "    ===================================== ====== ======\n",
      "    radius (mean):                        6.981  28.11\n",
      "    texture (mean):                       9.71   39.28\n",
      "    perimeter (mean):                     43.79  188.5\n",
      "    area (mean):                          143.5  2501.0\n",
      "    smoothness (mean):                    0.053  0.163\n",
      "    compactness (mean):                   0.019  0.345\n",
      "    concavity (mean):                     0.0    0.427\n",
      "    concave points (mean):                0.0    0.201\n",
      "    symmetry (mean):                      0.106  0.304\n",
      "    fractal dimension (mean):             0.05   0.097\n",
      "    radius (standard error):              0.112  2.873\n",
      "    texture (standard error):             0.36   4.885\n",
      "    perimeter (standard error):           0.757  21.98\n",
      "    area (standard error):                6.802  542.2\n",
      "    smoothness (standard error):          0.002  0.031\n",
      "    compactness (standard error):         0.002  0.135\n",
      "    concavity (standard error):           0.0    0.396\n",
      "    concave points (standard error):      0.0    0.053\n",
      "    symmetry (standard error):            0.008  0.079\n",
      "    fractal dimension (standard error):   0.001  0.03\n",
      "    radius (worst):                       7.93   36.04\n",
      "    texture (worst):                      12.02  49.54\n",
      "    perimeter (worst):                    50.41  251.2\n",
      "    area (worst):                         185.2  4254.0\n",
      "    smoothness (worst):                   0.071  0.223\n",
      "    compactness (worst):                  0.027  1.058\n",
      "    concavity (worst):                    0.0    1.252\n",
      "    concave points (worst):               0.0    0.291\n",
      "    symmetry (worst):                     0.156  0.664\n",
      "    fractal dimension (worst):            0.055  0.208\n",
      "    ===================================== ====== ======\n",
      "\n",
      "    :Missing Attribute Values: None\n",
      "\n",
      "    :Class Distribution: 212 - Malignant, 357 - Benign\n",
      "\n",
      "    :Creator:  Dr. William H. Wolberg, W. Nick Street, Olvi L. Mangasarian\n",
      "\n",
      "    :Donor: Nick Street\n",
      "\n",
      "    :Date: November, 1995\n",
      "\n",
      "This is a copy of UCI ML Breast Cancer Wisconsin (Diagnostic) datasets.\n",
      "https://goo.gl/U2Uwz2\n",
      "\n",
      "Features are computed from a digitized image of a fine needle\n",
      "aspirate (FNA) of a breast mass.  They describe\n",
      "characteristics of the cell nuclei present in the image.\n",
      "\n",
      "Separating plane described above was obtained using\n",
      "Multisurface Method-Tree (MSM-T) [K. P. Bennett, \"Decision Tree\n",
      "Construction Via Linear Programming.\" Proceedings of the 4th\n",
      "Midwest Artificial Intelligence and Cognitive Science Society,\n",
      "pp. 97-101, 1992], a classification method which uses linear\n",
      "programming to construct a decision tree.  Relevant features\n",
      "were selected using an exhaustive search in the space of 1-4\n",
      "features and 1-3 separating planes.\n",
      "\n",
      "The actual linear program used to obtain the separating plane\n",
      "in the 3-dimensional space is that described in:\n",
      "[K. P. Bennett and O. L. Mangasarian: \"Robust Linear\n",
      "Programming Discrimination of Two Linearly Inseparable Sets\",\n",
      "Optimization Methods and Software 1, 1992, 23-34].\n",
      "\n",
      "This database is also available through the UW CS ftp server:\n",
      "\n",
      "ftp ftp.cs.wisc.edu\n",
      "cd math-prog/cpo-dataset/machine-learn/WDBC/\n",
      "\n",
      ".. topic:: References\n",
      "\n",
      "   - W.N. Street, W.H. Wolberg and O.L. Mangasarian. Nuclear feature extraction \n",
      "     for breast tumor diagnosis. IS&T/SPIE 1993 International Symposium on \n",
      "     Electronic Imaging: Science and Technology, volume 1905, pages 861-870,\n",
      "     San Jose, CA, 1993.\n",
      "   - O.L. Mangasarian, W.N. Street and W.H. Wolberg. Breast cancer diagnosis and \n",
      "     prognosis via linear programming. Operations Research, 43(4), pages 570-577, \n",
      "     July-August 1995.\n",
      "   - W.H. Wolberg, W.N. Street, and O.L. Mangasarian. Machine learning techniques\n",
      "     to diagnose breast cancer from fine-needle aspirates. Cancer Letters 77 (1994) \n",
      "     163-171.\n"
     ]
    }
   ],
   "source": [
    "from sklearn.datasets import load_breast_cancer, load_iris # Заберем два датасета\n",
    "breast_cancer = load_breast_cancer()\n",
    "print(breast_cancer.DESCR) "
   ]
  },
  {
   "cell_type": "markdown",
   "metadata": {},
   "source": [
    "Теперь задаем Y (то что будем предсказывать) и Х (признаки, с помощью которых будем предсказывать)"
   ]
  },
  {
   "cell_type": "code",
   "execution_count": 126,
   "metadata": {},
   "outputs": [],
   "source": [
    "Y = breast_cancer.target # Наша целевая переменная, 0 если рака нет, 1 если есть\n",
    "X = breast_cancer.data  # X - признаки по которым мы будем предсказывать рак"
   ]
  },
  {
   "cell_type": "markdown",
   "metadata": {},
   "source": [
    "Мы доросли до той стадии, когда нам уже не нужно что-то знать о признаках\n",
    "\n",
    "Здесь мы можем просто брать готовые данные и загружать их в наши модели"
   ]
  },
  {
   "cell_type": "code",
   "execution_count": 127,
   "metadata": {},
   "outputs": [],
   "source": [
    "# Разделяем на обучающую и тестовую выборки:\n",
    "\n",
    "X_train, X_val, Y_train, Y_val = train_test_split(X, Y, test_size = 0.3, random_state=123)"
   ]
  },
  {
   "cell_type": "code",
   "execution_count": 128,
   "metadata": {},
   "outputs": [
    {
     "data": {
      "text/plain": [
       "DecisionTreeClassifier(ccp_alpha=0.0, class_weight=None, criterion='gini',\n",
       "                       max_depth=None, max_features=None, max_leaf_nodes=None,\n",
       "                       min_impurity_decrease=0.0, min_impurity_split=None,\n",
       "                       min_samples_leaf=1, min_samples_split=2,\n",
       "                       min_weight_fraction_leaf=0.0, presort='deprecated',\n",
       "                       random_state=0, splitter='best')"
      ]
     },
     "execution_count": 128,
     "metadata": {},
     "output_type": "execute_result"
    }
   ],
   "source": [
    "# Выбираем модель:\n",
    "from sklearn.tree import DecisionTreeClassifier\n",
    "model = DecisionTreeClassifier(random_state=0)\n",
    "model.fit(X_train, Y_train)"
   ]
  },
  {
   "cell_type": "markdown",
   "metadata": {
    "collapsed": true
   },
   "source": [
    "Как оценить качество классификации?\n",
    "\n",
    "Можно вычислить метрики, которые вы уже знаете:"
   ]
  },
  {
   "cell_type": "code",
   "execution_count": 129,
   "metadata": {},
   "outputs": [
    {
     "name": "stdout",
     "output_type": "stream",
     "text": [
      "0.9473684210526315\n"
     ]
    }
   ],
   "source": [
    "from sklearn.metrics import accuracy_score, precision_score, recall_score\n",
    "\n",
    "Y_predicted = model.predict(X_val)\n",
    "print(accuracy_score(Y_val,Y_predicted))"
   ]
  },
  {
   "cell_type": "code",
   "execution_count": 130,
   "metadata": {},
   "outputs": [
    {
     "name": "stdout",
     "output_type": "stream",
     "text": [
      "0.97\n",
      "0.941747572815534\n"
     ]
    }
   ],
   "source": [
    "print(precision_score(Y_val,Y_predicted))\n",
    "print(recall_score(Y_val,Y_predicted))"
   ]
  }
 ],
 "metadata": {
  "kernelspec": {
   "display_name": "Python 3",
   "language": "python",
   "name": "python3"
  },
  "language_info": {
   "codemirror_mode": {
    "name": "ipython",
    "version": 3
   },
   "file_extension": ".py",
   "mimetype": "text/x-python",
   "name": "python",
   "nbconvert_exporter": "python",
   "pygments_lexer": "ipython3",
   "version": "3.7.6"
  }
 },
 "nbformat": 4,
 "nbformat_minor": 4
}
